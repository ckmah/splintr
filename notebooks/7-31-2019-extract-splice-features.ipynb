{
 "cells": [
  {
   "cell_type": "markdown",
   "metadata": {},
   "source": [
    "# Extract splice event features\n",
    "Given a set of RMATS junction count files, aggregate and remove duplicate events. Write these aggregated events to file.\n",
    "\n",
    "**Runtime**: < 5 minutes (I/O limited)"
   ]
  },
  {
   "cell_type": "code",
   "execution_count": 4,
   "metadata": {},
   "outputs": [
    {
     "name": "stdout",
     "output_type": "stream",
     "text": [
      "The autoreload extension is already loaded. To reload it, use:\n",
      "  %reload_ext autoreload\n",
      "The autotime extension is already loaded. To reload it, use:\n",
      "  %reload_ext autotime\n"
     ]
    },
    {
     "name": "stderr",
     "output_type": "stream",
     "text": [
      "/home/ubuntu/anaconda3/envs/pytorch_p36/lib/python3.6/site-packages/tqdm/autonotebook/__init__.py:14: TqdmExperimentalWarning: Using `tqdm.autonotebook.tqdm` in notebook mode. Use `tqdm.tqdm` instead to force console mode (e.g. in jupyter console)\n",
      "  \" (e.g. in jupyter console)\", TqdmExperimentalWarning)\n"
     ]
    },
    {
     "ename": "ImportError",
     "evalue": "cannot import name 'splice'",
     "output_type": "error",
     "traceback": [
      "\u001b[0;31m---------------------------------------------------------------------------\u001b[0m",
      "\u001b[0;31mImportError\u001b[0m                               Traceback (most recent call last)",
      "\u001b[0;32m<ipython-input-4-2d25f4147897>\u001b[0m in \u001b[0;36m<module>\u001b[0;34m()\u001b[0m\n\u001b[1;32m      7\u001b[0m \u001b[0msys\u001b[0m\u001b[0;34m.\u001b[0m\u001b[0mpath\u001b[0m\u001b[0;34m.\u001b[0m\u001b[0mappend\u001b[0m\u001b[0;34m(\u001b[0m\u001b[0;34m'..'\u001b[0m\u001b[0;34m)\u001b[0m\u001b[0;34m\u001b[0m\u001b[0m\n\u001b[1;32m      8\u001b[0m \u001b[0;34m\u001b[0m\u001b[0m\n\u001b[0;32m----> 9\u001b[0;31m \u001b[0;32mfrom\u001b[0m \u001b[0msplintr\u001b[0m\u001b[0;34m.\u001b[0m\u001b[0mutil\u001b[0m \u001b[0;32mimport\u001b[0m \u001b[0msplice\u001b[0m\u001b[0;34m\u001b[0m\u001b[0m\n\u001b[0m\u001b[1;32m     10\u001b[0m \u001b[0;32mfrom\u001b[0m \u001b[0msplintr\u001b[0m\u001b[0;34m.\u001b[0m\u001b[0mutil\u001b[0m\u001b[0;34m.\u001b[0m\u001b[0msplice\u001b[0m \u001b[0;32mimport\u001b[0m \u001b[0mSpliceData\u001b[0m\u001b[0;34m\u001b[0m\u001b[0m\n\u001b[1;32m     11\u001b[0m \u001b[0;34m\u001b[0m\u001b[0m\n",
      "\u001b[0;31mImportError\u001b[0m: cannot import name 'splice'"
     ]
    },
    {
     "name": "stdout",
     "output_type": "stream",
     "text": [
      "time: 2.5 s\n"
     ]
    }
   ],
   "source": [
    "%load_ext autoreload\n",
    "%autoreload 2\n",
    "%load_ext autotime\n",
    "\n",
    "import os\n",
    "import sys\n",
    "sys.path.append('..')\n",
    "\n",
    "from splintr import splice\n",
    "from splintr.util.splice import SpliceData\n",
    "\n",
    "import pandas as pd\n",
    "import numpy as np\n",
    "\n",
    "import matplotlib.pyplot as plt\n",
    "import seaborn as sns\n",
    "\n",
    "from shutil import copyfile\n",
    "from tqdm.autonotebook import tqdm\n",
    "\n",
    "import multiprocessing\n",
    "from multiprocessing import Pool"
   ]
  },
  {
   "cell_type": "code",
   "execution_count": 5,
   "metadata": {},
   "outputs": [
    {
     "name": "stdout",
     "output_type": "stream",
     "text": [
      "time: 1.34 ms\n"
     ]
    }
   ],
   "source": [
    "def remove_duplicate_events(df):\n",
    "    duplicated = df.iloc[:, 5:-14].duplicated()\n",
    "    df = df.loc[~duplicated]\n",
    "    return df"
   ]
  },
  {
   "cell_type": "code",
   "execution_count": 44,
   "metadata": {},
   "outputs": [
    {
     "data": {
      "application/vnd.jupyter.widget-view+json": {
       "model_id": "1ba6b81b3011434e8dbc04dcabdabe35",
       "version_major": 2,
       "version_minor": 0
      },
      "text/plain": [
       "HBox(children=(IntProgress(value=0, max=5), HTML(value='')))"
      ]
     },
     "metadata": {},
     "output_type": "display_data"
    },
    {
     "data": {
      "text/plain": [
       "[None, None, None, None, None]"
      ]
     },
     "execution_count": 44,
     "metadata": {},
     "output_type": "execute_result"
    },
    {
     "name": "stdout",
     "output_type": "stream",
     "text": [
      "time: 4min\n"
     ]
    }
   ],
   "source": [
    "rmats_dir = '../data/encore_rmats'\n",
    "output_dir = '../data/features'\n",
    "\n",
    "# Iterate over event -> cell line -> RBP\n",
    "def generate_features(event):\n",
    "    cell_lines = os.listdir(f'{rmats_dir}/{event}')\n",
    "    \n",
    "    # cell line\n",
    "    event_all_cell_dataset = []\n",
    "    for cell_line in tqdm(cell_lines, position=1, desc='Cell lines', leave=False):\n",
    "        jc_files = os.listdir(f'{rmats_dir}/{event}/{cell_line}')\n",
    "        \n",
    "        # sample\n",
    "        cell_datasets = []\n",
    "        for jc_file in tqdm(jc_files, position=2, desc='Samples', leave=False):\n",
    "            jc_filepath = f'{rmats_dir}/{event}/{cell_line}/{jc_file}'\n",
    "            sample_name = jc_file.split('.')[0] # parse sample name\n",
    "            \n",
    "            # Load junction counts data\n",
    "            jc = pd.read_csv(jc_filepath, sep='\\t')\n",
    "            jc['event'] = event\n",
    "            \n",
    "            # Set aside non-alternatively spliced events as control\n",
    "            bg_jc = jc.loc[jc['FDR'] > 0.1]\n",
    "            bg_jc = bg_jc.iloc[np.random.randint(bg_jc.shape[0], size=1)]\n",
    "            bg_jc['sample'] = 'bg'\n",
    "            \n",
    "            # Alternatively spliced events\n",
    "            jc = jc.loc[jc['FDR'] < 0.1]\n",
    "            jc['sample'] = sample_name\n",
    "            jc = pd.concat([bg_jc, jc])\n",
    "            \n",
    "            cell_datasets.append(jc)\n",
    "            \n",
    "        # Combine all events for event type\n",
    "        cell_datasets = pd.concat(cell_datasets, ignore_index=True)\n",
    "        \n",
    "        # Remove duplicates\n",
    "        cell_datasets = remove_duplicate_events(cell_datasets)\n",
    "        event_all_cell_dataset.append(cell_datasets)\n",
    "        \n",
    "        # Write to file\n",
    "        file_prefix = f'{output_dir}/{cell_line}_{event}'\n",
    "        cell_datasets.to_csv(f'{file_prefix}.txt', sep='\\t', index=False)\n",
    "\n",
    "    # Combine all events for given event type across all cell lines\n",
    "    event_all_cell_dataset = pd.concat(event_all_cell_dataset, ignore_index=True)\n",
    "    \n",
    "    # remove duplicates\n",
    "    event_all_cell_dataset = remove_duplicate_events(event_all_cell_dataset)\n",
    "    event_all_cell_dataset.to_csv(f'{output_dir}/{event}.txt', sep='\\t', index=False)\n",
    "    \n",
    "events = os.listdir(rmats_dir)\n",
    "p = Pool(4)\n",
    "list(tqdm(p.imap_unordered(generate_features, events), total=len(events)))"
   ]
  },
  {
   "cell_type": "code",
   "execution_count": 2,
   "metadata": {},
   "outputs": [
    {
     "ename": "NameError",
     "evalue": "name 'pd' is not defined",
     "output_type": "error",
     "traceback": [
      "\u001b[0;31m---------------------------------------------------------------------------\u001b[0m",
      "\u001b[0;31mNameError\u001b[0m                                 Traceback (most recent call last)",
      "\u001b[0;32m<ipython-input-2-dfe34844ec5f>\u001b[0m in \u001b[0;36m<module>\u001b[0;34m()\u001b[0m\n\u001b[0;32m----> 1\u001b[0;31m \u001b[0mdata\u001b[0m \u001b[0;34m=\u001b[0m \u001b[0mpd\u001b[0m\u001b[0;34m.\u001b[0m\u001b[0mread_csv\u001b[0m\u001b[0;34m(\u001b[0m\u001b[0;34m'../data/features/RI.txt'\u001b[0m\u001b[0;34m)\u001b[0m\u001b[0;34m\u001b[0m\u001b[0m\n\u001b[0m",
      "\u001b[0;31mNameError\u001b[0m: name 'pd' is not defined"
     ]
    },
    {
     "name": "stdout",
     "output_type": "stream",
     "text": [
      "time: 8.26 ms\n"
     ]
    }
   ],
   "source": [
    "data = pd.read_csv('../data/features/RI.txt')"
   ]
  },
  {
   "cell_type": "code",
   "execution_count": null,
   "metadata": {},
   "outputs": [],
   "source": []
  }
 ],
 "metadata": {
  "kernelspec": {
   "display_name": "Environment (conda_pytorch_p36)",
   "language": "python",
   "name": "conda_pytorch_p36"
  },
  "language_info": {
   "codemirror_mode": {
    "name": "ipython",
    "version": 3
   },
   "file_extension": ".py",
   "mimetype": "text/x-python",
   "name": "python",
   "nbconvert_exporter": "python",
   "pygments_lexer": "ipython3",
   "version": "3.6.5"
  }
 },
 "nbformat": 4,
 "nbformat_minor": 4
}
