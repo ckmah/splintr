{
 "cells": [
  {
   "cell_type": "code",
   "execution_count": 2,
   "metadata": {},
   "outputs": [
    {
     "name": "stderr",
     "output_type": "stream",
     "text": [
      "/home/ubuntu/anaconda3/envs/pytorch_p36/lib/python3.6/site-packages/tqdm/autonotebook/__init__.py:14: TqdmExperimentalWarning: Using `tqdm.autonotebook.tqdm` in notebook mode. Use `tqdm.tqdm` instead to force console mode (e.g. in jupyter console)\n",
      "  \" (e.g. in jupyter console)\", TqdmExperimentalWarning)\n"
     ]
    }
   ],
   "source": [
    "%load_ext autoreload\n",
    "%autoreload 2\n",
    "%load_ext autotime\n",
    "\n",
    "import os\n",
    "import sys\n",
    "sys.path.append('..')\n",
    "\n",
    "from collections import OrderedDict\n",
    "\n",
    "import splintr as sp\n",
    "from splintr.splice import rmats_subset_top_events\n",
    "sp.verbose = True\n",
    "\n",
    "import pandas as pd\n",
    "import numpy as np\n",
    "import matplotlib.pyplot as plt\n",
    "import seaborn as sns\n",
    "from sklearn.model_selection import GridSearchCV\n",
    "\n",
    "import torch\n",
    "from torch.utils.data import Dataset, DataLoader, ConcatDataset, WeightedRandomSampler\n",
    "import torch.nn.functional as F\n",
    "from torchsummary import summary\n",
    "\n",
    "from tqdm import tqdm, tqdm_notebook\n",
    "\n",
    "# Ignore warnings\n",
    "import warnings\n",
    "warnings.filterwarnings(\"ignore\")\n",
    "\n",
    "use_cuda = torch.cuda.is_available()\n",
    "device = torch.device(\"cuda:0\" if use_cuda else \"cpu\")\n",
    "\n",
    "seed = 99\n",
    "np.random.seed(seed)\n",
    "torch.manual_seed(seed)\n",
    "torch.set_num_threads=16"
   ]
  },
  {
   "cell_type": "code",
   "execution_count": 3,
   "metadata": {},
   "outputs": [
    {
     "data": {
      "text/plain": [
       "2"
      ]
     },
     "execution_count": 3,
     "metadata": {},
     "output_type": "execute_result"
    },
    {
     "name": "stdout",
     "output_type": "stream",
     "text": [
      "time: 3.58 ms\n"
     ]
    }
   ],
   "source": [
    "torch.get_num_threads()"
   ]
  },
  {
   "cell_type": "markdown",
   "metadata": {},
   "source": [
    "# Load and transform dataset"
   ]
  },
  {
   "cell_type": "code",
   "execution_count": 4,
   "metadata": {},
   "outputs": [
    {
     "data": {
      "application/vnd.jupyter.widget-view+json": {
       "model_id": "64535670257141ceb04a9665b48a800c",
       "version_major": 2,
       "version_minor": 0
      },
      "text/plain": [
       "HBox(children=(IntProgress(value=0, description='Pandas Apply', max=905, style=ProgressStyle(description_width…"
      ]
     },
     "metadata": {},
     "output_type": "display_data"
    },
    {
     "name": "stdout",
     "output_type": "stream",
     "text": [
      "\n"
     ]
    },
    {
     "data": {
      "application/vnd.jupyter.widget-view+json": {
       "model_id": "",
       "version_major": 2,
       "version_minor": 0
      },
      "text/plain": [
       "HBox(children=(IntProgress(value=0, max=905), HTML(value='')))"
      ]
     },
     "metadata": {},
     "output_type": "display_data"
    },
    {
     "name": "stdout",
     "output_type": "stream",
     "text": [
      "\r"
     ]
    },
    {
     "data": {
      "application/vnd.jupyter.widget-view+json": {
       "model_id": "b9707e1c513b47d0b088d98cd2321f24",
       "version_major": 2,
       "version_minor": 0
      },
      "text/plain": [
       "HBox(children=(IntProgress(value=0, description='Pandas Apply', max=905, style=ProgressStyle(description_width…"
      ]
     },
     "metadata": {},
     "output_type": "display_data"
    },
    {
     "name": "stdout",
     "output_type": "stream",
     "text": [
      "\n"
     ]
    },
    {
     "data": {
      "application/vnd.jupyter.widget-view+json": {
       "model_id": "",
       "version_major": 2,
       "version_minor": 0
      },
      "text/plain": [
       "HBox(children=(IntProgress(value=0, max=905), HTML(value='')))"
      ]
     },
     "metadata": {},
     "output_type": "display_data"
    },
    {
     "name": "stdout",
     "output_type": "stream",
     "text": [
      "\r"
     ]
    },
    {
     "data": {
      "application/vnd.jupyter.widget-view+json": {
       "model_id": "45c02e6a67804db39144bdf691ef47fa",
       "version_major": 2,
       "version_minor": 0
      },
      "text/plain": [
       "HBox(children=(IntProgress(value=0, description='Pandas Apply', max=905, style=ProgressStyle(description_width…"
      ]
     },
     "metadata": {},
     "output_type": "display_data"
    },
    {
     "name": "stdout",
     "output_type": "stream",
     "text": [
      "\n"
     ]
    },
    {
     "data": {
      "application/vnd.jupyter.widget-view+json": {
       "model_id": "",
       "version_major": 2,
       "version_minor": 0
      },
      "text/plain": [
       "HBox(children=(IntProgress(value=0, max=905), HTML(value='')))"
      ]
     },
     "metadata": {},
     "output_type": "display_data"
    },
    {
     "name": "stdout",
     "output_type": "stream",
     "text": [
      "\r"
     ]
    },
    {
     "data": {
      "application/vnd.jupyter.widget-view+json": {
       "model_id": "dbd43facfdba4d7394c37869b9688e9e",
       "version_major": 2,
       "version_minor": 0
      },
      "text/plain": [
       "HBox(children=(IntProgress(value=0, description='Pandas Apply', max=905, style=ProgressStyle(description_width…"
      ]
     },
     "metadata": {},
     "output_type": "display_data"
    },
    {
     "name": "stdout",
     "output_type": "stream",
     "text": [
      "\n"
     ]
    },
    {
     "data": {
      "application/vnd.jupyter.widget-view+json": {
       "model_id": "",
       "version_major": 2,
       "version_minor": 0
      },
      "text/plain": [
       "HBox(children=(IntProgress(value=0, max=905), HTML(value='')))"
      ]
     },
     "metadata": {},
     "output_type": "display_data"
    },
    {
     "name": "stdout",
     "output_type": "stream",
     "text": [
      "\r"
     ]
    },
    {
     "data": {
      "application/vnd.jupyter.widget-view+json": {
       "model_id": "a5a8e77ac518413f9cdf1ed9a4f302f5",
       "version_major": 2,
       "version_minor": 0
      },
      "text/plain": [
       "HBox(children=(IntProgress(value=0, description='Pandas Apply', max=905, style=ProgressStyle(description_width…"
      ]
     },
     "metadata": {},
     "output_type": "display_data"
    },
    {
     "name": "stdout",
     "output_type": "stream",
     "text": [
      "\n"
     ]
    },
    {
     "data": {
      "application/vnd.jupyter.widget-view+json": {
       "model_id": "",
       "version_major": 2,
       "version_minor": 0
      },
      "text/plain": [
       "HBox(children=(IntProgress(value=0, max=905), HTML(value='')))"
      ]
     },
     "metadata": {},
     "output_type": "display_data"
    },
    {
     "name": "stdout",
     "output_type": "stream",
     "text": [
      "\r"
     ]
    },
    {
     "data": {
      "application/vnd.jupyter.widget-view+json": {
       "model_id": "0ce3eec6aba24beda004d6eb16e3aa87",
       "version_major": 2,
       "version_minor": 0
      },
      "text/plain": [
       "HBox(children=(IntProgress(value=0, description='Pandas Apply', max=905, style=ProgressStyle(description_width…"
      ]
     },
     "metadata": {},
     "output_type": "display_data"
    },
    {
     "name": "stdout",
     "output_type": "stream",
     "text": [
      "\n"
     ]
    },
    {
     "data": {
      "application/vnd.jupyter.widget-view+json": {
       "model_id": "",
       "version_major": 2,
       "version_minor": 0
      },
      "text/plain": [
       "HBox(children=(IntProgress(value=0, max=905), HTML(value='')))"
      ]
     },
     "metadata": {},
     "output_type": "display_data"
    },
    {
     "name": "stdout",
     "output_type": "stream",
     "text": [
      "\r"
     ]
    },
    {
     "data": {
      "application/vnd.jupyter.widget-view+json": {
       "model_id": "0b2fcd20286f4d3cb368e849e3a310c8",
       "version_major": 2,
       "version_minor": 0
      },
      "text/plain": [
       "HBox(children=(IntProgress(value=0, description='Pandas Apply', max=905, style=ProgressStyle(description_width…"
      ]
     },
     "metadata": {},
     "output_type": "display_data"
    },
    {
     "name": "stdout",
     "output_type": "stream",
     "text": [
      "\n"
     ]
    },
    {
     "data": {
      "application/vnd.jupyter.widget-view+json": {
       "model_id": "",
       "version_major": 2,
       "version_minor": 0
      },
      "text/plain": [
       "HBox(children=(IntProgress(value=0, max=905), HTML(value='')))"
      ]
     },
     "metadata": {},
     "output_type": "display_data"
    },
    {
     "name": "stdout",
     "output_type": "stream",
     "text": [
      "\r"
     ]
    },
    {
     "data": {
      "application/vnd.jupyter.widget-view+json": {
       "model_id": "f478e0a6d83d48feb2ed91974f401574",
       "version_major": 2,
       "version_minor": 0
      },
      "text/plain": [
       "HBox(children=(IntProgress(value=0, description='Pandas Apply', max=905, style=ProgressStyle(description_width…"
      ]
     },
     "metadata": {},
     "output_type": "display_data"
    },
    {
     "name": "stdout",
     "output_type": "stream",
     "text": [
      "\n"
     ]
    },
    {
     "data": {
      "application/vnd.jupyter.widget-view+json": {
       "model_id": "",
       "version_major": 2,
       "version_minor": 0
      },
      "text/plain": [
       "HBox(children=(IntProgress(value=0, max=905), HTML(value='')))"
      ]
     },
     "metadata": {},
     "output_type": "display_data"
    },
    {
     "name": "stdout",
     "output_type": "stream",
     "text": [
      "\r"
     ]
    },
    {
     "data": {
      "application/vnd.jupyter.widget-view+json": {
       "model_id": "7fd6340dc978483ea3cb2613470bbea2",
       "version_major": 2,
       "version_minor": 0
      },
      "text/plain": [
       "HBox(children=(IntProgress(value=0, description='Pandas Apply', max=905, style=ProgressStyle(description_width…"
      ]
     },
     "metadata": {},
     "output_type": "display_data"
    },
    {
     "name": "stdout",
     "output_type": "stream",
     "text": [
      "\n"
     ]
    },
    {
     "data": {
      "application/vnd.jupyter.widget-view+json": {
       "model_id": "",
       "version_major": 2,
       "version_minor": 0
      },
      "text/plain": [
       "HBox(children=(IntProgress(value=0, max=905), HTML(value='')))"
      ]
     },
     "metadata": {},
     "output_type": "display_data"
    },
    {
     "name": "stdout",
     "output_type": "stream",
     "text": [
      "\r"
     ]
    },
    {
     "data": {
      "application/vnd.jupyter.widget-view+json": {
       "model_id": "ea4634cfc6044242b8ac30a0d8667397",
       "version_major": 2,
       "version_minor": 0
      },
      "text/plain": [
       "HBox(children=(IntProgress(value=0, description='Pandas Apply', max=905, style=ProgressStyle(description_width…"
      ]
     },
     "metadata": {},
     "output_type": "display_data"
    },
    {
     "name": "stdout",
     "output_type": "stream",
     "text": [
      "\n"
     ]
    },
    {
     "data": {
      "application/vnd.jupyter.widget-view+json": {
       "model_id": "",
       "version_major": 2,
       "version_minor": 0
      },
      "text/plain": [
       "HBox(children=(IntProgress(value=0, max=905), HTML(value='')))"
      ]
     },
     "metadata": {},
     "output_type": "display_data"
    },
    {
     "name": "stdout",
     "output_type": "stream",
     "text": [
      "\r"
     ]
    },
    {
     "data": {
      "application/vnd.jupyter.widget-view+json": {
       "model_id": "5f63769f5d60430697d2ea7cdd1bd7cd",
       "version_major": 2,
       "version_minor": 0
      },
      "text/plain": [
       "HBox(children=(IntProgress(value=0, description='Pandas Apply', max=905, style=ProgressStyle(description_width…"
      ]
     },
     "metadata": {},
     "output_type": "display_data"
    },
    {
     "name": "stdout",
     "output_type": "stream",
     "text": [
      "\n"
     ]
    },
    {
     "data": {
      "application/vnd.jupyter.widget-view+json": {
       "model_id": "",
       "version_major": 2,
       "version_minor": 0
      },
      "text/plain": [
       "HBox(children=(IntProgress(value=0, max=905), HTML(value='')))"
      ]
     },
     "metadata": {},
     "output_type": "display_data"
    },
    {
     "name": "stdout",
     "output_type": "stream",
     "text": [
      "\r"
     ]
    },
    {
     "data": {
      "application/vnd.jupyter.widget-view+json": {
       "model_id": "ff9f648c0e6b4a97b823f962982f0f3e",
       "version_major": 2,
       "version_minor": 0
      },
      "text/plain": [
       "HBox(children=(IntProgress(value=0, description='Pandas Apply', max=905, style=ProgressStyle(description_width…"
      ]
     },
     "metadata": {},
     "output_type": "display_data"
    },
    {
     "name": "stdout",
     "output_type": "stream",
     "text": [
      "\n"
     ]
    },
    {
     "data": {
      "application/vnd.jupyter.widget-view+json": {
       "model_id": "",
       "version_major": 2,
       "version_minor": 0
      },
      "text/plain": [
       "HBox(children=(IntProgress(value=0, max=905), HTML(value='')))"
      ]
     },
     "metadata": {},
     "output_type": "display_data"
    },
    {
     "name": "stdout",
     "output_type": "stream",
     "text": [
      "\r"
     ]
    },
    {
     "data": {
      "application/vnd.jupyter.widget-view+json": {
       "model_id": "c6217dad25a74b21a33516b5addee929",
       "version_major": 2,
       "version_minor": 0
      },
      "text/plain": [
       "HBox(children=(IntProgress(value=0, description='Pandas Apply', max=905, style=ProgressStyle(description_width…"
      ]
     },
     "metadata": {},
     "output_type": "display_data"
    },
    {
     "name": "stdout",
     "output_type": "stream",
     "text": [
      "\n"
     ]
    },
    {
     "data": {
      "application/vnd.jupyter.widget-view+json": {
       "model_id": "",
       "version_major": 2,
       "version_minor": 0
      },
      "text/plain": [
       "HBox(children=(IntProgress(value=0, max=905), HTML(value='')))"
      ]
     },
     "metadata": {},
     "output_type": "display_data"
    },
    {
     "name": "stdout",
     "output_type": "stream",
     "text": [
      "\r"
     ]
    },
    {
     "data": {
      "application/vnd.jupyter.widget-view+json": {
       "model_id": "86181295d7a04a75a5e259607b9d31a6",
       "version_major": 2,
       "version_minor": 0
      },
      "text/plain": [
       "HBox(children=(IntProgress(value=0, description='Pandas Apply', max=905, style=ProgressStyle(description_width…"
      ]
     },
     "metadata": {},
     "output_type": "display_data"
    },
    {
     "name": "stdout",
     "output_type": "stream",
     "text": [
      "\n"
     ]
    },
    {
     "data": {
      "application/vnd.jupyter.widget-view+json": {
       "model_id": "",
       "version_major": 2,
       "version_minor": 0
      },
      "text/plain": [
       "HBox(children=(IntProgress(value=0, max=905), HTML(value='')))"
      ]
     },
     "metadata": {},
     "output_type": "display_data"
    },
    {
     "name": "stdout",
     "output_type": "stream",
     "text": [
      "\r"
     ]
    },
    {
     "data": {
      "application/vnd.jupyter.widget-view+json": {
       "model_id": "5659af1001ff4dc99f0b672f305f67ba",
       "version_major": 2,
       "version_minor": 0
      },
      "text/plain": [
       "HBox(children=(IntProgress(value=0, description='Pandas Apply', max=905, style=ProgressStyle(description_width…"
      ]
     },
     "metadata": {},
     "output_type": "display_data"
    },
    {
     "name": "stdout",
     "output_type": "stream",
     "text": [
      "\n"
     ]
    },
    {
     "data": {
      "application/vnd.jupyter.widget-view+json": {
       "model_id": "",
       "version_major": 2,
       "version_minor": 0
      },
      "text/plain": [
       "HBox(children=(IntProgress(value=0, max=905), HTML(value='')))"
      ]
     },
     "metadata": {},
     "output_type": "display_data"
    },
    {
     "name": "stdout",
     "output_type": "stream",
     "text": [
      "\r"
     ]
    },
    {
     "data": {
      "application/vnd.jupyter.widget-view+json": {
       "model_id": "c61e2cc4e9c7417fb13fb954e9b81a3d",
       "version_major": 2,
       "version_minor": 0
      },
      "text/plain": [
       "HBox(children=(IntProgress(value=0, description='Pandas Apply', max=905, style=ProgressStyle(description_width…"
      ]
     },
     "metadata": {},
     "output_type": "display_data"
    },
    {
     "name": "stdout",
     "output_type": "stream",
     "text": [
      "\n"
     ]
    },
    {
     "data": {
      "application/vnd.jupyter.widget-view+json": {
       "model_id": "",
       "version_major": 2,
       "version_minor": 0
      },
      "text/plain": [
       "HBox(children=(IntProgress(value=0, max=905), HTML(value='')))"
      ]
     },
     "metadata": {},
     "output_type": "display_data"
    },
    {
     "name": "stdout",
     "output_type": "stream",
     "text": [
      "\r"
     ]
    },
    {
     "data": {
      "application/vnd.jupyter.widget-view+json": {
       "model_id": "4bec9eddf70944ac8951121cbcb2ad75",
       "version_major": 2,
       "version_minor": 0
      },
      "text/plain": [
       "HBox(children=(IntProgress(value=0, description='Pandas Apply', max=905, style=ProgressStyle(description_width…"
      ]
     },
     "metadata": {},
     "output_type": "display_data"
    },
    {
     "name": "stdout",
     "output_type": "stream",
     "text": [
      "\n"
     ]
    },
    {
     "data": {
      "application/vnd.jupyter.widget-view+json": {
       "model_id": "",
       "version_major": 2,
       "version_minor": 0
      },
      "text/plain": [
       "HBox(children=(IntProgress(value=0, max=905), HTML(value='')))"
      ]
     },
     "metadata": {},
     "output_type": "display_data"
    },
    {
     "name": "stdout",
     "output_type": "stream",
     "text": [
      "\r"
     ]
    },
    {
     "data": {
      "application/vnd.jupyter.widget-view+json": {
       "model_id": "0ef6eb6df7fd413e9d42cd9ed12352f1",
       "version_major": 2,
       "version_minor": 0
      },
      "text/plain": [
       "HBox(children=(IntProgress(value=0, description='Pandas Apply', max=905, style=ProgressStyle(description_width…"
      ]
     },
     "metadata": {},
     "output_type": "display_data"
    },
    {
     "name": "stdout",
     "output_type": "stream",
     "text": [
      "\n"
     ]
    },
    {
     "data": {
      "application/vnd.jupyter.widget-view+json": {
       "model_id": "",
       "version_major": 2,
       "version_minor": 0
      },
      "text/plain": [
       "HBox(children=(IntProgress(value=0, max=905), HTML(value='')))"
      ]
     },
     "metadata": {},
     "output_type": "display_data"
    },
    {
     "name": "stdout",
     "output_type": "stream",
     "text": [
      "\r"
     ]
    },
    {
     "data": {
      "application/vnd.jupyter.widget-view+json": {
       "model_id": "71e9bf553e3c41d58d77d97adc0519dd",
       "version_major": 2,
       "version_minor": 0
      },
      "text/plain": [
       "HBox(children=(IntProgress(value=0, description='Pandas Apply', max=905, style=ProgressStyle(description_width…"
      ]
     },
     "metadata": {},
     "output_type": "display_data"
    },
    {
     "name": "stdout",
     "output_type": "stream",
     "text": [
      "\n"
     ]
    },
    {
     "data": {
      "application/vnd.jupyter.widget-view+json": {
       "model_id": "",
       "version_major": 2,
       "version_minor": 0
      },
      "text/plain": [
       "HBox(children=(IntProgress(value=0, max=905), HTML(value='')))"
      ]
     },
     "metadata": {},
     "output_type": "display_data"
    },
    {
     "name": "stdout",
     "output_type": "stream",
     "text": [
      "\r"
     ]
    },
    {
     "data": {
      "application/vnd.jupyter.widget-view+json": {
       "model_id": "e5664e85878f44b3b3450f28aaa9fc5a",
       "version_major": 2,
       "version_minor": 0
      },
      "text/plain": [
       "HBox(children=(IntProgress(value=0, description='Pandas Apply', max=905, style=ProgressStyle(description_width…"
      ]
     },
     "metadata": {},
     "output_type": "display_data"
    },
    {
     "name": "stdout",
     "output_type": "stream",
     "text": [
      "\n"
     ]
    },
    {
     "data": {
      "application/vnd.jupyter.widget-view+json": {
       "model_id": "",
       "version_major": 2,
       "version_minor": 0
      },
      "text/plain": [
       "HBox(children=(IntProgress(value=0, max=905), HTML(value='')))"
      ]
     },
     "metadata": {},
     "output_type": "display_data"
    },
    {
     "name": "stdout",
     "output_type": "stream",
     "text": [
      "time: 9.29 s\n"
     ]
    }
   ],
   "source": [
    "# Parameters\n",
    "data_dir = '../data/features'\n",
    "feature_file = f'{data_dir}/SE.txt'\n",
    "feature_df = rmats_subset_top_events(feature_file, 5)\n",
    "feature_df = feature_df.loc[feature_df.IncLevelDifference > 0] # upregulated AS events\n",
    "\n",
    "# Additional parameters for loading data\n",
    "seq_length = 250\n",
    "genome_fa = '../data/hg19.fa'\n",
    "augmented_data = []\n",
    "k = 10\n",
    "\n",
    "# Sample from each splice event k times\n",
    "# Necessary transforms: PadSequence, ToOneHotEncoding; Optional transforms: CropSequence, ReverseComplement\n",
    "for i in range(k): \n",
    "    # Load and perform necessary transforms on dataset\n",
    "    tf1 = [sp.PadSequence(seq_length), sp.CropSequence(seq_length)]\n",
    "    augmented_data.append(sp.SpliceEventDataset(feature_file=feature_df,\n",
    "                                                genome_fa=genome_fa,\n",
    "                                                transform=tf1))\n",
    "    \n",
    "    # Load and perform necessary and optional transforms on dataset\n",
    "    tf2 = [sp.PadSequence(seq_length), sp.CropSequence(seq_length), sp.ReverseComplement()]\n",
    "    augmented_data.append(sp.SpliceEventDataset(feature_file=feature_df,\n",
    "                                                genome_fa=genome_fa,\n",
    "                                                transform=tf2))\n",
    "    \n",
    "splice_dataset = torch.utils.data.ConcatDataset(augmented_data)"
   ]
  },
  {
   "cell_type": "code",
   "execution_count": 5,
   "metadata": {},
   "outputs": [
    {
     "name": "stdout",
     "output_type": "stream",
     "text": [
      "AQR       234\n",
      "HNRNPC    220\n",
      "bg        178\n",
      "U2AF2     135\n",
      "RBM15      83\n",
      "U2AF1      55\n",
      "Name: sample, dtype: int64\n",
      "Classes: 6\n",
      "time: 6.3 s\n"
     ]
    }
   ],
   "source": [
    "train_size = int(0.8*len(splice_dataset))\n",
    "splice_size = int(len(splice_dataset) - train_size)\n",
    "train_dataset, valid_dataset = torch.utils.data.random_split(splice_dataset, [train_size, splice_size])\n",
    "\n",
    "# Convert categorical labels to numerical\n",
    "print(feature_df['sample'].value_counts())\n",
    "label_names = pd.factorize(feature_df['sample'])\n",
    "\n",
    "num_classes = int(max(label_names[0]) + 1)\n",
    "print(f'Classes: {num_classes}')\n",
    "\n",
    "sample_weights = []\n",
    "# Balance class sampling using weighted sampler\n",
    "for dataset in [train_dataset, valid_dataset]:\n",
    "    labels = [sample[1] for sample in dataset] # get label of each sample\n",
    "    weights = 100. / pd.Series(labels).value_counts() # class weights\n",
    "    weights = weights[labels] # \n",
    "    sample_weights.append(weights.values)\n",
    "\n",
    "train_sampler = WeightedRandomSampler(weights=sample_weights[0],\n",
    "                                      num_samples=len(sample_weights[0]))\n",
    "valid_sampler = WeightedRandomSampler(weights=sample_weights[1],\n",
    "                                      num_samples=len(sample_weights[1]))"
   ]
  },
  {
   "cell_type": "code",
   "execution_count": 18,
   "metadata": {},
   "outputs": [
    {
     "data": {
      "text/plain": [
       "-7"
      ]
     },
     "execution_count": 18,
     "metadata": {},
     "output_type": "execute_result"
    },
    {
     "name": "stdout",
     "output_type": "stream",
     "text": [
      "time: 2.41 ms\n"
     ]
    }
   ],
   "source": [
    "sp.learning._calc_conv_pad(250, 50, 40, 5)"
   ]
  },
  {
   "cell_type": "code",
   "execution_count": 16,
   "metadata": {},
   "outputs": [
    {
     "data": {
      "text/html": [
       "<div>\n",
       "<style scoped>\n",
       "    .dataframe tbody tr th:only-of-type {\n",
       "        vertical-align: middle;\n",
       "    }\n",
       "\n",
       "    .dataframe tbody tr th {\n",
       "        vertical-align: top;\n",
       "    }\n",
       "\n",
       "    .dataframe thead th {\n",
       "        text-align: right;\n",
       "    }\n",
       "</style>\n",
       "<table border=\"1\" class=\"dataframe\">\n",
       "  <thead>\n",
       "    <tr style=\"text-align: right;\">\n",
       "      <th></th>\n",
       "      <th>run</th>\n",
       "      <th>epoch</th>\n",
       "      <th>train_loss</th>\n",
       "      <th>valid_loss</th>\n",
       "      <th>train_accuracy</th>\n",
       "      <th>valid_accuracy</th>\n",
       "      <th>epoch_duration</th>\n",
       "      <th>run_duration</th>\n",
       "      <th>num_classes</th>\n",
       "      <th>c1_in</th>\n",
       "      <th>...</th>\n",
       "      <th>c1_stride_w</th>\n",
       "      <th>c2_out</th>\n",
       "      <th>c2_kernel_w</th>\n",
       "      <th>c2_filter</th>\n",
       "      <th>c2_stride_w</th>\n",
       "      <th>fc_out</th>\n",
       "      <th>batch_size</th>\n",
       "      <th>lr</th>\n",
       "      <th>weight_decay</th>\n",
       "      <th>dropout</th>\n",
       "    </tr>\n",
       "  </thead>\n",
       "  <tbody>\n",
       "    <tr>\n",
       "      <th>0</th>\n",
       "      <td>1</td>\n",
       "      <td>1</td>\n",
       "      <td>1.794070</td>\n",
       "      <td>1.806097</td>\n",
       "      <td>0.169820</td>\n",
       "      <td>0.175138</td>\n",
       "      <td>7.818209</td>\n",
       "      <td>7.861254</td>\n",
       "      <td>6</td>\n",
       "      <td>250</td>\n",
       "      <td>...</td>\n",
       "      <td>5</td>\n",
       "      <td>6</td>\n",
       "      <td>4</td>\n",
       "      <td>8</td>\n",
       "      <td>4</td>\n",
       "      <td>8</td>\n",
       "      <td>32</td>\n",
       "      <td>0.0001</td>\n",
       "      <td>0</td>\n",
       "      <td>0</td>\n",
       "    </tr>\n",
       "    <tr>\n",
       "      <th>1</th>\n",
       "      <td>1</td>\n",
       "      <td>2</td>\n",
       "      <td>1.793703</td>\n",
       "      <td>1.805805</td>\n",
       "      <td>0.176519</td>\n",
       "      <td>0.169613</td>\n",
       "      <td>7.807177</td>\n",
       "      <td>15.777744</td>\n",
       "      <td>6</td>\n",
       "      <td>250</td>\n",
       "      <td>...</td>\n",
       "      <td>5</td>\n",
       "      <td>6</td>\n",
       "      <td>4</td>\n",
       "      <td>8</td>\n",
       "      <td>4</td>\n",
       "      <td>8</td>\n",
       "      <td>32</td>\n",
       "      <td>0.0001</td>\n",
       "      <td>0</td>\n",
       "      <td>0</td>\n",
       "    </tr>\n",
       "    <tr>\n",
       "      <th>2</th>\n",
       "      <td>1</td>\n",
       "      <td>3</td>\n",
       "      <td>1.793577</td>\n",
       "      <td>1.804833</td>\n",
       "      <td>0.176865</td>\n",
       "      <td>0.188398</td>\n",
       "      <td>7.800598</td>\n",
       "      <td>23.688742</td>\n",
       "      <td>6</td>\n",
       "      <td>250</td>\n",
       "      <td>...</td>\n",
       "      <td>5</td>\n",
       "      <td>6</td>\n",
       "      <td>4</td>\n",
       "      <td>8</td>\n",
       "      <td>4</td>\n",
       "      <td>8</td>\n",
       "      <td>32</td>\n",
       "      <td>0.0001</td>\n",
       "      <td>0</td>\n",
       "      <td>0</td>\n",
       "    </tr>\n",
       "    <tr>\n",
       "      <th>3</th>\n",
       "      <td>1</td>\n",
       "      <td>4</td>\n",
       "      <td>1.792821</td>\n",
       "      <td>1.803963</td>\n",
       "      <td>0.187707</td>\n",
       "      <td>0.179282</td>\n",
       "      <td>7.831136</td>\n",
       "      <td>31.624688</td>\n",
       "      <td>6</td>\n",
       "      <td>250</td>\n",
       "      <td>...</td>\n",
       "      <td>5</td>\n",
       "      <td>6</td>\n",
       "      <td>4</td>\n",
       "      <td>8</td>\n",
       "      <td>4</td>\n",
       "      <td>8</td>\n",
       "      <td>32</td>\n",
       "      <td>0.0001</td>\n",
       "      <td>0</td>\n",
       "      <td>0</td>\n",
       "    </tr>\n",
       "    <tr>\n",
       "      <th>4</th>\n",
       "      <td>1</td>\n",
       "      <td>5</td>\n",
       "      <td>1.792118</td>\n",
       "      <td>1.803683</td>\n",
       "      <td>0.184323</td>\n",
       "      <td>0.183978</td>\n",
       "      <td>7.821724</td>\n",
       "      <td>39.562947</td>\n",
       "      <td>6</td>\n",
       "      <td>250</td>\n",
       "      <td>...</td>\n",
       "      <td>5</td>\n",
       "      <td>6</td>\n",
       "      <td>4</td>\n",
       "      <td>8</td>\n",
       "      <td>4</td>\n",
       "      <td>8</td>\n",
       "      <td>32</td>\n",
       "      <td>0.0001</td>\n",
       "      <td>0</td>\n",
       "      <td>0</td>\n",
       "    </tr>\n",
       "    <tr>\n",
       "      <th>5</th>\n",
       "      <td>1</td>\n",
       "      <td>6</td>\n",
       "      <td>1.789671</td>\n",
       "      <td>1.798516</td>\n",
       "      <td>0.188052</td>\n",
       "      <td>0.196685</td>\n",
       "      <td>7.800498</td>\n",
       "      <td>47.477336</td>\n",
       "      <td>6</td>\n",
       "      <td>250</td>\n",
       "      <td>...</td>\n",
       "      <td>5</td>\n",
       "      <td>6</td>\n",
       "      <td>4</td>\n",
       "      <td>8</td>\n",
       "      <td>4</td>\n",
       "      <td>8</td>\n",
       "      <td>32</td>\n",
       "      <td>0.0001</td>\n",
       "      <td>0</td>\n",
       "      <td>0</td>\n",
       "    </tr>\n",
       "    <tr>\n",
       "      <th>6</th>\n",
       "      <td>1</td>\n",
       "      <td>7</td>\n",
       "      <td>1.787544</td>\n",
       "      <td>1.795165</td>\n",
       "      <td>0.195166</td>\n",
       "      <td>0.209669</td>\n",
       "      <td>7.814536</td>\n",
       "      <td>55.406424</td>\n",
       "      <td>6</td>\n",
       "      <td>250</td>\n",
       "      <td>...</td>\n",
       "      <td>5</td>\n",
       "      <td>6</td>\n",
       "      <td>4</td>\n",
       "      <td>8</td>\n",
       "      <td>4</td>\n",
       "      <td>8</td>\n",
       "      <td>32</td>\n",
       "      <td>0.0001</td>\n",
       "      <td>0</td>\n",
       "      <td>0</td>\n",
       "    </tr>\n",
       "    <tr>\n",
       "      <th>7</th>\n",
       "      <td>1</td>\n",
       "      <td>8</td>\n",
       "      <td>1.784245</td>\n",
       "      <td>1.795464</td>\n",
       "      <td>0.204282</td>\n",
       "      <td>0.215193</td>\n",
       "      <td>7.804457</td>\n",
       "      <td>63.328367</td>\n",
       "      <td>6</td>\n",
       "      <td>250</td>\n",
       "      <td>...</td>\n",
       "      <td>5</td>\n",
       "      <td>6</td>\n",
       "      <td>4</td>\n",
       "      <td>8</td>\n",
       "      <td>4</td>\n",
       "      <td>8</td>\n",
       "      <td>32</td>\n",
       "      <td>0.0001</td>\n",
       "      <td>0</td>\n",
       "      <td>0</td>\n",
       "    </tr>\n",
       "    <tr>\n",
       "      <th>8</th>\n",
       "      <td>1</td>\n",
       "      <td>9</td>\n",
       "      <td>1.780774</td>\n",
       "      <td>1.788628</td>\n",
       "      <td>0.212086</td>\n",
       "      <td>0.212983</td>\n",
       "      <td>7.972440</td>\n",
       "      <td>71.419100</td>\n",
       "      <td>6</td>\n",
       "      <td>250</td>\n",
       "      <td>...</td>\n",
       "      <td>5</td>\n",
       "      <td>6</td>\n",
       "      <td>4</td>\n",
       "      <td>8</td>\n",
       "      <td>4</td>\n",
       "      <td>8</td>\n",
       "      <td>32</td>\n",
       "      <td>0.0001</td>\n",
       "      <td>0</td>\n",
       "      <td>0</td>\n",
       "    </tr>\n",
       "    <tr>\n",
       "      <th>9</th>\n",
       "      <td>1</td>\n",
       "      <td>10</td>\n",
       "      <td>1.778056</td>\n",
       "      <td>1.789997</td>\n",
       "      <td>0.223964</td>\n",
       "      <td>0.231215</td>\n",
       "      <td>7.812672</td>\n",
       "      <td>79.347114</td>\n",
       "      <td>6</td>\n",
       "      <td>250</td>\n",
       "      <td>...</td>\n",
       "      <td>5</td>\n",
       "      <td>6</td>\n",
       "      <td>4</td>\n",
       "      <td>8</td>\n",
       "      <td>4</td>\n",
       "      <td>8</td>\n",
       "      <td>32</td>\n",
       "      <td>0.0001</td>\n",
       "      <td>0</td>\n",
       "      <td>0</td>\n",
       "    </tr>\n",
       "    <tr>\n",
       "      <th>10</th>\n",
       "      <td>1</td>\n",
       "      <td>11</td>\n",
       "      <td>1.775879</td>\n",
       "      <td>1.783306</td>\n",
       "      <td>0.224517</td>\n",
       "      <td>0.238122</td>\n",
       "      <td>7.851452</td>\n",
       "      <td>87.278089</td>\n",
       "      <td>6</td>\n",
       "      <td>250</td>\n",
       "      <td>...</td>\n",
       "      <td>5</td>\n",
       "      <td>6</td>\n",
       "      <td>4</td>\n",
       "      <td>8</td>\n",
       "      <td>4</td>\n",
       "      <td>8</td>\n",
       "      <td>32</td>\n",
       "      <td>0.0001</td>\n",
       "      <td>0</td>\n",
       "      <td>0</td>\n",
       "    </tr>\n",
       "    <tr>\n",
       "      <th>11</th>\n",
       "      <td>1</td>\n",
       "      <td>12</td>\n",
       "      <td>1.773075</td>\n",
       "      <td>1.780751</td>\n",
       "      <td>0.232666</td>\n",
       "      <td>0.240884</td>\n",
       "      <td>7.826231</td>\n",
       "      <td>95.223324</td>\n",
       "      <td>6</td>\n",
       "      <td>250</td>\n",
       "      <td>...</td>\n",
       "      <td>5</td>\n",
       "      <td>6</td>\n",
       "      <td>4</td>\n",
       "      <td>8</td>\n",
       "      <td>4</td>\n",
       "      <td>8</td>\n",
       "      <td>32</td>\n",
       "      <td>0.0001</td>\n",
       "      <td>0</td>\n",
       "      <td>0</td>\n",
       "    </tr>\n",
       "    <tr>\n",
       "      <th>12</th>\n",
       "      <td>1</td>\n",
       "      <td>13</td>\n",
       "      <td>1.769780</td>\n",
       "      <td>1.778360</td>\n",
       "      <td>0.237086</td>\n",
       "      <td>0.238674</td>\n",
       "      <td>7.836592</td>\n",
       "      <td>103.140409</td>\n",
       "      <td>6</td>\n",
       "      <td>250</td>\n",
       "      <td>...</td>\n",
       "      <td>5</td>\n",
       "      <td>6</td>\n",
       "      <td>4</td>\n",
       "      <td>8</td>\n",
       "      <td>4</td>\n",
       "      <td>8</td>\n",
       "      <td>32</td>\n",
       "      <td>0.0001</td>\n",
       "      <td>0</td>\n",
       "      <td>0</td>\n",
       "    </tr>\n",
       "    <tr>\n",
       "      <th>13</th>\n",
       "      <td>1</td>\n",
       "      <td>14</td>\n",
       "      <td>1.766447</td>\n",
       "      <td>1.781066</td>\n",
       "      <td>0.243301</td>\n",
       "      <td>0.240331</td>\n",
       "      <td>8.001919</td>\n",
       "      <td>111.261711</td>\n",
       "      <td>6</td>\n",
       "      <td>250</td>\n",
       "      <td>...</td>\n",
       "      <td>5</td>\n",
       "      <td>6</td>\n",
       "      <td>4</td>\n",
       "      <td>8</td>\n",
       "      <td>4</td>\n",
       "      <td>8</td>\n",
       "      <td>32</td>\n",
       "      <td>0.0001</td>\n",
       "      <td>0</td>\n",
       "      <td>0</td>\n",
       "    </tr>\n",
       "    <tr>\n",
       "      <th>14</th>\n",
       "      <td>1</td>\n",
       "      <td>15</td>\n",
       "      <td>1.765866</td>\n",
       "      <td>1.778649</td>\n",
       "      <td>0.243232</td>\n",
       "      <td>0.230939</td>\n",
       "      <td>7.973036</td>\n",
       "      <td>119.357382</td>\n",
       "      <td>6</td>\n",
       "      <td>250</td>\n",
       "      <td>...</td>\n",
       "      <td>5</td>\n",
       "      <td>6</td>\n",
       "      <td>4</td>\n",
       "      <td>8</td>\n",
       "      <td>4</td>\n",
       "      <td>8</td>\n",
       "      <td>32</td>\n",
       "      <td>0.0001</td>\n",
       "      <td>0</td>\n",
       "      <td>0</td>\n",
       "    </tr>\n",
       "    <tr>\n",
       "      <th>15</th>\n",
       "      <td>1</td>\n",
       "      <td>16</td>\n",
       "      <td>1.765371</td>\n",
       "      <td>1.777410</td>\n",
       "      <td>0.234599</td>\n",
       "      <td>0.231768</td>\n",
       "      <td>7.787363</td>\n",
       "      <td>127.264984</td>\n",
       "      <td>6</td>\n",
       "      <td>250</td>\n",
       "      <td>...</td>\n",
       "      <td>5</td>\n",
       "      <td>6</td>\n",
       "      <td>4</td>\n",
       "      <td>8</td>\n",
       "      <td>4</td>\n",
       "      <td>8</td>\n",
       "      <td>32</td>\n",
       "      <td>0.0001</td>\n",
       "      <td>0</td>\n",
       "      <td>0</td>\n",
       "    </tr>\n",
       "    <tr>\n",
       "      <th>16</th>\n",
       "      <td>1</td>\n",
       "      <td>17</td>\n",
       "      <td>1.760642</td>\n",
       "      <td>1.775831</td>\n",
       "      <td>0.252831</td>\n",
       "      <td>0.238674</td>\n",
       "      <td>7.806061</td>\n",
       "      <td>135.191854</td>\n",
       "      <td>6</td>\n",
       "      <td>250</td>\n",
       "      <td>...</td>\n",
       "      <td>5</td>\n",
       "      <td>6</td>\n",
       "      <td>4</td>\n",
       "      <td>8</td>\n",
       "      <td>4</td>\n",
       "      <td>8</td>\n",
       "      <td>32</td>\n",
       "      <td>0.0001</td>\n",
       "      <td>0</td>\n",
       "      <td>0</td>\n",
       "    </tr>\n",
       "    <tr>\n",
       "      <th>17</th>\n",
       "      <td>1</td>\n",
       "      <td>18</td>\n",
       "      <td>1.758574</td>\n",
       "      <td>1.773234</td>\n",
       "      <td>0.254627</td>\n",
       "      <td>0.248343</td>\n",
       "      <td>7.799475</td>\n",
       "      <td>143.114044</td>\n",
       "      <td>6</td>\n",
       "      <td>250</td>\n",
       "      <td>...</td>\n",
       "      <td>5</td>\n",
       "      <td>6</td>\n",
       "      <td>4</td>\n",
       "      <td>8</td>\n",
       "      <td>4</td>\n",
       "      <td>8</td>\n",
       "      <td>32</td>\n",
       "      <td>0.0001</td>\n",
       "      <td>0</td>\n",
       "      <td>0</td>\n",
       "    </tr>\n",
       "    <tr>\n",
       "      <th>18</th>\n",
       "      <td>1</td>\n",
       "      <td>19</td>\n",
       "      <td>1.757141</td>\n",
       "      <td>1.777036</td>\n",
       "      <td>0.252901</td>\n",
       "      <td>0.237569</td>\n",
       "      <td>8.113518</td>\n",
       "      <td>151.378994</td>\n",
       "      <td>6</td>\n",
       "      <td>250</td>\n",
       "      <td>...</td>\n",
       "      <td>5</td>\n",
       "      <td>6</td>\n",
       "      <td>4</td>\n",
       "      <td>8</td>\n",
       "      <td>4</td>\n",
       "      <td>8</td>\n",
       "      <td>32</td>\n",
       "      <td>0.0001</td>\n",
       "      <td>0</td>\n",
       "      <td>0</td>\n",
       "    </tr>\n",
       "    <tr>\n",
       "      <th>19</th>\n",
       "      <td>1</td>\n",
       "      <td>20</td>\n",
       "      <td>1.753240</td>\n",
       "      <td>1.774384</td>\n",
       "      <td>0.256354</td>\n",
       "      <td>0.247238</td>\n",
       "      <td>7.801408</td>\n",
       "      <td>159.304304</td>\n",
       "      <td>6</td>\n",
       "      <td>250</td>\n",
       "      <td>...</td>\n",
       "      <td>5</td>\n",
       "      <td>6</td>\n",
       "      <td>4</td>\n",
       "      <td>8</td>\n",
       "      <td>4</td>\n",
       "      <td>8</td>\n",
       "      <td>32</td>\n",
       "      <td>0.0001</td>\n",
       "      <td>0</td>\n",
       "      <td>0</td>\n",
       "    </tr>\n",
       "    <tr>\n",
       "      <th>20</th>\n",
       "      <td>1</td>\n",
       "      <td>21</td>\n",
       "      <td>1.755211</td>\n",
       "      <td>1.764976</td>\n",
       "      <td>0.253039</td>\n",
       "      <td>0.261326</td>\n",
       "      <td>7.813755</td>\n",
       "      <td>167.237060</td>\n",
       "      <td>6</td>\n",
       "      <td>250</td>\n",
       "      <td>...</td>\n",
       "      <td>5</td>\n",
       "      <td>6</td>\n",
       "      <td>4</td>\n",
       "      <td>8</td>\n",
       "      <td>4</td>\n",
       "      <td>8</td>\n",
       "      <td>32</td>\n",
       "      <td>0.0001</td>\n",
       "      <td>0</td>\n",
       "      <td>0</td>\n",
       "    </tr>\n",
       "    <tr>\n",
       "      <th>21</th>\n",
       "      <td>1</td>\n",
       "      <td>22</td>\n",
       "      <td>1.749167</td>\n",
       "      <td>1.769234</td>\n",
       "      <td>0.261878</td>\n",
       "      <td>0.246409</td>\n",
       "      <td>7.808396</td>\n",
       "      <td>175.165698</td>\n",
       "      <td>6</td>\n",
       "      <td>250</td>\n",
       "      <td>...</td>\n",
       "      <td>5</td>\n",
       "      <td>6</td>\n",
       "      <td>4</td>\n",
       "      <td>8</td>\n",
       "      <td>4</td>\n",
       "      <td>8</td>\n",
       "      <td>32</td>\n",
       "      <td>0.0001</td>\n",
       "      <td>0</td>\n",
       "      <td>0</td>\n",
       "    </tr>\n",
       "    <tr>\n",
       "      <th>22</th>\n",
       "      <td>1</td>\n",
       "      <td>23</td>\n",
       "      <td>1.748696</td>\n",
       "      <td>1.760990</td>\n",
       "      <td>0.264710</td>\n",
       "      <td>0.251934</td>\n",
       "      <td>7.909049</td>\n",
       "      <td>183.199548</td>\n",
       "      <td>6</td>\n",
       "      <td>250</td>\n",
       "      <td>...</td>\n",
       "      <td>5</td>\n",
       "      <td>6</td>\n",
       "      <td>4</td>\n",
       "      <td>8</td>\n",
       "      <td>4</td>\n",
       "      <td>8</td>\n",
       "      <td>32</td>\n",
       "      <td>0.0001</td>\n",
       "      <td>0</td>\n",
       "      <td>0</td>\n",
       "    </tr>\n",
       "    <tr>\n",
       "      <th>23</th>\n",
       "      <td>1</td>\n",
       "      <td>24</td>\n",
       "      <td>1.747399</td>\n",
       "      <td>1.761444</td>\n",
       "      <td>0.266298</td>\n",
       "      <td>0.265470</td>\n",
       "      <td>7.788335</td>\n",
       "      <td>191.111847</td>\n",
       "      <td>6</td>\n",
       "      <td>250</td>\n",
       "      <td>...</td>\n",
       "      <td>5</td>\n",
       "      <td>6</td>\n",
       "      <td>4</td>\n",
       "      <td>8</td>\n",
       "      <td>4</td>\n",
       "      <td>8</td>\n",
       "      <td>32</td>\n",
       "      <td>0.0001</td>\n",
       "      <td>0</td>\n",
       "      <td>0</td>\n",
       "    </tr>\n",
       "    <tr>\n",
       "      <th>24</th>\n",
       "      <td>1</td>\n",
       "      <td>25</td>\n",
       "      <td>1.748510</td>\n",
       "      <td>1.763702</td>\n",
       "      <td>0.262983</td>\n",
       "      <td>0.245856</td>\n",
       "      <td>7.833189</td>\n",
       "      <td>199.070191</td>\n",
       "      <td>6</td>\n",
       "      <td>250</td>\n",
       "      <td>...</td>\n",
       "      <td>5</td>\n",
       "      <td>6</td>\n",
       "      <td>4</td>\n",
       "      <td>8</td>\n",
       "      <td>4</td>\n",
       "      <td>8</td>\n",
       "      <td>32</td>\n",
       "      <td>0.0001</td>\n",
       "      <td>0</td>\n",
       "      <td>0</td>\n",
       "    </tr>\n",
       "    <tr>\n",
       "      <th>25</th>\n",
       "      <td>1</td>\n",
       "      <td>26</td>\n",
       "      <td>1.749293</td>\n",
       "      <td>1.763703</td>\n",
       "      <td>0.262362</td>\n",
       "      <td>0.257735</td>\n",
       "      <td>8.081568</td>\n",
       "      <td>207.277833</td>\n",
       "      <td>6</td>\n",
       "      <td>250</td>\n",
       "      <td>...</td>\n",
       "      <td>5</td>\n",
       "      <td>6</td>\n",
       "      <td>4</td>\n",
       "      <td>8</td>\n",
       "      <td>4</td>\n",
       "      <td>8</td>\n",
       "      <td>32</td>\n",
       "      <td>0.0001</td>\n",
       "      <td>0</td>\n",
       "      <td>0</td>\n",
       "    </tr>\n",
       "    <tr>\n",
       "      <th>26</th>\n",
       "      <td>1</td>\n",
       "      <td>27</td>\n",
       "      <td>1.745190</td>\n",
       "      <td>1.762185</td>\n",
       "      <td>0.268025</td>\n",
       "      <td>0.257182</td>\n",
       "      <td>7.896843</td>\n",
       "      <td>215.301230</td>\n",
       "      <td>6</td>\n",
       "      <td>250</td>\n",
       "      <td>...</td>\n",
       "      <td>5</td>\n",
       "      <td>6</td>\n",
       "      <td>4</td>\n",
       "      <td>8</td>\n",
       "      <td>4</td>\n",
       "      <td>8</td>\n",
       "      <td>32</td>\n",
       "      <td>0.0001</td>\n",
       "      <td>0</td>\n",
       "      <td>0</td>\n",
       "    </tr>\n",
       "    <tr>\n",
       "      <th>27</th>\n",
       "      <td>1</td>\n",
       "      <td>28</td>\n",
       "      <td>1.741129</td>\n",
       "      <td>1.757123</td>\n",
       "      <td>0.275760</td>\n",
       "      <td>0.268232</td>\n",
       "      <td>7.788411</td>\n",
       "      <td>223.217698</td>\n",
       "      <td>6</td>\n",
       "      <td>250</td>\n",
       "      <td>...</td>\n",
       "      <td>5</td>\n",
       "      <td>6</td>\n",
       "      <td>4</td>\n",
       "      <td>8</td>\n",
       "      <td>4</td>\n",
       "      <td>8</td>\n",
       "      <td>32</td>\n",
       "      <td>0.0001</td>\n",
       "      <td>0</td>\n",
       "      <td>0</td>\n",
       "    </tr>\n",
       "    <tr>\n",
       "      <th>28</th>\n",
       "      <td>1</td>\n",
       "      <td>29</td>\n",
       "      <td>1.739662</td>\n",
       "      <td>1.760157</td>\n",
       "      <td>0.276450</td>\n",
       "      <td>0.256906</td>\n",
       "      <td>7.796673</td>\n",
       "      <td>231.136915</td>\n",
       "      <td>6</td>\n",
       "      <td>250</td>\n",
       "      <td>...</td>\n",
       "      <td>5</td>\n",
       "      <td>6</td>\n",
       "      <td>4</td>\n",
       "      <td>8</td>\n",
       "      <td>4</td>\n",
       "      <td>8</td>\n",
       "      <td>32</td>\n",
       "      <td>0.0001</td>\n",
       "      <td>0</td>\n",
       "      <td>0</td>\n",
       "    </tr>\n",
       "    <tr>\n",
       "      <th>29</th>\n",
       "      <td>1</td>\n",
       "      <td>30</td>\n",
       "      <td>1.740819</td>\n",
       "      <td>1.757376</td>\n",
       "      <td>0.274171</td>\n",
       "      <td>0.263260</td>\n",
       "      <td>7.811752</td>\n",
       "      <td>239.072776</td>\n",
       "      <td>6</td>\n",
       "      <td>250</td>\n",
       "      <td>...</td>\n",
       "      <td>5</td>\n",
       "      <td>6</td>\n",
       "      <td>4</td>\n",
       "      <td>8</td>\n",
       "      <td>4</td>\n",
       "      <td>8</td>\n",
       "      <td>32</td>\n",
       "      <td>0.0001</td>\n",
       "      <td>0</td>\n",
       "      <td>0</td>\n",
       "    </tr>\n",
       "  </tbody>\n",
       "</table>\n",
       "<p>30 rows × 23 columns</p>\n",
       "</div>"
      ],
      "text/plain": [
       "    run  epoch  train_loss  valid_loss  train_accuracy  valid_accuracy  \\\n",
       "0     1      1    1.794070    1.806097        0.169820        0.175138   \n",
       "1     1      2    1.793703    1.805805        0.176519        0.169613   \n",
       "2     1      3    1.793577    1.804833        0.176865        0.188398   \n",
       "3     1      4    1.792821    1.803963        0.187707        0.179282   \n",
       "4     1      5    1.792118    1.803683        0.184323        0.183978   \n",
       "5     1      6    1.789671    1.798516        0.188052        0.196685   \n",
       "6     1      7    1.787544    1.795165        0.195166        0.209669   \n",
       "7     1      8    1.784245    1.795464        0.204282        0.215193   \n",
       "8     1      9    1.780774    1.788628        0.212086        0.212983   \n",
       "9     1     10    1.778056    1.789997        0.223964        0.231215   \n",
       "10    1     11    1.775879    1.783306        0.224517        0.238122   \n",
       "11    1     12    1.773075    1.780751        0.232666        0.240884   \n",
       "12    1     13    1.769780    1.778360        0.237086        0.238674   \n",
       "13    1     14    1.766447    1.781066        0.243301        0.240331   \n",
       "14    1     15    1.765866    1.778649        0.243232        0.230939   \n",
       "15    1     16    1.765371    1.777410        0.234599        0.231768   \n",
       "16    1     17    1.760642    1.775831        0.252831        0.238674   \n",
       "17    1     18    1.758574    1.773234        0.254627        0.248343   \n",
       "18    1     19    1.757141    1.777036        0.252901        0.237569   \n",
       "19    1     20    1.753240    1.774384        0.256354        0.247238   \n",
       "20    1     21    1.755211    1.764976        0.253039        0.261326   \n",
       "21    1     22    1.749167    1.769234        0.261878        0.246409   \n",
       "22    1     23    1.748696    1.760990        0.264710        0.251934   \n",
       "23    1     24    1.747399    1.761444        0.266298        0.265470   \n",
       "24    1     25    1.748510    1.763702        0.262983        0.245856   \n",
       "25    1     26    1.749293    1.763703        0.262362        0.257735   \n",
       "26    1     27    1.745190    1.762185        0.268025        0.257182   \n",
       "27    1     28    1.741129    1.757123        0.275760        0.268232   \n",
       "28    1     29    1.739662    1.760157        0.276450        0.256906   \n",
       "29    1     30    1.740819    1.757376        0.274171        0.263260   \n",
       "\n",
       "    epoch_duration  run_duration  num_classes  c1_in  ...  c1_stride_w  \\\n",
       "0         7.818209      7.861254            6    250  ...            5   \n",
       "1         7.807177     15.777744            6    250  ...            5   \n",
       "2         7.800598     23.688742            6    250  ...            5   \n",
       "3         7.831136     31.624688            6    250  ...            5   \n",
       "4         7.821724     39.562947            6    250  ...            5   \n",
       "5         7.800498     47.477336            6    250  ...            5   \n",
       "6         7.814536     55.406424            6    250  ...            5   \n",
       "7         7.804457     63.328367            6    250  ...            5   \n",
       "8         7.972440     71.419100            6    250  ...            5   \n",
       "9         7.812672     79.347114            6    250  ...            5   \n",
       "10        7.851452     87.278089            6    250  ...            5   \n",
       "11        7.826231     95.223324            6    250  ...            5   \n",
       "12        7.836592    103.140409            6    250  ...            5   \n",
       "13        8.001919    111.261711            6    250  ...            5   \n",
       "14        7.973036    119.357382            6    250  ...            5   \n",
       "15        7.787363    127.264984            6    250  ...            5   \n",
       "16        7.806061    135.191854            6    250  ...            5   \n",
       "17        7.799475    143.114044            6    250  ...            5   \n",
       "18        8.113518    151.378994            6    250  ...            5   \n",
       "19        7.801408    159.304304            6    250  ...            5   \n",
       "20        7.813755    167.237060            6    250  ...            5   \n",
       "21        7.808396    175.165698            6    250  ...            5   \n",
       "22        7.909049    183.199548            6    250  ...            5   \n",
       "23        7.788335    191.111847            6    250  ...            5   \n",
       "24        7.833189    199.070191            6    250  ...            5   \n",
       "25        8.081568    207.277833            6    250  ...            5   \n",
       "26        7.896843    215.301230            6    250  ...            5   \n",
       "27        7.788411    223.217698            6    250  ...            5   \n",
       "28        7.796673    231.136915            6    250  ...            5   \n",
       "29        7.811752    239.072776            6    250  ...            5   \n",
       "\n",
       "    c2_out  c2_kernel_w  c2_filter  c2_stride_w  fc_out  batch_size      lr  \\\n",
       "0        6            4          8            4       8          32  0.0001   \n",
       "1        6            4          8            4       8          32  0.0001   \n",
       "2        6            4          8            4       8          32  0.0001   \n",
       "3        6            4          8            4       8          32  0.0001   \n",
       "4        6            4          8            4       8          32  0.0001   \n",
       "5        6            4          8            4       8          32  0.0001   \n",
       "6        6            4          8            4       8          32  0.0001   \n",
       "7        6            4          8            4       8          32  0.0001   \n",
       "8        6            4          8            4       8          32  0.0001   \n",
       "9        6            4          8            4       8          32  0.0001   \n",
       "10       6            4          8            4       8          32  0.0001   \n",
       "11       6            4          8            4       8          32  0.0001   \n",
       "12       6            4          8            4       8          32  0.0001   \n",
       "13       6            4          8            4       8          32  0.0001   \n",
       "14       6            4          8            4       8          32  0.0001   \n",
       "15       6            4          8            4       8          32  0.0001   \n",
       "16       6            4          8            4       8          32  0.0001   \n",
       "17       6            4          8            4       8          32  0.0001   \n",
       "18       6            4          8            4       8          32  0.0001   \n",
       "19       6            4          8            4       8          32  0.0001   \n",
       "20       6            4          8            4       8          32  0.0001   \n",
       "21       6            4          8            4       8          32  0.0001   \n",
       "22       6            4          8            4       8          32  0.0001   \n",
       "23       6            4          8            4       8          32  0.0001   \n",
       "24       6            4          8            4       8          32  0.0001   \n",
       "25       6            4          8            4       8          32  0.0001   \n",
       "26       6            4          8            4       8          32  0.0001   \n",
       "27       6            4          8            4       8          32  0.0001   \n",
       "28       6            4          8            4       8          32  0.0001   \n",
       "29       6            4          8            4       8          32  0.0001   \n",
       "\n",
       "    weight_decay  dropout  \n",
       "0              0        0  \n",
       "1              0        0  \n",
       "2              0        0  \n",
       "3              0        0  \n",
       "4              0        0  \n",
       "5              0        0  \n",
       "6              0        0  \n",
       "7              0        0  \n",
       "8              0        0  \n",
       "9              0        0  \n",
       "10             0        0  \n",
       "11             0        0  \n",
       "12             0        0  \n",
       "13             0        0  \n",
       "14             0        0  \n",
       "15             0        0  \n",
       "16             0        0  \n",
       "17             0        0  \n",
       "18             0        0  \n",
       "19             0        0  \n",
       "20             0        0  \n",
       "21             0        0  \n",
       "22             0        0  \n",
       "23             0        0  \n",
       "24             0        0  \n",
       "25             0        0  \n",
       "26             0        0  \n",
       "27             0        0  \n",
       "28             0        0  \n",
       "29             0        0  \n",
       "\n",
       "[30 rows x 23 columns]"
      ]
     },
     "metadata": {},
     "output_type": "display_data"
    },
    {
     "name": "stdout",
     "output_type": "stream",
     "text": [
      "time: 4min 3s\n"
     ]
    }
   ],
   "source": [
    "# Run(num_classes=6, c1_in=250, c1_out=50, c1_kernel_w=10, c1_filter=64, c1_stride_w=5, c2_out=6, c2_kernel_w=4, c2_filter=8, c2_stride_w=4, fc_out=8, batch_size=128, lr=0.01, weight_decay=0, dropout=0)\n",
    "params = OrderedDict(\n",
    "    # model parameters\n",
    "    num_classes = [num_classes],\n",
    "    c1_in = [seq_length],\n",
    "    c1_out = [50],\n",
    "    c1_kernel_w = [20],\n",
    "    c1_filter = [64],\n",
    "    c1_stride_w = [5],\n",
    "    c2_out = [6],\n",
    "    c2_kernel_w = [4],\n",
    "    c2_filter = [8],\n",
    "    c2_stride_w = [4],\n",
    "    fc_out = [8],\n",
    "    \n",
    "    # hyperparameters\n",
    "    batch_size = [32],\n",
    "    lr = [0.0001],\n",
    "    weight_decay = [0],\n",
    "    dropout = [0]\n",
    ")\n",
    "\n",
    "manager = sp.RunManager()\n",
    "is_first_run = True\n",
    "for run in sp.RunBuilder.get_runs(params):    \n",
    "    # Initialize model and dataset\n",
    "    network = sp.SplintrNet(num_classes=run.num_classes,\n",
    "                      c1_in=run.c1_in,\n",
    "                      c1_out=run.c1_out,\n",
    "                      c1_kernel_w=run.c1_kernel_w,\n",
    "                      c1_filter=run.c1_filter,\n",
    "                      c1_stride_w=run.c1_stride_w,\n",
    "                      c2_out=run.c2_out,\n",
    "                      c2_kernel_w=run.c2_kernel_w,\n",
    "                      c2_filter=run.c2_filter,\n",
    "                      c2_stride_w=run.c2_stride_w,\n",
    "                      dropout=run.dropout,\n",
    "                      fc_out=run.fc_out).cuda(device)\n",
    "    \n",
    "    train_loader = DataLoader(train_dataset, batch_size=run.batch_size, sampler=train_sampler)\n",
    "    valid_loader = DataLoader(valid_dataset, batch_size=run.batch_size, sampler=valid_sampler)\n",
    "\n",
    "    optimizer = torch.optim.Adam(network.parameters(), lr=run.lr, weight_decay=run.weight_decay)\n",
    "    log_dir = '/home/ubuntu/tb/8-05-19-6class/'\n",
    "    # Display brief summary of first model\n",
    "    if is_first_run:\n",
    "        is_first_run = False\n",
    "        summary(network.cuda(), input_size=(4, 4, seq_length), device='cuda')\n",
    "#         util.show_sample(train_dataset[np.random.randint(len(train_dataset))], class_names=label_names)\n",
    "    \n",
    "    # Perform training\n",
    "    manager.begin_run(run, network, train_loader, valid_loader, log_dir)\n",
    "    network.cuda()\n",
    "    for epoch in range(30):\n",
    "        \n",
    "        manager.begin_epoch()\n",
    "        \n",
    "        # Train on batch\n",
    "        for batch in train_loader:\n",
    "            seqs, labels = batch\n",
    "            preds = network(seqs.cuda(device)) # pass batch\n",
    "            loss = F.cross_entropy(preds, labels.cuda(device)) # calculate loss\n",
    "            optimizer.zero_grad() # zero gradients\n",
    "            loss.backward() # calculate gradients\n",
    "            optimizer.step() # update weights\n",
    "\n",
    "            manager.track_train_loss(loss)\n",
    "            manager.track_train_num_correct(preds, labels.cuda(device))\n",
    "        \n",
    "        # Check validation set\n",
    "        with torch.no_grad():\n",
    "            for data in valid_loader:\n",
    "                seqs, labels = data\n",
    "                preds = network(seqs.cuda(device))\n",
    "                loss = F.cross_entropy(preds, labels.cuda(device))\n",
    "                \n",
    "                manager.track_valid_loss(loss)\n",
    "                manager.track_valid_num_correct(preds, labels.cuda(device))\n",
    "\n",
    "        manager.end_epoch()\n",
    "    manager.end_run(train_class_names=label_names[1],\n",
    "                    valid_class_names=label_names[1])\n",
    "manager.save('../results')"
   ]
  },
  {
   "cell_type": "code",
   "execution_count": null,
   "metadata": {},
   "outputs": [],
   "source": []
  }
 ],
 "metadata": {
  "kernelspec": {
   "display_name": "Environment (conda_pytorch_p36)",
   "language": "python",
   "name": "conda_pytorch_p36"
  },
  "language_info": {
   "codemirror_mode": {
    "name": "ipython",
    "version": 3
   },
   "file_extension": ".py",
   "mimetype": "text/x-python",
   "name": "python",
   "nbconvert_exporter": "python",
   "pygments_lexer": "ipython3",
   "version": "3.6.5"
  }
 },
 "nbformat": 4,
 "nbformat_minor": 4
}
