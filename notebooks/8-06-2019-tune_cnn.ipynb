{
 "cells": [
  {
   "cell_type": "code",
   "execution_count": 6,
   "metadata": {},
   "outputs": [
    {
     "name": "stdout",
     "output_type": "stream",
     "text": [
      "The autoreload extension is already loaded. To reload it, use:\n",
      "  %reload_ext autoreload\n",
      "The autotime extension is already loaded. To reload it, use:\n",
      "  %reload_ext autotime\n"
     ]
    },
    {
     "data": {
      "text/html": [
       "<script type='text/javascript'>/*\n",
       " * Copyright (c) Facebook, Inc. and its affiliates. All Rights Reserved.\n",
       " */\n",
       "\n",
       "requirejs.config({\n",
       "  paths: {\n",
       "    plotly: ['https://cdn.plot.ly/plotly-latest.min'],\n",
       "  },\n",
       "});\n",
       "if (!window.Plotly) {\n",
       "  require(['plotly'], function(plotly) {\n",
       "    window.Plotly = plotly;\n",
       "  });\n",
       "}\n",
       "/*\n",
       " * Copyright (c) Facebook, Inc. and its affiliates. All Rights Reserved.\n",
       " */\n",
       "\n",
       "// helper functions used across multiple plots\n",
       "function rgb(rgb_array) {\n",
       "  return 'rgb(' + rgb_array.join() + ')';\n",
       "}\n",
       "\n",
       "function copy_and_reverse(arr) {\n",
       "  const copy = arr.slice();\n",
       "  copy.reverse();\n",
       "  return copy;\n",
       "}\n",
       "\n",
       "function axis_range(grid, is_log) {\n",
       "  return is_log ?\n",
       "    [Math.log10(Math.min(...grid)), Math.log10(Math.max(...grid))]:\n",
       "    [Math.min(...grid), Math.max(...grid)];\n",
       "}\n",
       "\n",
       "function relativize_data(f, sd, rel, arm_data, metric) {\n",
       "  // if relative, extract status quo & compute ratio\n",
       "  const f_final = rel === true ? [] : f;\n",
       "  const sd_final = rel === true ? []: sd;\n",
       "\n",
       "  if (rel === true) {\n",
       "    const f_sq = (\n",
       "      arm_data['in_sample'][arm_data['status_quo_name']]['y'][metric]\n",
       "    );\n",
       "    const sd_sq = (\n",
       "      arm_data['in_sample'][arm_data['status_quo_name']]['se'][metric]\n",
       "    );\n",
       "\n",
       "    for (let i = 0; i < f.length; i++) {\n",
       "      res = relativize(f[i], sd[i], f_sq, sd_sq);\n",
       "      f_final.push(100 * res[0]);\n",
       "      sd_final.push(100 * res[1]);\n",
       "    }\n",
       "  }\n",
       "\n",
       "  return [f_final, sd_final];\n",
       "}\n",
       "\n",
       "function relativize(m_t, sem_t, m_c, sem_c) {\n",
       "  r_hat = (\n",
       "    (m_t - m_c) / Math.abs(m_c) -\n",
       "    Math.pow(sem_c, 2) * m_t / Math.pow(Math.abs(m_c), 3)\n",
       "  );\n",
       "  variance = (\n",
       "    (Math.pow(sem_t, 2) + Math.pow((m_t / m_c * sem_c), 2)) /\n",
       "    Math.pow(m_c, 2)\n",
       "   )\n",
       "   return [r_hat, Math.sqrt(variance)];\n",
       "}\n",
       "</script>"
      ]
     },
     "metadata": {},
     "output_type": "display_data"
    },
    {
     "name": "stderr",
     "output_type": "stream",
     "text": [
      "[INFO 08-07 22:28:03] ipy_plotting: Injecting Plotly library into cell. Do not overwrite or delete cell.\n"
     ]
    },
    {
     "name": "stdout",
     "output_type": "stream",
     "text": [
      "time: 7.37 ms\n"
     ]
    }
   ],
   "source": [
    "%load_ext autoreload\n",
    "%autoreload 2\n",
    "%load_ext autotime\n",
    "\n",
    "import os\n",
    "import sys\n",
    "sys.path.append('..')\n",
    "\n",
    "import splintr as sp\n",
    "from splintr.splice import rmats_subset_top_events\n",
    "# sp.util.verbose = True\n",
    "\n",
    "import pandas as pd\n",
    "import numpy as np\n",
    "import matplotlib.pyplot as plt\n",
    "import seaborn as sns\n",
    "\n",
    "import torch\n",
    "from torchsummary import summary\n",
    "\n",
    "from ax.plot.contour import plot_contour, interact_contour\n",
    "from ax.plot.trace import optimization_trace_single_method\n",
    "from ax.service.managed_loop import optimize\n",
    "from ax.utils.notebook.plotting import render, init_notebook_plotting\n",
    "init_notebook_plotting()\n",
    "\n",
    "# Ignore warnings\n",
    "import warnings\n",
    "warnings.filterwarnings(\"ignore\")\n",
    "\n",
    "use_cuda = torch.cuda.is_available()\n",
    "device = torch.device(\"cuda:0\" if use_cuda else \"cpu\")\n",
    "\n",
    "seed = 99\n",
    "np.random.seed(seed)\n",
    "torch.manual_seed(seed)\n",
    "torch.set_num_threads=16"
   ]
  },
  {
   "cell_type": "code",
   "execution_count": 2,
   "metadata": {},
   "outputs": [
    {
     "name": "stdout",
     "output_type": "stream",
     "text": [
      "time: 93.1 ms\n"
     ]
    }
   ],
   "source": [
    "# Parameters\n",
    "data_dir = '../data/features'\n",
    "feature_file = f'{data_dir}/SE.txt'\n",
    "feature_df = rmats_subset_top_events(feature_file, 5)\n",
    "feature_df = feature_df.loc[feature_df.IncLevelDifference > 0] # upregulated AS events"
   ]
  },
  {
   "cell_type": "code",
   "execution_count": 3,
   "metadata": {},
   "outputs": [
    {
     "data": {
      "application/vnd.jupyter.widget-view+json": {
       "model_id": "e56f6ec2d0654c7297dad358212d3795",
       "version_major": 2,
       "version_minor": 0
      },
      "text/plain": [
       "HBox(children=(IntProgress(value=0, description='Datasets', max=3, style=ProgressStyle(description_width='init…"
      ]
     },
     "metadata": {},
     "output_type": "display_data"
    },
    {
     "data": {
      "application/vnd.jupyter.widget-view+json": {
       "model_id": "",
       "version_major": 2,
       "version_minor": 0
      },
      "text/plain": [
       "HBox(children=(IntProgress(value=0, max=5), HTML(value='')))"
      ]
     },
     "metadata": {},
     "output_type": "display_data"
    },
    {
     "data": {
      "application/vnd.jupyter.widget-view+json": {
       "model_id": "",
       "version_major": 2,
       "version_minor": 0
      },
      "text/plain": [
       "HBox(children=(IntProgress(value=0, max=5), HTML(value='')))"
      ]
     },
     "metadata": {},
     "output_type": "display_data"
    },
    {
     "data": {
      "application/vnd.jupyter.widget-view+json": {
       "model_id": "",
       "version_major": 2,
       "version_minor": 0
      },
      "text/plain": [
       "HBox(children=(IntProgress(value=0, max=5), HTML(value='')))"
      ]
     },
     "metadata": {},
     "output_type": "display_data"
    },
    {
     "name": "stdout",
     "output_type": "stream",
     "text": [
      "\n",
      "time: 8.98 s\n"
     ]
    }
   ],
   "source": [
    "datasets, samplers, label_names = sp.learn.load_datasets(feature_df, '../data/hg19.fa', seq_size=384, augment_k=5)\n",
    "train_loader, valid_loader, test_loader = sp.learn.init_loaders(datasets, samplers, batch_size=32)"
   ]
  },
  {
   "cell_type": "code",
   "execution_count": 49,
   "metadata": {},
   "outputs": [
    {
     "name": "stdout",
     "output_type": "stream",
     "text": [
      "time: 1.76 ms\n"
     ]
    }
   ],
   "source": [
    "def train_evaluate(params):\n",
    "    train_loader, valid_loader, test_loader = sp.learn.init_loaders(datasets, samplers, batch_size=params['batch_size'])\n",
    "    net, valid_acc = sp.learn.fit(params, train_loader, valid_loader, num_epochs=30, label_names=label_names, log_dir='/home/ubuntu/tb/8-07-19-6class/')\n",
    "    return valid_acc"
   ]
  },
  {
   "cell_type": "code",
   "execution_count": null,
   "metadata": {},
   "outputs": [
    {
     "name": "stderr",
     "output_type": "stream",
     "text": [
      "[INFO 08-07 23:26:17] ax.service.utils.dispatch: Using Bayesian Optimization generation strategy. Iterations after 9 will take longer to generate due to model-fitting.\n",
      "[INFO 08-07 23:26:17] ax.service.managed_loop: Started full optimization with 300 steps.\n",
      "[INFO 08-07 23:26:17] ax.service.managed_loop: Running optimization trial 1...\n"
     ]
    },
    {
     "name": "stdout",
     "output_type": "stream",
     "text": [
      "{'batch_size': 42, 'filter1': 110, 'filter2': 6, 'main_kernel': 31, 'receptive_layers': 1, 'lr': 1.4045906665597491e-06, 'dropout': 0.3521549940109253, 'fc_out': 7, 'weight_decay': 0.06590757532744057}\n",
      "----------------------------------------------------------------\n",
      "        Layer (type)               Output Shape         Param #\n",
      "================================================================\n",
      "            Conv2d-1          [-1, 110, 4, 128]          13,750\n",
      "              ReLU-2          [-1, 110, 4, 128]               0\n",
      "            Conv2d-3            [-1, 6, 4, 128]           1,986\n",
      "              ReLU-4            [-1, 6, 4, 128]               0\n",
      "            Conv2d-5            [-1, 6, 4, 128]             114\n",
      "              ReLU-6            [-1, 6, 4, 128]               0\n",
      "         MaxPool2d-7             [-1, 6, 4, 64]               0\n",
      "           Dropout-8                 [-1, 1536]               0\n",
      "            Linear-9                    [-1, 7]          10,759\n",
      "           Linear-10                    [-1, 6]              48\n",
      "          Softmax-11                    [-1, 6]               0\n",
      "================================================================\n",
      "Total params: 26,657\n",
      "Trainable params: 26,657\n",
      "Non-trainable params: 0\n",
      "----------------------------------------------------------------\n",
      "Input size (MB): 0.02\n",
      "Forward/backward pass size (MB): 0.98\n",
      "Params size (MB): 0.10\n",
      "Estimated Total Size (MB): 1.10\n",
      "----------------------------------------------------------------\n"
     ]
    },
    {
     "data": {
      "application/vnd.jupyter.widget-view+json": {
       "model_id": "",
       "version_major": 2,
       "version_minor": 0
      },
      "text/plain": [
       "HBox(children=(IntProgress(value=0, max=30), HTML(value='')))"
      ]
     },
     "metadata": {},
     "output_type": "display_data"
    },
    {
     "name": "stderr",
     "output_type": "stream",
     "text": [
      "[INFO 08-07 23:29:05] ax.service.managed_loop: Running optimization trial 2...\n"
     ]
    },
    {
     "name": "stdout",
     "output_type": "stream",
     "text": [
      "{'batch_size': 21, 'filter1': 15, 'filter2': 12, 'main_kernel': 8, 'receptive_layers': 1, 'lr': 0.0008826855691643706, 'dropout': 0.41681637763977053, 'fc_out': 28, 'weight_decay': 0.000325420448190594}\n",
      "----------------------------------------------------------------\n",
      "        Layer (type)               Output Shape         Param #\n",
      "================================================================\n",
      "            Conv2d-1           [-1, 15, 4, 128]             495\n",
      "              ReLU-2           [-1, 15, 4, 128]               0\n",
      "            Conv2d-3           [-1, 12, 4, 128]             552\n",
      "              ReLU-4           [-1, 12, 4, 128]               0\n",
      "            Conv2d-5           [-1, 12, 4, 128]             444\n",
      "              ReLU-6           [-1, 12, 4, 128]               0\n",
      "         MaxPool2d-7            [-1, 12, 4, 64]               0\n",
      "           Dropout-8                 [-1, 3072]               0\n",
      "            Linear-9                   [-1, 28]          86,044\n",
      "           Linear-10                    [-1, 6]             174\n",
      "          Softmax-11                    [-1, 6]               0\n",
      "================================================================\n",
      "Total params: 87,709\n",
      "Trainable params: 87,709\n",
      "Non-trainable params: 0\n",
      "----------------------------------------------------------------\n",
      "Input size (MB): 0.02\n",
      "Forward/backward pass size (MB): 0.35\n",
      "Params size (MB): 0.33\n",
      "Estimated Total Size (MB): 0.71\n",
      "----------------------------------------------------------------\n"
     ]
    },
    {
     "data": {
      "application/vnd.jupyter.widget-view+json": {
       "model_id": "",
       "version_major": 2,
       "version_minor": 0
      },
      "text/plain": [
       "HBox(children=(IntProgress(value=0, max=30), HTML(value='')))"
      ]
     },
     "metadata": {},
     "output_type": "display_data"
    },
    {
     "name": "stderr",
     "output_type": "stream",
     "text": [
      "[INFO 08-07 23:31:55] ax.service.managed_loop: Running optimization trial 3...\n"
     ]
    },
    {
     "name": "stdout",
     "output_type": "stream",
     "text": [
      "{'batch_size': 850, 'filter1': 54, 'filter2': 234, 'main_kernel': 34, 'receptive_layers': 0, 'lr': 4.0734383900362034e-05, 'dropout': 0.23520452976226808, 'fc_out': 13, 'weight_decay': 0.004571083549429412}\n",
      "----------------------------------------------------------------\n",
      "        Layer (type)               Output Shape         Param #\n",
      "================================================================\n",
      "            Conv2d-1           [-1, 54, 4, 128]           7,398\n",
      "              ReLU-2           [-1, 54, 4, 128]               0\n",
      "            Conv2d-3          [-1, 234, 4, 128]          38,142\n",
      "              ReLU-4          [-1, 234, 4, 128]               0\n",
      "         MaxPool2d-5           [-1, 234, 4, 64]               0\n",
      "           Dropout-6                [-1, 59904]               0\n",
      "            Linear-7                   [-1, 13]         778,765\n",
      "            Linear-8                    [-1, 6]              84\n",
      "           Softmax-9                    [-1, 6]               0\n",
      "================================================================\n",
      "Total params: 824,389\n",
      "Trainable params: 824,389\n",
      "Non-trainable params: 0\n",
      "----------------------------------------------------------------\n",
      "Input size (MB): 0.02\n",
      "Forward/backward pass size (MB): 3.16\n",
      "Params size (MB): 3.14\n",
      "Estimated Total Size (MB): 6.33\n",
      "----------------------------------------------------------------\n"
     ]
    },
    {
     "data": {
      "application/vnd.jupyter.widget-view+json": {
       "model_id": "",
       "version_major": 2,
       "version_minor": 0
      },
      "text/plain": [
       "HBox(children=(IntProgress(value=0, max=30), HTML(value='')))"
      ]
     },
     "metadata": {},
     "output_type": "display_data"
    },
    {
     "name": "stderr",
     "output_type": "stream",
     "text": [
      "[INFO 08-07 23:34:41] ax.service.managed_loop: Running optimization trial 4...\n"
     ]
    },
    {
     "name": "stdout",
     "output_type": "stream",
     "text": [
      "{'batch_size': 525, 'filter1': 24, 'filter2': 10, 'main_kernel': 16, 'receptive_layers': 1, 'lr': 2.5194489114255963e-05, 'dropout': 0.13529326021671295, 'fc_out': 8, 'weight_decay': 0.0014790418625418617}\n",
      "----------------------------------------------------------------\n",
      "        Layer (type)               Output Shape         Param #\n",
      "================================================================\n",
      "            Conv2d-1           [-1, 24, 4, 128]           1,560\n",
      "              ReLU-2           [-1, 24, 4, 128]               0\n",
      "            Conv2d-3           [-1, 10, 4, 128]             730\n",
      "              ReLU-4           [-1, 10, 4, 128]               0\n",
      "            Conv2d-5           [-1, 10, 4, 128]             310\n",
      "              ReLU-6           [-1, 10, 4, 128]               0\n",
      "         MaxPool2d-7            [-1, 10, 4, 64]               0\n",
      "           Dropout-8                 [-1, 2560]               0\n",
      "            Linear-9                    [-1, 8]          20,488\n",
      "           Linear-10                    [-1, 6]              54\n",
      "          Softmax-11                    [-1, 6]               0\n",
      "================================================================\n",
      "Total params: 23,142\n",
      "Trainable params: 23,142\n",
      "Non-trainable params: 0\n",
      "----------------------------------------------------------------\n",
      "Input size (MB): 0.02\n",
      "Forward/backward pass size (MB): 0.38\n",
      "Params size (MB): 0.09\n",
      "Estimated Total Size (MB): 0.49\n",
      "----------------------------------------------------------------\n"
     ]
    },
    {
     "data": {
      "application/vnd.jupyter.widget-view+json": {
       "model_id": "",
       "version_major": 2,
       "version_minor": 0
      },
      "text/plain": [
       "HBox(children=(IntProgress(value=0, max=30), HTML(value='')))"
      ]
     },
     "metadata": {},
     "output_type": "display_data"
    },
    {
     "name": "stderr",
     "output_type": "stream",
     "text": [
      "[INFO 08-07 23:36:58] ax.service.managed_loop: Running optimization trial 5...\n"
     ]
    },
    {
     "name": "stdout",
     "output_type": "stream",
     "text": [
      "{'batch_size': 10, 'filter1': 54, 'filter2': 33, 'main_kernel': 26, 'receptive_layers': 0, 'lr': 0.00010817971477711125, 'dropout': 0.3169108390808105, 'fc_out': 18, 'weight_decay': 0.020793083456102354}\n",
      "----------------------------------------------------------------\n",
      "        Layer (type)               Output Shape         Param #\n",
      "================================================================\n",
      "            Conv2d-1           [-1, 54, 4, 128]           5,670\n",
      "              ReLU-2           [-1, 54, 4, 128]               0\n",
      "            Conv2d-3           [-1, 33, 4, 128]           5,379\n",
      "              ReLU-4           [-1, 33, 4, 128]               0\n",
      "         MaxPool2d-5            [-1, 33, 4, 64]               0\n",
      "           Dropout-6                 [-1, 8448]               0\n",
      "            Linear-7                   [-1, 18]         152,082\n",
      "            Linear-8                    [-1, 6]             114\n",
      "           Softmax-9                    [-1, 6]               0\n",
      "================================================================\n",
      "Total params: 163,245\n",
      "Trainable params: 163,245\n",
      "Non-trainable params: 0\n",
      "----------------------------------------------------------------\n",
      "Input size (MB): 0.02\n",
      "Forward/backward pass size (MB): 0.81\n",
      "Params size (MB): 0.62\n",
      "Estimated Total Size (MB): 1.45\n",
      "----------------------------------------------------------------\n"
     ]
    },
    {
     "data": {
      "application/vnd.jupyter.widget-view+json": {
       "model_id": "",
       "version_major": 2,
       "version_minor": 0
      },
      "text/plain": [
       "HBox(children=(IntProgress(value=0, max=30), HTML(value='')))"
      ]
     },
     "metadata": {},
     "output_type": "display_data"
    },
    {
     "name": "stderr",
     "output_type": "stream",
     "text": [
      "[INFO 08-07 23:40:20] ax.service.managed_loop: Running optimization trial 6...\n"
     ]
    },
    {
     "name": "stdout",
     "output_type": "stream",
     "text": [
      "{'batch_size': 62, 'filter1': 4, 'filter2': 142, 'main_kernel': 15, 'receptive_layers': 0, 'lr': 7.4548888492076434e-06, 'dropout': 0.45224936008453376, 'fc_out': 11, 'weight_decay': 0.00023076678048152585}\n",
      "----------------------------------------------------------------\n",
      "        Layer (type)               Output Shape         Param #\n",
      "================================================================\n",
      "            Conv2d-1            [-1, 4, 4, 128]             244\n",
      "              ReLU-2            [-1, 4, 4, 128]               0\n",
      "            Conv2d-3          [-1, 142, 4, 128]           1,846\n",
      "              ReLU-4          [-1, 142, 4, 128]               0\n",
      "         MaxPool2d-5           [-1, 142, 4, 64]               0\n",
      "           Dropout-6                [-1, 36352]               0\n",
      "            Linear-7                   [-1, 11]         399,883\n",
      "            Linear-8                    [-1, 6]              72\n",
      "           Softmax-9                    [-1, 6]               0\n",
      "================================================================\n",
      "Total params: 402,045\n",
      "Trainable params: 402,045\n",
      "Non-trainable params: 0\n",
      "----------------------------------------------------------------\n",
      "Input size (MB): 0.02\n",
      "Forward/backward pass size (MB): 1.70\n",
      "Params size (MB): 1.53\n",
      "Estimated Total Size (MB): 3.25\n",
      "----------------------------------------------------------------\n"
     ]
    },
    {
     "data": {
      "application/vnd.jupyter.widget-view+json": {
       "model_id": "",
       "version_major": 2,
       "version_minor": 0
      },
      "text/plain": [
       "HBox(children=(IntProgress(value=0, max=30), HTML(value='')))"
      ]
     },
     "metadata": {},
     "output_type": "display_data"
    },
    {
     "name": "stderr",
     "output_type": "stream",
     "text": [
      "[INFO 08-07 23:43:00] ax.service.managed_loop: Running optimization trial 7...\n"
     ]
    },
    {
     "name": "stdout",
     "output_type": "stream",
     "text": [
      "{'batch_size': 282, 'filter1': 209, 'filter2': 20, 'main_kernel': 39, 'receptive_layers': 1, 'lr': 0.004930006482229966, 'dropout': 0.29563179016113283, 'fc_out': 22, 'weight_decay': 0.014673356752361946}\n",
      "----------------------------------------------------------------\n",
      "        Layer (type)               Output Shape         Param #\n",
      "================================================================\n",
      "            Conv2d-1          [-1, 209, 4, 128]          32,813\n",
      "              ReLU-2          [-1, 209, 4, 128]               0\n",
      "            Conv2d-3           [-1, 20, 4, 128]          12,560\n",
      "              ReLU-4           [-1, 20, 4, 128]               0\n",
      "            Conv2d-5           [-1, 20, 4, 128]           1,220\n",
      "              ReLU-6           [-1, 20, 4, 128]               0\n",
      "         MaxPool2d-7            [-1, 20, 4, 64]               0\n",
      "           Dropout-8                 [-1, 5120]               0\n",
      "            Linear-9                   [-1, 22]         112,662\n",
      "           Linear-10                    [-1, 6]             138\n",
      "          Softmax-11                    [-1, 6]               0\n",
      "================================================================\n",
      "Total params: 159,393\n",
      "Trainable params: 159,393\n",
      "Non-trainable params: 0\n",
      "----------------------------------------------------------------\n",
      "Input size (MB): 0.02\n",
      "Forward/backward pass size (MB): 2.02\n",
      "Params size (MB): 0.61\n",
      "Estimated Total Size (MB): 2.66\n",
      "----------------------------------------------------------------\n"
     ]
    },
    {
     "data": {
      "application/vnd.jupyter.widget-view+json": {
       "model_id": "",
       "version_major": 2,
       "version_minor": 0
      },
      "text/plain": [
       "HBox(children=(IntProgress(value=0, max=30), HTML(value='')))"
      ]
     },
     "metadata": {},
     "output_type": "display_data"
    },
    {
     "name": "stderr",
     "output_type": "stream",
     "text": [
      "[INFO 08-07 23:45:47] ax.service.managed_loop: Running optimization trial 8...\n"
     ]
    },
    {
     "name": "stdout",
     "output_type": "stream",
     "text": [
      "{'batch_size': 229, 'filter1': 12, 'filter2': 195, 'main_kernel': 28, 'receptive_layers': 1, 'lr': 0.005936298096375478, 'dropout': 0.17163395285606386, 'fc_out': 9, 'weight_decay': 0.0029942374123240654}\n",
      "----------------------------------------------------------------\n",
      "        Layer (type)               Output Shape         Param #\n",
      "================================================================\n",
      "            Conv2d-1           [-1, 12, 4, 128]           1,356\n",
      "              ReLU-2           [-1, 12, 4, 128]               0\n",
      "            Conv2d-3          [-1, 195, 4, 128]           7,215\n",
      "              ReLU-4          [-1, 195, 4, 128]               0\n",
      "            Conv2d-5          [-1, 195, 4, 128]         114,270\n",
      "              ReLU-6          [-1, 195, 4, 128]               0\n",
      "         MaxPool2d-7           [-1, 195, 4, 64]               0\n",
      "           Dropout-8                [-1, 49920]               0\n",
      "            Linear-9                    [-1, 9]         449,289\n",
      "           Linear-10                    [-1, 6]              60\n",
      "          Softmax-11                    [-1, 6]               0\n",
      "================================================================\n",
      "Total params: 572,190\n",
      "Trainable params: 572,190\n",
      "Non-trainable params: 0\n",
      "----------------------------------------------------------------\n",
      "Input size (MB): 0.02\n",
      "Forward/backward pass size (MB): 3.90\n",
      "Params size (MB): 2.18\n",
      "Estimated Total Size (MB): 6.11\n",
      "----------------------------------------------------------------\n"
     ]
    },
    {
     "data": {
      "application/vnd.jupyter.widget-view+json": {
       "model_id": "",
       "version_major": 2,
       "version_minor": 0
      },
      "text/plain": [
       "HBox(children=(IntProgress(value=0, max=30), HTML(value='')))"
      ]
     },
     "metadata": {},
     "output_type": "display_data"
    },
    {
     "name": "stderr",
     "output_type": "stream",
     "text": [
      "[INFO 08-07 23:49:00] ax.service.managed_loop: Running optimization trial 9...\n"
     ]
    },
    {
     "name": "stdout",
     "output_type": "stream",
     "text": [
      "{'batch_size': 79, 'filter1': 76, 'filter2': 17, 'main_kernel': 18, 'receptive_layers': 0, 'lr': 4.532081835831376e-06, 'dropout': 0.377516770362854, 'fc_out': 26, 'weight_decay': 0.037747044960394625}\n",
      "----------------------------------------------------------------\n",
      "        Layer (type)               Output Shape         Param #\n",
      "================================================================\n",
      "            Conv2d-1           [-1, 76, 4, 128]           5,548\n",
      "              ReLU-2           [-1, 76, 4, 128]               0\n",
      "            Conv2d-3           [-1, 17, 4, 128]           3,893\n",
      "              ReLU-4           [-1, 17, 4, 128]               0\n",
      "         MaxPool2d-5            [-1, 17, 4, 64]               0\n",
      "           Dropout-6                 [-1, 4352]               0\n",
      "            Linear-7                   [-1, 26]         113,178\n",
      "            Linear-8                    [-1, 6]             162\n",
      "           Softmax-9                    [-1, 6]               0\n",
      "================================================================\n",
      "Total params: 122,781\n",
      "Trainable params: 122,781\n",
      "Non-trainable params: 0\n",
      "----------------------------------------------------------------\n",
      "Input size (MB): 0.02\n",
      "Forward/backward pass size (MB): 0.79\n",
      "Params size (MB): 0.47\n",
      "Estimated Total Size (MB): 1.29\n",
      "----------------------------------------------------------------\n"
     ]
    },
    {
     "data": {
      "application/vnd.jupyter.widget-view+json": {
       "model_id": "",
       "version_major": 2,
       "version_minor": 0
      },
      "text/plain": [
       "HBox(children=(IntProgress(value=0, max=30), HTML(value='')))"
      ]
     },
     "metadata": {},
     "output_type": "display_data"
    },
    {
     "name": "stderr",
     "output_type": "stream",
     "text": [
      "[INFO 08-07 23:51:31] ax.service.managed_loop: Running optimization trial 10...\n"
     ]
    },
    {
     "name": "stdout",
     "output_type": "stream",
     "text": [
      "{'batch_size': 29, 'filter1': 103, 'filter2': 7, 'main_kernel': 30, 'receptive_layers': 1, 'lr': 1.7201815898092452e-06, 'dropout': 0.35286526781368355, 'fc_out': 8, 'weight_decay': 0.07137201423600775}\n",
      "----------------------------------------------------------------\n",
      "        Layer (type)               Output Shape         Param #\n",
      "================================================================\n",
      "            Conv2d-1          [-1, 103, 4, 128]          12,463\n",
      "              ReLU-2          [-1, 103, 4, 128]               0\n",
      "            Conv2d-3            [-1, 7, 4, 128]           2,170\n",
      "              ReLU-4            [-1, 7, 4, 128]               0\n",
      "            Conv2d-5            [-1, 7, 4, 128]             154\n",
      "              ReLU-6            [-1, 7, 4, 128]               0\n",
      "         MaxPool2d-7             [-1, 7, 4, 64]               0\n",
      "           Dropout-8                 [-1, 1792]               0\n",
      "            Linear-9                    [-1, 8]          14,344\n",
      "           Linear-10                    [-1, 6]              54\n",
      "          Softmax-11                    [-1, 6]               0\n",
      "================================================================\n",
      "Total params: 29,185\n",
      "Trainable params: 29,185\n",
      "Non-trainable params: 0\n",
      "----------------------------------------------------------------\n",
      "Input size (MB): 0.02\n",
      "Forward/backward pass size (MB): 0.94\n",
      "Params size (MB): 0.11\n",
      "Estimated Total Size (MB): 1.08\n",
      "----------------------------------------------------------------\n"
     ]
    },
    {
     "data": {
      "application/vnd.jupyter.widget-view+json": {
       "model_id": "",
       "version_major": 2,
       "version_minor": 0
      },
      "text/plain": [
       "HBox(children=(IntProgress(value=0, max=30), HTML(value='')))"
      ]
     },
     "metadata": {},
     "output_type": "display_data"
    },
    {
     "name": "stderr",
     "output_type": "stream",
     "text": [
      "[INFO 08-07 23:54:27] ax.service.managed_loop: Running optimization trial 11...\n"
     ]
    },
    {
     "name": "stdout",
     "output_type": "stream",
     "text": [
      "{'batch_size': 28, 'filter1': 105, 'filter2': 6, 'main_kernel': 30, 'receptive_layers': 1, 'lr': 1.5943107510045658e-06, 'dropout': 0.35415225896888525, 'fc_out': 8, 'weight_decay': 0.07598329885289239}\n",
      "----------------------------------------------------------------\n",
      "        Layer (type)               Output Shape         Param #\n",
      "================================================================\n",
      "            Conv2d-1          [-1, 105, 4, 128]          12,705\n",
      "              ReLU-2          [-1, 105, 4, 128]               0\n",
      "            Conv2d-3            [-1, 6, 4, 128]           1,896\n",
      "              ReLU-4            [-1, 6, 4, 128]               0\n",
      "            Conv2d-5            [-1, 6, 4, 128]             114\n",
      "              ReLU-6            [-1, 6, 4, 128]               0\n",
      "         MaxPool2d-7             [-1, 6, 4, 64]               0\n",
      "           Dropout-8                 [-1, 1536]               0\n",
      "            Linear-9                    [-1, 8]          12,296\n",
      "           Linear-10                    [-1, 6]              54\n",
      "          Softmax-11                    [-1, 6]               0\n",
      "================================================================\n",
      "Total params: 27,065\n",
      "Trainable params: 27,065\n",
      "Non-trainable params: 0\n",
      "----------------------------------------------------------------\n",
      "Input size (MB): 0.02\n",
      "Forward/backward pass size (MB): 0.94\n",
      "Params size (MB): 0.10\n",
      "Estimated Total Size (MB): 1.06\n",
      "----------------------------------------------------------------\n"
     ]
    },
    {
     "data": {
      "application/vnd.jupyter.widget-view+json": {
       "model_id": "",
       "version_major": 2,
       "version_minor": 0
      },
      "text/plain": [
       "HBox(children=(IntProgress(value=0, max=30), HTML(value='')))"
      ]
     },
     "metadata": {},
     "output_type": "display_data"
    },
    {
     "name": "stderr",
     "output_type": "stream",
     "text": [
      "[INFO 08-07 23:57:24] ax.service.managed_loop: Running optimization trial 12...\n"
     ]
    },
    {
     "name": "stdout",
     "output_type": "stream",
     "text": [
      "{'batch_size': 46, 'filter1': 107, 'filter2': 8, 'main_kernel': 31, 'receptive_layers': 1, 'lr': 1.5682470237654578e-06, 'dropout': 0.34975701801572556, 'fc_out': 7, 'weight_decay': 0.060274214682938344}\n",
      "----------------------------------------------------------------\n",
      "        Layer (type)               Output Shape         Param #\n",
      "================================================================\n",
      "            Conv2d-1          [-1, 107, 4, 128]          13,375\n",
      "              ReLU-2          [-1, 107, 4, 128]               0\n",
      "            Conv2d-3            [-1, 8, 4, 128]           2,576\n",
      "              ReLU-4            [-1, 8, 4, 128]               0\n",
      "            Conv2d-5            [-1, 8, 4, 128]             200\n",
      "              ReLU-6            [-1, 8, 4, 128]               0\n",
      "         MaxPool2d-7             [-1, 8, 4, 64]               0\n",
      "           Dropout-8                 [-1, 2048]               0\n",
      "            Linear-9                    [-1, 7]          14,343\n",
      "           Linear-10                    [-1, 6]              48\n",
      "          Softmax-11                    [-1, 6]               0\n",
      "================================================================\n",
      "Total params: 30,542\n",
      "Trainable params: 30,542\n",
      "Non-trainable params: 0\n",
      "----------------------------------------------------------------\n",
      "Input size (MB): 0.02\n",
      "Forward/backward pass size (MB): 0.99\n",
      "Params size (MB): 0.12\n",
      "Estimated Total Size (MB): 1.13\n",
      "----------------------------------------------------------------\n"
     ]
    },
    {
     "data": {
      "application/vnd.jupyter.widget-view+json": {
       "model_id": "",
       "version_major": 2,
       "version_minor": 0
      },
      "text/plain": [
       "HBox(children=(IntProgress(value=0, max=30), HTML(value='')))"
      ]
     },
     "metadata": {},
     "output_type": "display_data"
    },
    {
     "name": "stderr",
     "output_type": "stream",
     "text": [
      "[INFO 08-08 00:00:17] ax.service.managed_loop: Running optimization trial 13...\n"
     ]
    },
    {
     "name": "stdout",
     "output_type": "stream",
     "text": [
      "{'batch_size': 46, 'filter1': 111, 'filter2': 6, 'main_kernel': 31, 'receptive_layers': 1, 'lr': 1.4602409170485577e-06, 'dropout': 0.34951016661206885, 'fc_out': 7, 'weight_decay': 0.06100520651769711}\n",
      "----------------------------------------------------------------\n",
      "        Layer (type)               Output Shape         Param #\n",
      "================================================================\n",
      "            Conv2d-1          [-1, 111, 4, 128]          13,875\n",
      "              ReLU-2          [-1, 111, 4, 128]               0\n",
      "            Conv2d-3            [-1, 6, 4, 128]           2,004\n",
      "              ReLU-4            [-1, 6, 4, 128]               0\n",
      "            Conv2d-5            [-1, 6, 4, 128]             114\n",
      "              ReLU-6            [-1, 6, 4, 128]               0\n",
      "         MaxPool2d-7             [-1, 6, 4, 64]               0\n",
      "           Dropout-8                 [-1, 1536]               0\n",
      "            Linear-9                    [-1, 7]          10,759\n",
      "           Linear-10                    [-1, 6]              48\n",
      "          Softmax-11                    [-1, 6]               0\n",
      "================================================================\n",
      "Total params: 26,800\n",
      "Trainable params: 26,800\n",
      "Non-trainable params: 0\n",
      "----------------------------------------------------------------\n",
      "Input size (MB): 0.02\n",
      "Forward/backward pass size (MB): 0.98\n",
      "Params size (MB): 0.10\n",
      "Estimated Total Size (MB): 1.11\n",
      "----------------------------------------------------------------\n"
     ]
    },
    {
     "data": {
      "application/vnd.jupyter.widget-view+json": {
       "model_id": "",
       "version_major": 2,
       "version_minor": 0
      },
      "text/plain": [
       "HBox(children=(IntProgress(value=0, max=30), HTML(value='')))"
      ]
     },
     "metadata": {},
     "output_type": "display_data"
    },
    {
     "name": "stderr",
     "output_type": "stream",
     "text": [
      "[INFO 08-08 00:03:11] ax.service.managed_loop: Running optimization trial 14...\n"
     ]
    },
    {
     "name": "stdout",
     "output_type": "stream",
     "text": [
      "{'batch_size': 30, 'filter1': 101, 'filter2': 8, 'main_kernel': 30, 'receptive_layers': 1, 'lr': 1.865449001605036e-06, 'dropout': 0.35149645268776497, 'fc_out': 8, 'weight_decay': 0.06679486153342533}\n",
      "----------------------------------------------------------------\n",
      "        Layer (type)               Output Shape         Param #\n",
      "================================================================\n",
      "            Conv2d-1          [-1, 101, 4, 128]          12,221\n",
      "              ReLU-2          [-1, 101, 4, 128]               0\n",
      "            Conv2d-3            [-1, 8, 4, 128]           2,432\n",
      "              ReLU-4            [-1, 8, 4, 128]               0\n",
      "            Conv2d-5            [-1, 8, 4, 128]             200\n",
      "              ReLU-6            [-1, 8, 4, 128]               0\n",
      "         MaxPool2d-7             [-1, 8, 4, 64]               0\n",
      "           Dropout-8                 [-1, 2048]               0\n",
      "            Linear-9                    [-1, 8]          16,392\n",
      "           Linear-10                    [-1, 6]              54\n",
      "          Softmax-11                    [-1, 6]               0\n",
      "================================================================\n",
      "Total params: 31,299\n",
      "Trainable params: 31,299\n",
      "Non-trainable params: 0\n",
      "----------------------------------------------------------------\n",
      "Input size (MB): 0.02\n",
      "Forward/backward pass size (MB): 0.95\n",
      "Params size (MB): 0.12\n",
      "Estimated Total Size (MB): 1.09\n",
      "----------------------------------------------------------------\n"
     ]
    },
    {
     "data": {
      "application/vnd.jupyter.widget-view+json": {
       "model_id": "",
       "version_major": 2,
       "version_minor": 0
      },
      "text/plain": [
       "HBox(children=(IntProgress(value=0, max=30), HTML(value='')))"
      ]
     },
     "metadata": {},
     "output_type": "display_data"
    },
    {
     "name": "stderr",
     "output_type": "stream",
     "text": [
      "[INFO 08-08 00:06:08] ax.service.managed_loop: Running optimization trial 15...\n"
     ]
    },
    {
     "name": "stdout",
     "output_type": "stream",
     "text": [
      "{'batch_size': 40, 'filter1': 103, 'filter2': 10, 'main_kernel': 31, 'receptive_layers': 1, 'lr': 1.5592179296869689e-06, 'dropout': 0.35363297987291853, 'fc_out': 7, 'weight_decay': 0.06661223151677662}\n",
      "----------------------------------------------------------------\n",
      "        Layer (type)               Output Shape         Param #\n",
      "================================================================\n",
      "            Conv2d-1          [-1, 103, 4, 128]          12,875\n",
      "              ReLU-2          [-1, 103, 4, 128]               0\n",
      "            Conv2d-3           [-1, 10, 4, 128]           3,100\n",
      "              ReLU-4           [-1, 10, 4, 128]               0\n",
      "            Conv2d-5           [-1, 10, 4, 128]             310\n",
      "              ReLU-6           [-1, 10, 4, 128]               0\n",
      "         MaxPool2d-7            [-1, 10, 4, 64]               0\n",
      "           Dropout-8                 [-1, 2560]               0\n",
      "            Linear-9                    [-1, 7]          17,927\n",
      "           Linear-10                    [-1, 6]              48\n",
      "          Softmax-11                    [-1, 6]               0\n",
      "================================================================\n",
      "Total params: 34,260\n",
      "Trainable params: 34,260\n",
      "Non-trainable params: 0\n",
      "----------------------------------------------------------------\n",
      "Input size (MB): 0.02\n",
      "Forward/backward pass size (MB): 1.00\n",
      "Params size (MB): 0.13\n",
      "Estimated Total Size (MB): 1.15\n",
      "----------------------------------------------------------------\n"
     ]
    },
    {
     "data": {
      "application/vnd.jupyter.widget-view+json": {
       "model_id": "",
       "version_major": 2,
       "version_minor": 0
      },
      "text/plain": [
       "HBox(children=(IntProgress(value=0, max=30), HTML(value='')))"
      ]
     },
     "metadata": {},
     "output_type": "display_data"
    },
    {
     "name": "stderr",
     "output_type": "stream",
     "text": [
      "[INFO 08-08 00:09:03] ax.service.managed_loop: Running optimization trial 16...\n"
     ]
    },
    {
     "name": "stdout",
     "output_type": "stream",
     "text": [
      "{'batch_size': 38, 'filter1': 109, 'filter2': 6, 'main_kernel': 31, 'receptive_layers': 1, 'lr': 1.3878142095363714e-06, 'dropout': 0.3542467274186868, 'fc_out': 7, 'weight_decay': 0.07031893101278863}\n",
      "----------------------------------------------------------------\n",
      "        Layer (type)               Output Shape         Param #\n",
      "================================================================\n",
      "            Conv2d-1          [-1, 109, 4, 128]          13,625\n",
      "              ReLU-2          [-1, 109, 4, 128]               0\n",
      "            Conv2d-3            [-1, 6, 4, 128]           1,968\n",
      "              ReLU-4            [-1, 6, 4, 128]               0\n",
      "            Conv2d-5            [-1, 6, 4, 128]             114\n",
      "              ReLU-6            [-1, 6, 4, 128]               0\n",
      "         MaxPool2d-7             [-1, 6, 4, 64]               0\n",
      "           Dropout-8                 [-1, 1536]               0\n",
      "            Linear-9                    [-1, 7]          10,759\n",
      "           Linear-10                    [-1, 6]              48\n",
      "          Softmax-11                    [-1, 6]               0\n",
      "================================================================\n",
      "Total params: 26,514\n",
      "Trainable params: 26,514\n",
      "Non-trainable params: 0\n",
      "----------------------------------------------------------------\n",
      "Input size (MB): 0.02\n",
      "Forward/backward pass size (MB): 0.97\n",
      "Params size (MB): 0.10\n",
      "Estimated Total Size (MB): 1.09\n",
      "----------------------------------------------------------------\n"
     ]
    },
    {
     "data": {
      "application/vnd.jupyter.widget-view+json": {
       "model_id": "",
       "version_major": 2,
       "version_minor": 0
      },
      "text/plain": [
       "HBox(children=(IntProgress(value=0, max=30), HTML(value='')))"
      ]
     },
     "metadata": {},
     "output_type": "display_data"
    },
    {
     "name": "stderr",
     "output_type": "stream",
     "text": [
      "[INFO 08-08 00:11:58] ax.service.managed_loop: Running optimization trial 17...\n"
     ]
    },
    {
     "name": "stdout",
     "output_type": "stream",
     "text": [
      "{'batch_size': 28, 'filter1': 104, 'filter2': 8, 'main_kernel': 29, 'receptive_layers': 1, 'lr': 1.1465040760260604e-06, 'dropout': 0.3575530891391935, 'fc_out': 8, 'weight_decay': 0.0983948395415744}\n",
      "----------------------------------------------------------------\n",
      "        Layer (type)               Output Shape         Param #\n",
      "================================================================\n",
      "            Conv2d-1          [-1, 104, 4, 128]          12,168\n",
      "              ReLU-2          [-1, 104, 4, 128]               0\n",
      "            Conv2d-3            [-1, 8, 4, 128]           2,504\n",
      "              ReLU-4            [-1, 8, 4, 128]               0\n",
      "            Conv2d-5            [-1, 8, 4, 128]             200\n",
      "              ReLU-6            [-1, 8, 4, 128]               0\n",
      "         MaxPool2d-7             [-1, 8, 4, 64]               0\n",
      "           Dropout-8                 [-1, 2048]               0\n",
      "            Linear-9                    [-1, 8]          16,392\n",
      "           Linear-10                    [-1, 6]              54\n",
      "          Softmax-11                    [-1, 6]               0\n",
      "================================================================\n",
      "Total params: 31,318\n",
      "Trainable params: 31,318\n",
      "Non-trainable params: 0\n",
      "----------------------------------------------------------------\n",
      "Input size (MB): 0.02\n",
      "Forward/backward pass size (MB): 0.97\n",
      "Params size (MB): 0.12\n",
      "Estimated Total Size (MB): 1.11\n",
      "----------------------------------------------------------------\n"
     ]
    },
    {
     "data": {
      "application/vnd.jupyter.widget-view+json": {
       "model_id": "",
       "version_major": 2,
       "version_minor": 0
      },
      "text/plain": [
       "HBox(children=(IntProgress(value=0, max=30), HTML(value='')))"
      ]
     },
     "metadata": {},
     "output_type": "display_data"
    },
    {
     "name": "stderr",
     "output_type": "stream",
     "text": [
      "[INFO 08-08 00:14:56] ax.service.managed_loop: Running optimization trial 18...\n"
     ]
    },
    {
     "name": "stdout",
     "output_type": "stream",
     "text": [
      "{'batch_size': 27, 'filter1': 108, 'filter2': 9, 'main_kernel': 28, 'receptive_layers': 1, 'lr': 1e-06, 'dropout': 0.3628874389905741, 'fc_out': 8, 'weight_decay': 0.1}\n",
      "----------------------------------------------------------------\n",
      "        Layer (type)               Output Shape         Param #\n",
      "================================================================\n",
      "            Conv2d-1          [-1, 108, 4, 128]          12,204\n",
      "              ReLU-2          [-1, 108, 4, 128]               0\n",
      "            Conv2d-3            [-1, 9, 4, 128]           2,925\n",
      "              ReLU-4            [-1, 9, 4, 128]               0\n",
      "            Conv2d-5            [-1, 9, 4, 128]             252\n",
      "              ReLU-6            [-1, 9, 4, 128]               0\n",
      "         MaxPool2d-7             [-1, 9, 4, 64]               0\n",
      "           Dropout-8                 [-1, 2304]               0\n",
      "            Linear-9                    [-1, 8]          18,440\n",
      "           Linear-10                    [-1, 6]              54\n",
      "          Softmax-11                    [-1, 6]               0\n",
      "================================================================\n",
      "Total params: 33,875\n",
      "Trainable params: 33,875\n",
      "Non-trainable params: 0\n",
      "----------------------------------------------------------------\n",
      "Input size (MB): 0.02\n",
      "Forward/backward pass size (MB): 1.02\n",
      "Params size (MB): 0.13\n",
      "Estimated Total Size (MB): 1.17\n",
      "----------------------------------------------------------------\n"
     ]
    },
    {
     "data": {
      "application/vnd.jupyter.widget-view+json": {
       "model_id": "",
       "version_major": 2,
       "version_minor": 0
      },
      "text/plain": [
       "HBox(children=(IntProgress(value=0, max=30), HTML(value='')))"
      ]
     },
     "metadata": {},
     "output_type": "display_data"
    },
    {
     "name": "stderr",
     "output_type": "stream",
     "text": [
      "[INFO 08-08 00:17:56] ax.service.managed_loop: Running optimization trial 19...\n"
     ]
    },
    {
     "name": "stdout",
     "output_type": "stream",
     "text": [
      "{'batch_size': 28, 'filter1': 68, 'filter2': 8, 'main_kernel': 30, 'receptive_layers': 1, 'lr': 1e-06, 'dropout': 0.347662325370963, 'fc_out': 8, 'weight_decay': 0.1}\n",
      "----------------------------------------------------------------\n",
      "        Layer (type)               Output Shape         Param #\n",
      "================================================================\n",
      "            Conv2d-1           [-1, 68, 4, 128]           8,228\n",
      "              ReLU-2           [-1, 68, 4, 128]               0\n",
      "            Conv2d-3            [-1, 8, 4, 128]           1,640\n",
      "              ReLU-4            [-1, 8, 4, 128]               0\n",
      "            Conv2d-5            [-1, 8, 4, 128]             200\n",
      "              ReLU-6            [-1, 8, 4, 128]               0\n",
      "         MaxPool2d-7             [-1, 8, 4, 64]               0\n",
      "           Dropout-8                 [-1, 2048]               0\n",
      "            Linear-9                    [-1, 8]          16,392\n",
      "           Linear-10                    [-1, 6]              54\n",
      "          Softmax-11                    [-1, 6]               0\n",
      "================================================================\n",
      "Total params: 26,514\n",
      "Trainable params: 26,514\n",
      "Non-trainable params: 0\n",
      "----------------------------------------------------------------\n",
      "Input size (MB): 0.02\n",
      "Forward/backward pass size (MB): 0.69\n",
      "Params size (MB): 0.10\n",
      "Estimated Total Size (MB): 0.81\n",
      "----------------------------------------------------------------\n"
     ]
    },
    {
     "data": {
      "application/vnd.jupyter.widget-view+json": {
       "model_id": "",
       "version_major": 2,
       "version_minor": 0
      },
      "text/plain": [
       "HBox(children=(IntProgress(value=0, max=30), HTML(value='')))"
      ]
     },
     "metadata": {},
     "output_type": "display_data"
    },
    {
     "name": "stderr",
     "output_type": "stream",
     "text": [
      "[INFO 08-08 00:20:45] ax.service.managed_loop: Running optimization trial 20...\n"
     ]
    },
    {
     "name": "stdout",
     "output_type": "stream",
     "text": [
      "{'batch_size': 40, 'filter1': 186, 'filter2': 6, 'main_kernel': 26, 'receptive_layers': 1, 'lr': 1e-06, 'dropout': 0.4213197417838743, 'fc_out': 7, 'weight_decay': 0.1}\n",
      "----------------------------------------------------------------\n",
      "        Layer (type)               Output Shape         Param #\n",
      "================================================================\n",
      "            Conv2d-1          [-1, 186, 4, 128]          19,530\n",
      "              ReLU-2          [-1, 186, 4, 128]               0\n",
      "            Conv2d-3            [-1, 6, 4, 128]           3,354\n",
      "              ReLU-4            [-1, 6, 4, 128]               0\n",
      "            Conv2d-5            [-1, 6, 4, 128]             114\n",
      "              ReLU-6            [-1, 6, 4, 128]               0\n",
      "         MaxPool2d-7             [-1, 6, 4, 64]               0\n",
      "           Dropout-8                 [-1, 1536]               0\n",
      "            Linear-9                    [-1, 7]          10,759\n",
      "           Linear-10                    [-1, 6]              48\n",
      "          Softmax-11                    [-1, 6]               0\n",
      "================================================================\n",
      "Total params: 33,805\n",
      "Trainable params: 33,805\n",
      "Non-trainable params: 0\n",
      "----------------------------------------------------------------\n",
      "Input size (MB): 0.02\n",
      "Forward/backward pass size (MB): 1.57\n",
      "Params size (MB): 0.13\n",
      "Estimated Total Size (MB): 1.72\n",
      "----------------------------------------------------------------\n"
     ]
    },
    {
     "data": {
      "application/vnd.jupyter.widget-view+json": {
       "model_id": "",
       "version_major": 2,
       "version_minor": 0
      },
      "text/plain": [
       "HBox(children=(IntProgress(value=0, max=30), HTML(value='')))"
      ]
     },
     "metadata": {},
     "output_type": "display_data"
    },
    {
     "name": "stderr",
     "output_type": "stream",
     "text": [
      "[INFO 08-08 00:23:50] ax.service.managed_loop: Running optimization trial 21...\n"
     ]
    },
    {
     "name": "stdout",
     "output_type": "stream",
     "text": [
      "{'batch_size': 28, 'filter1': 140, 'filter2': 8, 'main_kernel': 29, 'receptive_layers': 1, 'lr': 1e-06, 'dropout': 0.35734598137441387, 'fc_out': 8, 'weight_decay': 0.1}\n",
      "----------------------------------------------------------------\n",
      "        Layer (type)               Output Shape         Param #\n",
      "================================================================\n",
      "            Conv2d-1          [-1, 140, 4, 128]          16,380\n",
      "              ReLU-2          [-1, 140, 4, 128]               0\n",
      "            Conv2d-3            [-1, 8, 4, 128]           3,368\n",
      "              ReLU-4            [-1, 8, 4, 128]               0\n",
      "            Conv2d-5            [-1, 8, 4, 128]             200\n",
      "              ReLU-6            [-1, 8, 4, 128]               0\n",
      "         MaxPool2d-7             [-1, 8, 4, 64]               0\n",
      "           Dropout-8                 [-1, 2048]               0\n",
      "            Linear-9                    [-1, 8]          16,392\n",
      "           Linear-10                    [-1, 6]              54\n",
      "          Softmax-11                    [-1, 6]               0\n",
      "================================================================\n",
      "Total params: 36,394\n",
      "Trainable params: 36,394\n",
      "Non-trainable params: 0\n",
      "----------------------------------------------------------------\n",
      "Input size (MB): 0.02\n",
      "Forward/backward pass size (MB): 1.25\n",
      "Params size (MB): 0.14\n",
      "Estimated Total Size (MB): 1.41\n",
      "----------------------------------------------------------------\n"
     ]
    },
    {
     "data": {
      "application/vnd.jupyter.widget-view+json": {
       "model_id": "",
       "version_major": 2,
       "version_minor": 0
      },
      "text/plain": [
       "HBox(children=(IntProgress(value=0, max=30), HTML(value='')))"
      ]
     },
     "metadata": {},
     "output_type": "display_data"
    },
    {
     "name": "stderr",
     "output_type": "stream",
     "text": [
      "[INFO 08-08 00:26:55] ax.service.managed_loop: Running optimization trial 22...\n"
     ]
    },
    {
     "name": "stdout",
     "output_type": "stream",
     "text": [
      "{'batch_size': 28, 'filter1': 93, 'filter2': 8, 'main_kernel': 29, 'receptive_layers': 1, 'lr': 1.0000000000000122e-06, 'dropout': 0.35893781086274457, 'fc_out': 8, 'weight_decay': 0.09999999999999867}\n",
      "----------------------------------------------------------------\n",
      "        Layer (type)               Output Shape         Param #\n",
      "================================================================\n",
      "            Conv2d-1           [-1, 93, 4, 128]          10,881\n",
      "              ReLU-2           [-1, 93, 4, 128]               0\n",
      "            Conv2d-3            [-1, 8, 4, 128]           2,240\n",
      "              ReLU-4            [-1, 8, 4, 128]               0\n",
      "            Conv2d-5            [-1, 8, 4, 128]             200\n",
      "              ReLU-6            [-1, 8, 4, 128]               0\n",
      "         MaxPool2d-7             [-1, 8, 4, 64]               0\n",
      "           Dropout-8                 [-1, 2048]               0\n",
      "            Linear-9                    [-1, 8]          16,392\n",
      "           Linear-10                    [-1, 6]              54\n",
      "          Softmax-11                    [-1, 6]               0\n",
      "================================================================\n",
      "Total params: 29,767\n",
      "Trainable params: 29,767\n",
      "Non-trainable params: 0\n",
      "----------------------------------------------------------------\n",
      "Input size (MB): 0.02\n",
      "Forward/backward pass size (MB): 0.88\n",
      "Params size (MB): 0.11\n",
      "Estimated Total Size (MB): 1.02\n",
      "----------------------------------------------------------------\n"
     ]
    },
    {
     "data": {
      "application/vnd.jupyter.widget-view+json": {
       "model_id": "",
       "version_major": 2,
       "version_minor": 0
      },
      "text/plain": [
       "HBox(children=(IntProgress(value=0, max=30), HTML(value='')))"
      ]
     },
     "metadata": {},
     "output_type": "display_data"
    },
    {
     "name": "stderr",
     "output_type": "stream",
     "text": [
      "[INFO 08-08 00:29:49] ax.service.managed_loop: Running optimization trial 23...\n"
     ]
    },
    {
     "name": "stdout",
     "output_type": "stream",
     "text": [
      "{'batch_size': 11, 'filter1': 40, 'filter2': 49, 'main_kernel': 27, 'receptive_layers': 0, 'lr': 8.698111458026896e-05, 'dropout': 0.24288237477386126, 'fc_out': 17, 'weight_decay': 0.006271839181820607}\n",
      "----------------------------------------------------------------\n",
      "        Layer (type)               Output Shape         Param #\n",
      "================================================================\n",
      "            Conv2d-1           [-1, 40, 4, 128]           4,360\n",
      "              ReLU-2           [-1, 40, 4, 128]               0\n",
      "            Conv2d-3           [-1, 49, 4, 128]           5,929\n",
      "              ReLU-4           [-1, 49, 4, 128]               0\n",
      "         MaxPool2d-5            [-1, 49, 4, 64]               0\n",
      "           Dropout-6                [-1, 12544]               0\n",
      "            Linear-7                   [-1, 17]         213,265\n",
      "            Linear-8                    [-1, 6]             108\n",
      "           Softmax-9                    [-1, 6]               0\n",
      "================================================================\n",
      "Total params: 223,662\n",
      "Trainable params: 223,662\n",
      "Non-trainable params: 0\n",
      "----------------------------------------------------------------\n",
      "Input size (MB): 0.02\n",
      "Forward/backward pass size (MB): 0.89\n",
      "Params size (MB): 0.85\n",
      "Estimated Total Size (MB): 1.76\n",
      "----------------------------------------------------------------\n"
     ]
    },
    {
     "data": {
      "application/vnd.jupyter.widget-view+json": {
       "model_id": "",
       "version_major": 2,
       "version_minor": 0
      },
      "text/plain": [
       "HBox(children=(IntProgress(value=0, max=30), HTML(value='')))"
      ]
     },
     "metadata": {},
     "output_type": "display_data"
    },
    {
     "name": "stderr",
     "output_type": "stream",
     "text": [
      "[INFO 08-08 00:33:07] ax.service.managed_loop: Running optimization trial 24...\n"
     ]
    },
    {
     "name": "stdout",
     "output_type": "stream",
     "text": [
      "{'batch_size': 27, 'filter1': 88, 'filter2': 9, 'main_kernel': 29, 'receptive_layers': 1, 'lr': 1.2104231909678073e-06, 'dropout': 0.3477140281088734, 'fc_out': 8, 'weight_decay': 0.09707865659726231}\n",
      "----------------------------------------------------------------\n",
      "        Layer (type)               Output Shape         Param #\n",
      "================================================================\n",
      "            Conv2d-1           [-1, 88, 4, 128]          10,296\n",
      "              ReLU-2           [-1, 88, 4, 128]               0\n",
      "            Conv2d-3            [-1, 9, 4, 128]           2,385\n",
      "              ReLU-4            [-1, 9, 4, 128]               0\n",
      "            Conv2d-5            [-1, 9, 4, 128]             252\n",
      "              ReLU-6            [-1, 9, 4, 128]               0\n",
      "         MaxPool2d-7             [-1, 9, 4, 64]               0\n",
      "           Dropout-8                 [-1, 2304]               0\n",
      "            Linear-9                    [-1, 8]          18,440\n",
      "           Linear-10                    [-1, 6]              54\n",
      "          Softmax-11                    [-1, 6]               0\n",
      "================================================================\n",
      "Total params: 31,427\n",
      "Trainable params: 31,427\n",
      "Non-trainable params: 0\n",
      "----------------------------------------------------------------\n",
      "Input size (MB): 0.02\n",
      "Forward/backward pass size (MB): 0.86\n",
      "Params size (MB): 0.12\n",
      "Estimated Total Size (MB): 1.01\n",
      "----------------------------------------------------------------\n"
     ]
    },
    {
     "data": {
      "application/vnd.jupyter.widget-view+json": {
       "model_id": "",
       "version_major": 2,
       "version_minor": 0
      },
      "text/plain": [
       "HBox(children=(IntProgress(value=0, max=30), HTML(value='')))"
      ]
     },
     "metadata": {},
     "output_type": "display_data"
    },
    {
     "name": "stderr",
     "output_type": "stream",
     "text": [
      "[INFO 08-08 00:36:02] ax.service.managed_loop: Running optimization trial 25...\n"
     ]
    },
    {
     "name": "stdout",
     "output_type": "stream",
     "text": [
      "{'batch_size': 40, 'filter1': 122, 'filter2': 6, 'main_kernel': 29, 'receptive_layers': 1, 'lr': 1e-06, 'dropout': 0.3725925564430078, 'fc_out': 7, 'weight_decay': 0.1}\n",
      "----------------------------------------------------------------\n",
      "        Layer (type)               Output Shape         Param #\n",
      "================================================================\n",
      "            Conv2d-1          [-1, 122, 4, 128]          14,274\n",
      "              ReLU-2          [-1, 122, 4, 128]               0\n",
      "            Conv2d-3            [-1, 6, 4, 128]           2,202\n",
      "              ReLU-4            [-1, 6, 4, 128]               0\n",
      "            Conv2d-5            [-1, 6, 4, 128]             114\n",
      "              ReLU-6            [-1, 6, 4, 128]               0\n",
      "         MaxPool2d-7             [-1, 6, 4, 64]               0\n",
      "           Dropout-8                 [-1, 1536]               0\n",
      "            Linear-9                    [-1, 7]          10,759\n",
      "           Linear-10                    [-1, 6]              48\n",
      "          Softmax-11                    [-1, 6]               0\n",
      "================================================================\n",
      "Total params: 27,397\n",
      "Trainable params: 27,397\n",
      "Non-trainable params: 0\n",
      "----------------------------------------------------------------\n",
      "Input size (MB): 0.02\n",
      "Forward/backward pass size (MB): 1.07\n",
      "Params size (MB): 0.10\n",
      "Estimated Total Size (MB): 1.20\n",
      "----------------------------------------------------------------\n"
     ]
    },
    {
     "data": {
      "application/vnd.jupyter.widget-view+json": {
       "model_id": "",
       "version_major": 2,
       "version_minor": 0
      },
      "text/plain": [
       "HBox(children=(IntProgress(value=0, max=30), HTML(value='')))"
      ]
     },
     "metadata": {},
     "output_type": "display_data"
    },
    {
     "name": "stderr",
     "output_type": "stream",
     "text": [
      "[INFO 08-08 00:38:54] ax.service.managed_loop: Running optimization trial 26...\n"
     ]
    },
    {
     "name": "stdout",
     "output_type": "stream",
     "text": [
      "{'batch_size': 28, 'filter1': 107, 'filter2': 8, 'main_kernel': 30, 'receptive_layers': 1, 'lr': 1e-06, 'dropout': 0.341725256652067, 'fc_out': 8, 'weight_decay': 0.1}\n",
      "----------------------------------------------------------------\n",
      "        Layer (type)               Output Shape         Param #\n",
      "================================================================\n",
      "            Conv2d-1          [-1, 107, 4, 128]          12,947\n",
      "              ReLU-2          [-1, 107, 4, 128]               0\n",
      "            Conv2d-3            [-1, 8, 4, 128]           2,576\n",
      "              ReLU-4            [-1, 8, 4, 128]               0\n",
      "            Conv2d-5            [-1, 8, 4, 128]             200\n",
      "              ReLU-6            [-1, 8, 4, 128]               0\n",
      "         MaxPool2d-7             [-1, 8, 4, 64]               0\n",
      "           Dropout-8                 [-1, 2048]               0\n",
      "            Linear-9                    [-1, 8]          16,392\n",
      "           Linear-10                    [-1, 6]              54\n",
      "          Softmax-11                    [-1, 6]               0\n",
      "================================================================\n",
      "Total params: 32,169\n",
      "Trainable params: 32,169\n",
      "Non-trainable params: 0\n",
      "----------------------------------------------------------------\n",
      "Input size (MB): 0.02\n",
      "Forward/backward pass size (MB): 0.99\n",
      "Params size (MB): 0.12\n",
      "Estimated Total Size (MB): 1.14\n",
      "----------------------------------------------------------------\n"
     ]
    },
    {
     "data": {
      "application/vnd.jupyter.widget-view+json": {
       "model_id": "",
       "version_major": 2,
       "version_minor": 0
      },
      "text/plain": [
       "HBox(children=(IntProgress(value=0, max=30), HTML(value='')))"
      ]
     },
     "metadata": {},
     "output_type": "display_data"
    },
    {
     "name": "stderr",
     "output_type": "stream",
     "text": [
      "[INFO 08-08 00:41:54] ax.service.managed_loop: Running optimization trial 27...\n"
     ]
    },
    {
     "name": "stdout",
     "output_type": "stream",
     "text": [
      "{'batch_size': 58, 'filter1': 4, 'filter2': 200, 'main_kernel': 15, 'receptive_layers': 0, 'lr': 5.738178940542901e-06, 'dropout': 0.48631489926547256, 'fc_out': 9, 'weight_decay': 0.00027967511095869146}\n",
      "----------------------------------------------------------------\n",
      "        Layer (type)               Output Shape         Param #\n",
      "================================================================\n",
      "            Conv2d-1            [-1, 4, 4, 128]             244\n",
      "              ReLU-2            [-1, 4, 4, 128]               0\n",
      "            Conv2d-3          [-1, 200, 4, 128]           2,600\n",
      "              ReLU-4          [-1, 200, 4, 128]               0\n",
      "         MaxPool2d-5           [-1, 200, 4, 64]               0\n",
      "           Dropout-6                [-1, 51200]               0\n",
      "            Linear-7                    [-1, 9]         460,809\n",
      "            Linear-8                    [-1, 6]              60\n",
      "           Softmax-9                    [-1, 6]               0\n",
      "================================================================\n",
      "Total params: 463,713\n",
      "Trainable params: 463,713\n",
      "Non-trainable params: 0\n",
      "----------------------------------------------------------------\n",
      "Input size (MB): 0.02\n",
      "Forward/backward pass size (MB): 2.38\n",
      "Params size (MB): 1.77\n",
      "Estimated Total Size (MB): 4.17\n",
      "----------------------------------------------------------------\n"
     ]
    },
    {
     "data": {
      "application/vnd.jupyter.widget-view+json": {
       "model_id": "",
       "version_major": 2,
       "version_minor": 0
      },
      "text/plain": [
       "HBox(children=(IntProgress(value=0, max=30), HTML(value='')))"
      ]
     },
     "metadata": {},
     "output_type": "display_data"
    },
    {
     "name": "stderr",
     "output_type": "stream",
     "text": [
      "[INFO 08-08 00:44:48] ax.service.managed_loop: Running optimization trial 28...\n"
     ]
    },
    {
     "name": "stdout",
     "output_type": "stream",
     "text": [
      "{'batch_size': 27, 'filter1': 74, 'filter2': 9, 'main_kernel': 29, 'receptive_layers': 1, 'lr': 1.2270874577567126e-06, 'dropout': 0.3422694524568002, 'fc_out': 8, 'weight_decay': 0.1}\n",
      "----------------------------------------------------------------\n",
      "        Layer (type)               Output Shape         Param #\n",
      "================================================================\n",
      "            Conv2d-1           [-1, 74, 4, 128]           8,658\n",
      "              ReLU-2           [-1, 74, 4, 128]               0\n",
      "            Conv2d-3            [-1, 9, 4, 128]           2,007\n",
      "              ReLU-4            [-1, 9, 4, 128]               0\n",
      "            Conv2d-5            [-1, 9, 4, 128]             252\n",
      "              ReLU-6            [-1, 9, 4, 128]               0\n",
      "         MaxPool2d-7             [-1, 9, 4, 64]               0\n",
      "           Dropout-8                 [-1, 2304]               0\n",
      "            Linear-9                    [-1, 8]          18,440\n",
      "           Linear-10                    [-1, 6]              54\n",
      "          Softmax-11                    [-1, 6]               0\n",
      "================================================================\n",
      "Total params: 29,411\n",
      "Trainable params: 29,411\n",
      "Non-trainable params: 0\n",
      "----------------------------------------------------------------\n",
      "Input size (MB): 0.02\n",
      "Forward/backward pass size (MB): 0.75\n",
      "Params size (MB): 0.11\n",
      "Estimated Total Size (MB): 0.89\n",
      "----------------------------------------------------------------\n"
     ]
    },
    {
     "data": {
      "application/vnd.jupyter.widget-view+json": {
       "model_id": "",
       "version_major": 2,
       "version_minor": 0
      },
      "text/plain": [
       "HBox(children=(IntProgress(value=0, max=30), HTML(value='')))"
      ]
     },
     "metadata": {},
     "output_type": "display_data"
    },
    {
     "name": "stderr",
     "output_type": "stream",
     "text": [
      "[INFO 08-08 00:47:39] ax.service.managed_loop: Running optimization trial 29...\n"
     ]
    },
    {
     "name": "stdout",
     "output_type": "stream",
     "text": [
      "{'batch_size': 28, 'filter1': 105, 'filter2': 8, 'main_kernel': 29, 'receptive_layers': 1, 'lr': 1.3233701299046327e-06, 'dropout': 0.3665841216265554, 'fc_out': 8, 'weight_decay': 0.0999999999999999}\n",
      "----------------------------------------------------------------\n",
      "        Layer (type)               Output Shape         Param #\n",
      "================================================================\n",
      "            Conv2d-1          [-1, 105, 4, 128]          12,285\n",
      "              ReLU-2          [-1, 105, 4, 128]               0\n",
      "            Conv2d-3            [-1, 8, 4, 128]           2,528\n",
      "              ReLU-4            [-1, 8, 4, 128]               0\n",
      "            Conv2d-5            [-1, 8, 4, 128]             200\n",
      "              ReLU-6            [-1, 8, 4, 128]               0\n",
      "         MaxPool2d-7             [-1, 8, 4, 64]               0\n",
      "           Dropout-8                 [-1, 2048]               0\n",
      "            Linear-9                    [-1, 8]          16,392\n",
      "           Linear-10                    [-1, 6]              54\n",
      "          Softmax-11                    [-1, 6]               0\n",
      "================================================================\n",
      "Total params: 31,459\n",
      "Trainable params: 31,459\n",
      "Non-trainable params: 0\n",
      "----------------------------------------------------------------\n",
      "Input size (MB): 0.02\n",
      "Forward/backward pass size (MB): 0.98\n",
      "Params size (MB): 0.12\n",
      "Estimated Total Size (MB): 1.12\n",
      "----------------------------------------------------------------\n"
     ]
    },
    {
     "data": {
      "application/vnd.jupyter.widget-view+json": {
       "model_id": "",
       "version_major": 2,
       "version_minor": 0
      },
      "text/plain": [
       "HBox(children=(IntProgress(value=0, max=30), HTML(value='')))"
      ]
     },
     "metadata": {},
     "output_type": "display_data"
    },
    {
     "name": "stderr",
     "output_type": "stream",
     "text": [
      "[INFO 08-08 00:50:37] ax.service.managed_loop: Running optimization trial 30...\n"
     ]
    },
    {
     "name": "stdout",
     "output_type": "stream",
     "text": [
      "{'batch_size': 27, 'filter1': 108, 'filter2': 9, 'main_kernel': 28, 'receptive_layers': 1, 'lr': 1e-06, 'dropout': 0.35526084729222274, 'fc_out': 8, 'weight_decay': 0.1}\n",
      "----------------------------------------------------------------\n",
      "        Layer (type)               Output Shape         Param #\n",
      "================================================================\n",
      "            Conv2d-1          [-1, 108, 4, 128]          12,204\n",
      "              ReLU-2          [-1, 108, 4, 128]               0\n",
      "            Conv2d-3            [-1, 9, 4, 128]           2,925\n",
      "              ReLU-4            [-1, 9, 4, 128]               0\n",
      "            Conv2d-5            [-1, 9, 4, 128]             252\n",
      "              ReLU-6            [-1, 9, 4, 128]               0\n",
      "         MaxPool2d-7             [-1, 9, 4, 64]               0\n",
      "           Dropout-8                 [-1, 2304]               0\n",
      "            Linear-9                    [-1, 8]          18,440\n",
      "           Linear-10                    [-1, 6]              54\n",
      "          Softmax-11                    [-1, 6]               0\n",
      "================================================================\n",
      "Total params: 33,875\n",
      "Trainable params: 33,875\n",
      "Non-trainable params: 0\n",
      "----------------------------------------------------------------\n",
      "Input size (MB): 0.02\n",
      "Forward/backward pass size (MB): 1.02\n",
      "Params size (MB): 0.13\n",
      "Estimated Total Size (MB): 1.17\n",
      "----------------------------------------------------------------\n"
     ]
    },
    {
     "data": {
      "application/vnd.jupyter.widget-view+json": {
       "model_id": "",
       "version_major": 2,
       "version_minor": 0
      },
      "text/plain": [
       "HBox(children=(IntProgress(value=0, max=30), HTML(value='')))"
      ]
     },
     "metadata": {},
     "output_type": "display_data"
    },
    {
     "name": "stderr",
     "output_type": "stream",
     "text": [
      "[INFO 08-08 00:53:36] ax.service.managed_loop: Running optimization trial 31...\n"
     ]
    },
    {
     "name": "stdout",
     "output_type": "stream",
     "text": [
      "{'batch_size': 29, 'filter1': 104, 'filter2': 7, 'main_kernel': 31, 'receptive_layers': 1, 'lr': 1e-06, 'dropout': 0.3435859009223191, 'fc_out': 8, 'weight_decay': 0.0996803150851197}\n",
      "----------------------------------------------------------------\n",
      "        Layer (type)               Output Shape         Param #\n",
      "================================================================\n",
      "            Conv2d-1          [-1, 104, 4, 128]          13,000\n",
      "              ReLU-2          [-1, 104, 4, 128]               0\n",
      "            Conv2d-3            [-1, 7, 4, 128]           2,191\n",
      "              ReLU-4            [-1, 7, 4, 128]               0\n",
      "            Conv2d-5            [-1, 7, 4, 128]             154\n",
      "              ReLU-6            [-1, 7, 4, 128]               0\n",
      "         MaxPool2d-7             [-1, 7, 4, 64]               0\n",
      "           Dropout-8                 [-1, 1792]               0\n",
      "            Linear-9                    [-1, 8]          14,344\n",
      "           Linear-10                    [-1, 6]              54\n",
      "          Softmax-11                    [-1, 6]               0\n",
      "================================================================\n",
      "Total params: 29,743\n",
      "Trainable params: 29,743\n",
      "Non-trainable params: 0\n",
      "----------------------------------------------------------------\n",
      "Input size (MB): 0.02\n",
      "Forward/backward pass size (MB): 0.95\n",
      "Params size (MB): 0.11\n",
      "Estimated Total Size (MB): 1.09\n",
      "----------------------------------------------------------------\n"
     ]
    },
    {
     "data": {
      "application/vnd.jupyter.widget-view+json": {
       "model_id": "",
       "version_major": 2,
       "version_minor": 0
      },
      "text/plain": [
       "HBox(children=(IntProgress(value=0, max=30), HTML(value='')))"
      ]
     },
     "metadata": {},
     "output_type": "display_data"
    },
    {
     "name": "stderr",
     "output_type": "stream",
     "text": [
      "[INFO 08-08 00:56:31] ax.service.managed_loop: Running optimization trial 32...\n"
     ]
    },
    {
     "name": "stdout",
     "output_type": "stream",
     "text": [
      "{'batch_size': 25, 'filter1': 61, 'filter2': 8, 'main_kernel': 30, 'receptive_layers': 1, 'lr': 1e-06, 'dropout': 0.34621417477060984, 'fc_out': 8, 'weight_decay': 0.1}\n",
      "----------------------------------------------------------------\n",
      "        Layer (type)               Output Shape         Param #\n",
      "================================================================\n",
      "            Conv2d-1           [-1, 61, 4, 128]           7,381\n",
      "              ReLU-2           [-1, 61, 4, 128]               0\n",
      "            Conv2d-3            [-1, 8, 4, 128]           1,472\n",
      "              ReLU-4            [-1, 8, 4, 128]               0\n",
      "            Conv2d-5            [-1, 8, 4, 128]             200\n",
      "              ReLU-6            [-1, 8, 4, 128]               0\n",
      "         MaxPool2d-7             [-1, 8, 4, 64]               0\n",
      "           Dropout-8                 [-1, 2048]               0\n",
      "            Linear-9                    [-1, 8]          16,392\n",
      "           Linear-10                    [-1, 6]              54\n",
      "          Softmax-11                    [-1, 6]               0\n",
      "================================================================\n",
      "Total params: 25,499\n",
      "Trainable params: 25,499\n",
      "Non-trainable params: 0\n",
      "----------------------------------------------------------------\n",
      "Input size (MB): 0.02\n",
      "Forward/backward pass size (MB): 0.63\n",
      "Params size (MB): 0.10\n",
      "Estimated Total Size (MB): 0.75\n",
      "----------------------------------------------------------------\n"
     ]
    },
    {
     "data": {
      "application/vnd.jupyter.widget-view+json": {
       "model_id": "",
       "version_major": 2,
       "version_minor": 0
      },
      "text/plain": [
       "HBox(children=(IntProgress(value=0, max=30), HTML(value='')))"
      ]
     },
     "metadata": {},
     "output_type": "display_data"
    },
    {
     "name": "stderr",
     "output_type": "stream",
     "text": [
      "[INFO 08-08 00:59:18] ax.service.managed_loop: Running optimization trial 33...\n"
     ]
    },
    {
     "name": "stdout",
     "output_type": "stream",
     "text": [
      "{'batch_size': 21, 'filter1': 58, 'filter2': 10, 'main_kernel': 28, 'receptive_layers': 1, 'lr': 1e-06, 'dropout': 0.34642949452563476, 'fc_out': 9, 'weight_decay': 0.1}\n",
      "----------------------------------------------------------------\n",
      "        Layer (type)               Output Shape         Param #\n",
      "================================================================\n",
      "            Conv2d-1           [-1, 58, 4, 128]           6,554\n",
      "              ReLU-2           [-1, 58, 4, 128]               0\n",
      "            Conv2d-3           [-1, 10, 4, 128]           1,750\n",
      "              ReLU-4           [-1, 10, 4, 128]               0\n",
      "            Conv2d-5           [-1, 10, 4, 128]             310\n",
      "              ReLU-6           [-1, 10, 4, 128]               0\n",
      "         MaxPool2d-7            [-1, 10, 4, 64]               0\n",
      "           Dropout-8                 [-1, 2560]               0\n",
      "            Linear-9                    [-1, 9]          23,049\n",
      "           Linear-10                    [-1, 6]              60\n",
      "          Softmax-11                    [-1, 6]               0\n",
      "================================================================\n",
      "Total params: 31,723\n",
      "Trainable params: 31,723\n",
      "Non-trainable params: 0\n",
      "----------------------------------------------------------------\n",
      "Input size (MB): 0.02\n",
      "Forward/backward pass size (MB): 0.65\n",
      "Params size (MB): 0.12\n",
      "Estimated Total Size (MB): 0.79\n",
      "----------------------------------------------------------------\n"
     ]
    },
    {
     "data": {
      "application/vnd.jupyter.widget-view+json": {
       "model_id": "",
       "version_major": 2,
       "version_minor": 0
      },
      "text/plain": [
       "HBox(children=(IntProgress(value=0, max=30), HTML(value='')))"
      ]
     },
     "metadata": {},
     "output_type": "display_data"
    },
    {
     "name": "stderr",
     "output_type": "stream",
     "text": [
      "[INFO 08-08 01:02:14] ax.service.managed_loop: Running optimization trial 34...\n"
     ]
    },
    {
     "name": "stdout",
     "output_type": "stream",
     "text": [
      "{'batch_size': 30, 'filter1': 64, 'filter2': 6, 'main_kernel': 32, 'receptive_layers': 1, 'lr': 1e-06, 'dropout': 0.3461840985046374, 'fc_out': 7, 'weight_decay': 0.1}\n",
      "----------------------------------------------------------------\n",
      "        Layer (type)               Output Shape         Param #\n",
      "================================================================\n",
      "            Conv2d-1           [-1, 64, 4, 128]           8,256\n",
      "              ReLU-2           [-1, 64, 4, 128]               0\n",
      "            Conv2d-3            [-1, 6, 4, 128]           1,158\n",
      "              ReLU-4            [-1, 6, 4, 128]               0\n",
      "            Conv2d-5            [-1, 6, 4, 128]             114\n",
      "              ReLU-6            [-1, 6, 4, 128]               0\n",
      "         MaxPool2d-7             [-1, 6, 4, 64]               0\n",
      "           Dropout-8                 [-1, 1536]               0\n",
      "            Linear-9                    [-1, 7]          10,759\n",
      "           Linear-10                    [-1, 6]              48\n",
      "          Softmax-11                    [-1, 6]               0\n",
      "================================================================\n",
      "Total params: 20,335\n",
      "Trainable params: 20,335\n",
      "Non-trainable params: 0\n",
      "----------------------------------------------------------------\n",
      "Input size (MB): 0.02\n",
      "Forward/backward pass size (MB): 0.62\n",
      "Params size (MB): 0.08\n",
      "Estimated Total Size (MB): 0.72\n",
      "----------------------------------------------------------------\n"
     ]
    },
    {
     "data": {
      "application/vnd.jupyter.widget-view+json": {
       "model_id": "",
       "version_major": 2,
       "version_minor": 0
      },
      "text/plain": [
       "HBox(children=(IntProgress(value=0, max=30), HTML(value='')))"
      ]
     },
     "metadata": {},
     "output_type": "display_data"
    },
    {
     "name": "stderr",
     "output_type": "stream",
     "text": [
      "[INFO 08-08 01:04:56] ax.service.managed_loop: Running optimization trial 35...\n"
     ]
    },
    {
     "name": "stdout",
     "output_type": "stream",
     "text": [
      "{'batch_size': 33, 'filter1': 65, 'filter2': 10, 'main_kernel': 33, 'receptive_layers': 1, 'lr': 1e-06, 'dropout': 0.3460705364338418, 'fc_out': 8, 'weight_decay': 0.1}\n",
      "----------------------------------------------------------------\n",
      "        Layer (type)               Output Shape         Param #\n",
      "================================================================\n",
      "            Conv2d-1           [-1, 65, 4, 128]           8,645\n",
      "              ReLU-2           [-1, 65, 4, 128]               0\n",
      "            Conv2d-3           [-1, 10, 4, 128]           1,960\n",
      "              ReLU-4           [-1, 10, 4, 128]               0\n",
      "            Conv2d-5           [-1, 10, 4, 128]             310\n",
      "              ReLU-6           [-1, 10, 4, 128]               0\n",
      "         MaxPool2d-7            [-1, 10, 4, 64]               0\n",
      "           Dropout-8                 [-1, 2560]               0\n",
      "            Linear-9                    [-1, 8]          20,488\n",
      "           Linear-10                    [-1, 6]              54\n",
      "          Softmax-11                    [-1, 6]               0\n",
      "================================================================\n",
      "Total params: 31,457\n",
      "Trainable params: 31,457\n",
      "Non-trainable params: 0\n",
      "----------------------------------------------------------------\n",
      "Input size (MB): 0.02\n",
      "Forward/backward pass size (MB): 0.70\n",
      "Params size (MB): 0.12\n",
      "Estimated Total Size (MB): 0.85\n",
      "----------------------------------------------------------------\n"
     ]
    },
    {
     "data": {
      "application/vnd.jupyter.widget-view+json": {
       "model_id": "",
       "version_major": 2,
       "version_minor": 0
      },
      "text/plain": [
       "HBox(children=(IntProgress(value=0, max=30), HTML(value='')))"
      ]
     },
     "metadata": {},
     "output_type": "display_data"
    },
    {
     "name": "stderr",
     "output_type": "stream",
     "text": [
      "[INFO 08-08 01:07:42] ax.service.managed_loop: Running optimization trial 36...\n"
     ]
    },
    {
     "name": "stdout",
     "output_type": "stream",
     "text": [
      "{'batch_size': 31, 'filter1': 96, 'filter2': 7, 'main_kernel': 29, 'receptive_layers': 1, 'lr': 1.3161079381795157e-06, 'dropout': 0.35719510183203973, 'fc_out': 8, 'weight_decay': 0.09466183024382555}\n",
      "----------------------------------------------------------------\n",
      "        Layer (type)               Output Shape         Param #\n",
      "================================================================\n",
      "            Conv2d-1           [-1, 96, 4, 128]          11,232\n",
      "              ReLU-2           [-1, 96, 4, 128]               0\n",
      "            Conv2d-3            [-1, 7, 4, 128]           2,023\n",
      "              ReLU-4            [-1, 7, 4, 128]               0\n",
      "            Conv2d-5            [-1, 7, 4, 128]             154\n",
      "              ReLU-6            [-1, 7, 4, 128]               0\n",
      "         MaxPool2d-7             [-1, 7, 4, 64]               0\n",
      "           Dropout-8                 [-1, 1792]               0\n",
      "            Linear-9                    [-1, 8]          14,344\n",
      "           Linear-10                    [-1, 6]              54\n",
      "          Softmax-11                    [-1, 6]               0\n",
      "================================================================\n",
      "Total params: 27,807\n",
      "Trainable params: 27,807\n",
      "Non-trainable params: 0\n",
      "----------------------------------------------------------------\n",
      "Input size (MB): 0.02\n",
      "Forward/backward pass size (MB): 0.89\n",
      "Params size (MB): 0.11\n",
      "Estimated Total Size (MB): 1.02\n",
      "----------------------------------------------------------------\n"
     ]
    },
    {
     "data": {
      "application/vnd.jupyter.widget-view+json": {
       "model_id": "",
       "version_major": 2,
       "version_minor": 0
      },
      "text/plain": [
       "HBox(children=(IntProgress(value=0, max=30), HTML(value='')))"
      ]
     },
     "metadata": {},
     "output_type": "display_data"
    },
    {
     "name": "stderr",
     "output_type": "stream",
     "text": [
      "[INFO 08-08 01:10:37] ax.service.managed_loop: Running optimization trial 37...\n"
     ]
    },
    {
     "name": "stdout",
     "output_type": "stream",
     "text": [
      "{'batch_size': 24, 'filter1': 62, 'filter2': 5, 'main_kernel': 29, 'receptive_layers': 1, 'lr': 1.0047872999848904e-06, 'dropout': 0.34641792209586214, 'fc_out': 7, 'weight_decay': 0.09993292837682105}\n",
      "----------------------------------------------------------------\n",
      "        Layer (type)               Output Shape         Param #\n",
      "================================================================\n",
      "            Conv2d-1           [-1, 62, 4, 128]           7,254\n",
      "              ReLU-2           [-1, 62, 4, 128]               0\n",
      "            Conv2d-3            [-1, 5, 4, 128]             935\n",
      "              ReLU-4            [-1, 5, 4, 128]               0\n",
      "            Conv2d-5            [-1, 5, 4, 128]              80\n",
      "              ReLU-6            [-1, 5, 4, 128]               0\n",
      "         MaxPool2d-7             [-1, 5, 4, 64]               0\n",
      "           Dropout-8                 [-1, 1280]               0\n",
      "            Linear-9                    [-1, 7]           8,967\n",
      "           Linear-10                    [-1, 6]              48\n",
      "          Softmax-11                    [-1, 6]               0\n",
      "================================================================\n",
      "Total params: 17,284\n",
      "Trainable params: 17,284\n",
      "Non-trainable params: 0\n",
      "----------------------------------------------------------------\n",
      "Input size (MB): 0.02\n",
      "Forward/backward pass size (MB): 0.58\n",
      "Params size (MB): 0.07\n",
      "Estimated Total Size (MB): 0.67\n",
      "----------------------------------------------------------------\n"
     ]
    },
    {
     "data": {
      "application/vnd.jupyter.widget-view+json": {
       "model_id": "",
       "version_major": 2,
       "version_minor": 0
      },
      "text/plain": [
       "HBox(children=(IntProgress(value=0, max=30), HTML(value='')))"
      ]
     },
     "metadata": {},
     "output_type": "display_data"
    },
    {
     "name": "stderr",
     "output_type": "stream",
     "text": [
      "[INFO 08-08 01:13:24] ax.service.managed_loop: Running optimization trial 38...\n"
     ]
    },
    {
     "name": "stdout",
     "output_type": "stream",
     "text": [
      "{'batch_size': 28, 'filter1': 108, 'filter2': 8, 'main_kernel': 29, 'receptive_layers': 1, 'lr': 1.16402935495149e-06, 'dropout': 0.3586060444310103, 'fc_out': 8, 'weight_decay': 0.09700567787413199}\n",
      "----------------------------------------------------------------\n",
      "        Layer (type)               Output Shape         Param #\n",
      "================================================================\n",
      "            Conv2d-1          [-1, 108, 4, 128]          12,636\n",
      "              ReLU-2          [-1, 108, 4, 128]               0\n",
      "            Conv2d-3            [-1, 8, 4, 128]           2,600\n",
      "              ReLU-4            [-1, 8, 4, 128]               0\n",
      "            Conv2d-5            [-1, 8, 4, 128]             200\n",
      "              ReLU-6            [-1, 8, 4, 128]               0\n",
      "         MaxPool2d-7             [-1, 8, 4, 64]               0\n",
      "           Dropout-8                 [-1, 2048]               0\n",
      "            Linear-9                    [-1, 8]          16,392\n",
      "           Linear-10                    [-1, 6]              54\n",
      "          Softmax-11                    [-1, 6]               0\n",
      "================================================================\n",
      "Total params: 31,882\n",
      "Trainable params: 31,882\n",
      "Non-trainable params: 0\n",
      "----------------------------------------------------------------\n",
      "Input size (MB): 0.02\n",
      "Forward/backward pass size (MB): 1.00\n",
      "Params size (MB): 0.12\n",
      "Estimated Total Size (MB): 1.15\n",
      "----------------------------------------------------------------\n"
     ]
    },
    {
     "data": {
      "application/vnd.jupyter.widget-view+json": {
       "model_id": "",
       "version_major": 2,
       "version_minor": 0
      },
      "text/plain": [
       "HBox(children=(IntProgress(value=0, max=30), HTML(value='')))"
      ]
     },
     "metadata": {},
     "output_type": "display_data"
    },
    {
     "name": "stderr",
     "output_type": "stream",
     "text": [
      "[INFO 08-08 01:16:22] ax.service.managed_loop: Running optimization trial 39...\n"
     ]
    },
    {
     "name": "stdout",
     "output_type": "stream",
     "text": [
      "{'batch_size': 28, 'filter1': 102, 'filter2': 8, 'main_kernel': 30, 'receptive_layers': 1, 'lr': 1.1895085933281682e-06, 'dropout': 0.3586116202846822, 'fc_out': 8, 'weight_decay': 0.09530676068443347}\n",
      "----------------------------------------------------------------\n",
      "        Layer (type)               Output Shape         Param #\n",
      "================================================================\n",
      "            Conv2d-1          [-1, 102, 4, 128]          12,342\n",
      "              ReLU-2          [-1, 102, 4, 128]               0\n",
      "            Conv2d-3            [-1, 8, 4, 128]           2,456\n",
      "              ReLU-4            [-1, 8, 4, 128]               0\n",
      "            Conv2d-5            [-1, 8, 4, 128]             200\n",
      "              ReLU-6            [-1, 8, 4, 128]               0\n",
      "         MaxPool2d-7             [-1, 8, 4, 64]               0\n",
      "           Dropout-8                 [-1, 2048]               0\n",
      "            Linear-9                    [-1, 8]          16,392\n",
      "           Linear-10                    [-1, 6]              54\n",
      "          Softmax-11                    [-1, 6]               0\n",
      "================================================================\n",
      "Total params: 31,444\n",
      "Trainable params: 31,444\n",
      "Non-trainable params: 0\n",
      "----------------------------------------------------------------\n",
      "Input size (MB): 0.02\n",
      "Forward/backward pass size (MB): 0.95\n",
      "Params size (MB): 0.12\n",
      "Estimated Total Size (MB): 1.10\n",
      "----------------------------------------------------------------\n"
     ]
    },
    {
     "data": {
      "application/vnd.jupyter.widget-view+json": {
       "model_id": "",
       "version_major": 2,
       "version_minor": 0
      },
      "text/plain": [
       "HBox(children=(IntProgress(value=0, max=30), HTML(value='')))"
      ]
     },
     "metadata": {},
     "output_type": "display_data"
    },
    {
     "name": "stderr",
     "output_type": "stream",
     "text": [
      "[INFO 08-08 01:19:20] ax.service.managed_loop: Running optimization trial 40...\n"
     ]
    },
    {
     "name": "stdout",
     "output_type": "stream",
     "text": [
      "{'batch_size': 116, 'filter1': 4, 'filter2': 134, 'main_kernel': 14, 'receptive_layers': 0, 'lr': 1.5632791837164145e-05, 'dropout': 0.4524156090070811, 'fc_out': 16, 'weight_decay': 0.001349984930480913}\n",
      "----------------------------------------------------------------\n",
      "        Layer (type)               Output Shape         Param #\n",
      "================================================================\n",
      "            Conv2d-1            [-1, 4, 4, 128]             228\n",
      "              ReLU-2            [-1, 4, 4, 128]               0\n",
      "            Conv2d-3          [-1, 134, 4, 128]           1,742\n",
      "              ReLU-4          [-1, 134, 4, 128]               0\n",
      "         MaxPool2d-5           [-1, 134, 4, 64]               0\n",
      "           Dropout-6                [-1, 34304]               0\n",
      "            Linear-7                   [-1, 16]         548,880\n",
      "            Linear-8                    [-1, 6]             102\n",
      "           Softmax-9                    [-1, 6]               0\n",
      "================================================================\n",
      "Total params: 550,952\n",
      "Trainable params: 550,952\n",
      "Non-trainable params: 0\n",
      "----------------------------------------------------------------\n",
      "Input size (MB): 0.02\n",
      "Forward/backward pass size (MB): 1.60\n",
      "Params size (MB): 2.10\n",
      "Estimated Total Size (MB): 3.73\n",
      "----------------------------------------------------------------\n"
     ]
    },
    {
     "data": {
      "application/vnd.jupyter.widget-view+json": {
       "model_id": "",
       "version_major": 2,
       "version_minor": 0
      },
      "text/plain": [
       "HBox(children=(IntProgress(value=0, max=30), HTML(value='')))"
      ]
     },
     "metadata": {},
     "output_type": "display_data"
    },
    {
     "name": "stderr",
     "output_type": "stream",
     "text": [
      "[INFO 08-08 01:22:01] ax.service.managed_loop: Running optimization trial 41...\n"
     ]
    },
    {
     "name": "stdout",
     "output_type": "stream",
     "text": [
      "{'batch_size': 27, 'filter1': 64, 'filter2': 7, 'main_kernel': 31, 'receptive_layers': 1, 'lr': 1.0292265135097827e-06, 'dropout': 0.3459132560674787, 'fc_out': 8, 'weight_decay': 0.1}\n",
      "----------------------------------------------------------------\n",
      "        Layer (type)               Output Shape         Param #\n",
      "================================================================\n",
      "            Conv2d-1           [-1, 64, 4, 128]           8,000\n",
      "              ReLU-2           [-1, 64, 4, 128]               0\n",
      "            Conv2d-3            [-1, 7, 4, 128]           1,351\n",
      "              ReLU-4            [-1, 7, 4, 128]               0\n",
      "            Conv2d-5            [-1, 7, 4, 128]             154\n",
      "              ReLU-6            [-1, 7, 4, 128]               0\n",
      "         MaxPool2d-7             [-1, 7, 4, 64]               0\n",
      "           Dropout-8                 [-1, 1792]               0\n",
      "            Linear-9                    [-1, 8]          14,344\n",
      "           Linear-10                    [-1, 6]              54\n",
      "          Softmax-11                    [-1, 6]               0\n",
      "================================================================\n",
      "Total params: 23,903\n",
      "Trainable params: 23,903\n",
      "Non-trainable params: 0\n",
      "----------------------------------------------------------------\n",
      "Input size (MB): 0.02\n",
      "Forward/backward pass size (MB): 0.64\n",
      "Params size (MB): 0.09\n",
      "Estimated Total Size (MB): 0.75\n",
      "----------------------------------------------------------------\n"
     ]
    },
    {
     "data": {
      "application/vnd.jupyter.widget-view+json": {
       "model_id": "",
       "version_major": 2,
       "version_minor": 0
      },
      "text/plain": [
       "HBox(children=(IntProgress(value=0, max=30), HTML(value='')))"
      ]
     },
     "metadata": {},
     "output_type": "display_data"
    },
    {
     "name": "stderr",
     "output_type": "stream",
     "text": [
      "[INFO 08-08 01:24:50] ax.service.managed_loop: Running optimization trial 42...\n"
     ]
    },
    {
     "name": "stdout",
     "output_type": "stream",
     "text": [
      "{'batch_size': 25, 'filter1': 62, 'filter2': 9, 'main_kernel': 30, 'receptive_layers': 1, 'lr': 1.0006206948370294e-06, 'dropout': 0.3464786026465679, 'fc_out': 8, 'weight_decay': 0.09997175388781718}\n",
      "----------------------------------------------------------------\n",
      "        Layer (type)               Output Shape         Param #\n",
      "================================================================\n",
      "            Conv2d-1           [-1, 62, 4, 128]           7,502\n",
      "              ReLU-2           [-1, 62, 4, 128]               0\n",
      "            Conv2d-3            [-1, 9, 4, 128]           1,683\n",
      "              ReLU-4            [-1, 9, 4, 128]               0\n",
      "            Conv2d-5            [-1, 9, 4, 128]             252\n",
      "              ReLU-6            [-1, 9, 4, 128]               0\n",
      "         MaxPool2d-7             [-1, 9, 4, 64]               0\n",
      "           Dropout-8                 [-1, 2304]               0\n",
      "            Linear-9                    [-1, 8]          18,440\n",
      "           Linear-10                    [-1, 6]              54\n",
      "          Softmax-11                    [-1, 6]               0\n",
      "================================================================\n",
      "Total params: 27,931\n",
      "Trainable params: 27,931\n",
      "Non-trainable params: 0\n",
      "----------------------------------------------------------------\n",
      "Input size (MB): 0.02\n",
      "Forward/backward pass size (MB): 0.66\n",
      "Params size (MB): 0.11\n",
      "Estimated Total Size (MB): 0.79\n",
      "----------------------------------------------------------------\n"
     ]
    },
    {
     "data": {
      "application/vnd.jupyter.widget-view+json": {
       "model_id": "",
       "version_major": 2,
       "version_minor": 0
      },
      "text/plain": [
       "HBox(children=(IntProgress(value=0, max=30), HTML(value='')))"
      ]
     },
     "metadata": {},
     "output_type": "display_data"
    },
    {
     "name": "stderr",
     "output_type": "stream",
     "text": [
      "[INFO 08-08 01:27:38] ax.service.managed_loop: Running optimization trial 43...\n"
     ]
    },
    {
     "name": "stdout",
     "output_type": "stream",
     "text": [
      "{'batch_size': 23, 'filter1': 62, 'filter2': 8, 'main_kernel': 29, 'receptive_layers': 1, 'lr': 1.0229947796277073e-06, 'dropout': 0.3453517037005876, 'fc_out': 8, 'weight_decay': 0.1}\n",
      "----------------------------------------------------------------\n",
      "        Layer (type)               Output Shape         Param #\n",
      "================================================================\n",
      "            Conv2d-1           [-1, 62, 4, 128]           7,254\n",
      "              ReLU-2           [-1, 62, 4, 128]               0\n",
      "            Conv2d-3            [-1, 8, 4, 128]           1,496\n",
      "              ReLU-4            [-1, 8, 4, 128]               0\n",
      "            Conv2d-5            [-1, 8, 4, 128]             200\n",
      "              ReLU-6            [-1, 8, 4, 128]               0\n",
      "         MaxPool2d-7             [-1, 8, 4, 64]               0\n",
      "           Dropout-8                 [-1, 2048]               0\n",
      "            Linear-9                    [-1, 8]          16,392\n",
      "           Linear-10                    [-1, 6]              54\n",
      "          Softmax-11                    [-1, 6]               0\n",
      "================================================================\n",
      "Total params: 25,396\n",
      "Trainable params: 25,396\n",
      "Non-trainable params: 0\n",
      "----------------------------------------------------------------\n",
      "Input size (MB): 0.02\n",
      "Forward/backward pass size (MB): 0.64\n",
      "Params size (MB): 0.10\n",
      "Estimated Total Size (MB): 0.76\n",
      "----------------------------------------------------------------\n"
     ]
    },
    {
     "data": {
      "application/vnd.jupyter.widget-view+json": {
       "model_id": "",
       "version_major": 2,
       "version_minor": 0
      },
      "text/plain": [
       "HBox(children=(IntProgress(value=0, max=30), HTML(value='')))"
      ]
     },
     "metadata": {},
     "output_type": "display_data"
    },
    {
     "name": "stderr",
     "output_type": "stream",
     "text": [
      "[INFO 08-08 01:30:30] ax.service.managed_loop: Running optimization trial 44...\n"
     ]
    },
    {
     "name": "stdout",
     "output_type": "stream",
     "text": [
      "{'batch_size': 33, 'filter1': 109, 'filter2': 6, 'main_kernel': 32, 'receptive_layers': 1, 'lr': 1.6884726718348444e-06, 'dropout': 0.3607666985467153, 'fc_out': 8, 'weight_decay': 0.08769270702536168}\n",
      "----------------------------------------------------------------\n",
      "        Layer (type)               Output Shape         Param #\n",
      "================================================================\n",
      "            Conv2d-1          [-1, 109, 4, 128]          14,061\n",
      "              ReLU-2          [-1, 109, 4, 128]               0\n",
      "            Conv2d-3            [-1, 6, 4, 128]           1,968\n",
      "              ReLU-4            [-1, 6, 4, 128]               0\n",
      "            Conv2d-5            [-1, 6, 4, 128]             114\n",
      "              ReLU-6            [-1, 6, 4, 128]               0\n",
      "         MaxPool2d-7             [-1, 6, 4, 64]               0\n",
      "           Dropout-8                 [-1, 1536]               0\n",
      "            Linear-9                    [-1, 8]          12,296\n",
      "           Linear-10                    [-1, 6]              54\n",
      "          Softmax-11                    [-1, 6]               0\n",
      "================================================================\n",
      "Total params: 28,493\n",
      "Trainable params: 28,493\n",
      "Non-trainable params: 0\n",
      "----------------------------------------------------------------\n",
      "Input size (MB): 0.02\n",
      "Forward/backward pass size (MB): 0.97\n",
      "Params size (MB): 0.11\n",
      "Estimated Total Size (MB): 1.10\n",
      "----------------------------------------------------------------\n"
     ]
    },
    {
     "data": {
      "application/vnd.jupyter.widget-view+json": {
       "model_id": "",
       "version_major": 2,
       "version_minor": 0
      },
      "text/plain": [
       "HBox(children=(IntProgress(value=0, max=30), HTML(value='')))"
      ]
     },
     "metadata": {},
     "output_type": "display_data"
    },
    {
     "name": "stderr",
     "output_type": "stream",
     "text": [
      "[INFO 08-08 01:33:26] ax.service.managed_loop: Running optimization trial 45...\n"
     ]
    },
    {
     "name": "stdout",
     "output_type": "stream",
     "text": [
      "{'batch_size': 38, 'filter1': 112, 'filter2': 6, 'main_kernel': 32, 'receptive_layers': 1, 'lr': 1.8206395090141843e-06, 'dropout': 0.3606482854019506, 'fc_out': 8, 'weight_decay': 0.08686829183883533}\n",
      "----------------------------------------------------------------\n",
      "        Layer (type)               Output Shape         Param #\n",
      "================================================================\n",
      "            Conv2d-1          [-1, 112, 4, 128]          14,448\n",
      "              ReLU-2          [-1, 112, 4, 128]               0\n",
      "            Conv2d-3            [-1, 6, 4, 128]           2,022\n",
      "              ReLU-4            [-1, 6, 4, 128]               0\n",
      "            Conv2d-5            [-1, 6, 4, 128]             114\n",
      "              ReLU-6            [-1, 6, 4, 128]               0\n",
      "         MaxPool2d-7             [-1, 6, 4, 64]               0\n",
      "           Dropout-8                 [-1, 1536]               0\n",
      "            Linear-9                    [-1, 8]          12,296\n",
      "           Linear-10                    [-1, 6]              54\n",
      "          Softmax-11                    [-1, 6]               0\n",
      "================================================================\n",
      "Total params: 28,934\n",
      "Trainable params: 28,934\n",
      "Non-trainable params: 0\n",
      "----------------------------------------------------------------\n",
      "Input size (MB): 0.02\n",
      "Forward/backward pass size (MB): 0.99\n",
      "Params size (MB): 0.11\n",
      "Estimated Total Size (MB): 1.13\n",
      "----------------------------------------------------------------\n"
     ]
    },
    {
     "data": {
      "application/vnd.jupyter.widget-view+json": {
       "model_id": "",
       "version_major": 2,
       "version_minor": 0
      },
      "text/plain": [
       "HBox(children=(IntProgress(value=0, max=30), HTML(value='')))"
      ]
     },
     "metadata": {},
     "output_type": "display_data"
    },
    {
     "name": "stderr",
     "output_type": "stream",
     "text": [
      "[INFO 08-08 01:36:19] ax.service.managed_loop: Running optimization trial 46...\n"
     ]
    },
    {
     "name": "stdout",
     "output_type": "stream",
     "text": [
      "{'batch_size': 25, 'filter1': 152, 'filter2': 7, 'main_kernel': 34, 'receptive_layers': 1, 'lr': 5.9060399215036415e-05, 'dropout': 0.3699902020394802, 'fc_out': 16, 'weight_decay': 0.000465583859618361}\n",
      "----------------------------------------------------------------\n",
      "        Layer (type)               Output Shape         Param #\n",
      "================================================================\n",
      "            Conv2d-1          [-1, 152, 4, 128]          20,824\n",
      "              ReLU-2          [-1, 152, 4, 128]               0\n",
      "            Conv2d-3            [-1, 7, 4, 128]           3,199\n",
      "              ReLU-4            [-1, 7, 4, 128]               0\n",
      "            Conv2d-5            [-1, 7, 4, 128]             154\n",
      "              ReLU-6            [-1, 7, 4, 128]               0\n",
      "         MaxPool2d-7             [-1, 7, 4, 64]               0\n",
      "           Dropout-8                 [-1, 1792]               0\n",
      "            Linear-9                   [-1, 16]          28,688\n",
      "           Linear-10                    [-1, 6]             102\n",
      "          Softmax-11                    [-1, 6]               0\n",
      "================================================================\n",
      "Total params: 52,967\n",
      "Trainable params: 52,967\n",
      "Non-trainable params: 0\n",
      "----------------------------------------------------------------\n",
      "Input size (MB): 0.02\n",
      "Forward/backward pass size (MB): 1.32\n",
      "Params size (MB): 0.20\n",
      "Estimated Total Size (MB): 1.55\n",
      "----------------------------------------------------------------\n"
     ]
    },
    {
     "data": {
      "application/vnd.jupyter.widget-view+json": {
       "model_id": "",
       "version_major": 2,
       "version_minor": 0
      },
      "text/plain": [
       "HBox(children=(IntProgress(value=0, max=30), HTML(value='')))"
      ]
     },
     "metadata": {},
     "output_type": "display_data"
    },
    {
     "name": "stderr",
     "output_type": "stream",
     "text": [
      "[INFO 08-08 01:39:27] ax.service.managed_loop: Running optimization trial 47...\n"
     ]
    },
    {
     "name": "stdout",
     "output_type": "stream",
     "text": [
      "{'batch_size': 28, 'filter1': 103, 'filter2': 8, 'main_kernel': 29, 'receptive_layers': 1, 'lr': 1.1813703636300606e-06, 'dropout': 0.3550526144647004, 'fc_out': 8, 'weight_decay': 0.09780147834842651}\n",
      "----------------------------------------------------------------\n",
      "        Layer (type)               Output Shape         Param #\n",
      "================================================================\n",
      "            Conv2d-1          [-1, 103, 4, 128]          12,051\n",
      "              ReLU-2          [-1, 103, 4, 128]               0\n",
      "            Conv2d-3            [-1, 8, 4, 128]           2,480\n",
      "              ReLU-4            [-1, 8, 4, 128]               0\n",
      "            Conv2d-5            [-1, 8, 4, 128]             200\n",
      "              ReLU-6            [-1, 8, 4, 128]               0\n",
      "         MaxPool2d-7             [-1, 8, 4, 64]               0\n",
      "           Dropout-8                 [-1, 2048]               0\n",
      "            Linear-9                    [-1, 8]          16,392\n",
      "           Linear-10                    [-1, 6]              54\n",
      "          Softmax-11                    [-1, 6]               0\n",
      "================================================================\n",
      "Total params: 31,177\n",
      "Trainable params: 31,177\n",
      "Non-trainable params: 0\n",
      "----------------------------------------------------------------\n",
      "Input size (MB): 0.02\n",
      "Forward/backward pass size (MB): 0.96\n",
      "Params size (MB): 0.12\n",
      "Estimated Total Size (MB): 1.10\n",
      "----------------------------------------------------------------\n"
     ]
    },
    {
     "data": {
      "application/vnd.jupyter.widget-view+json": {
       "model_id": "",
       "version_major": 2,
       "version_minor": 0
      },
      "text/plain": [
       "HBox(children=(IntProgress(value=0, max=30), HTML(value='')))"
      ]
     },
     "metadata": {},
     "output_type": "display_data"
    },
    {
     "name": "stderr",
     "output_type": "stream",
     "text": [
      "[INFO 08-08 01:42:26] ax.service.managed_loop: Running optimization trial 48...\n"
     ]
    },
    {
     "name": "stdout",
     "output_type": "stream",
     "text": [
      "{'batch_size': 22, 'filter1': 61, 'filter2': 8, 'main_kernel': 28, 'receptive_layers': 1, 'lr': 1.0406692008398742e-06, 'dropout': 0.34408306039580416, 'fc_out': 8, 'weight_decay': 0.1}\n",
      "----------------------------------------------------------------\n",
      "        Layer (type)               Output Shape         Param #\n",
      "================================================================\n",
      "            Conv2d-1           [-1, 61, 4, 128]           6,893\n",
      "              ReLU-2           [-1, 61, 4, 128]               0\n",
      "            Conv2d-3            [-1, 8, 4, 128]           1,472\n",
      "              ReLU-4            [-1, 8, 4, 128]               0\n",
      "            Conv2d-5            [-1, 8, 4, 128]             200\n",
      "              ReLU-6            [-1, 8, 4, 128]               0\n",
      "         MaxPool2d-7             [-1, 8, 4, 64]               0\n",
      "           Dropout-8                 [-1, 2048]               0\n",
      "            Linear-9                    [-1, 8]          16,392\n",
      "           Linear-10                    [-1, 6]              54\n",
      "          Softmax-11                    [-1, 6]               0\n",
      "================================================================\n",
      "Total params: 25,011\n",
      "Trainable params: 25,011\n",
      "Non-trainable params: 0\n",
      "----------------------------------------------------------------\n",
      "Input size (MB): 0.02\n",
      "Forward/backward pass size (MB): 0.63\n",
      "Params size (MB): 0.10\n",
      "Estimated Total Size (MB): 0.75\n",
      "----------------------------------------------------------------\n"
     ]
    },
    {
     "data": {
      "application/vnd.jupyter.widget-view+json": {
       "model_id": "",
       "version_major": 2,
       "version_minor": 0
      },
      "text/plain": [
       "HBox(children=(IntProgress(value=0, max=30), HTML(value='')))"
      ]
     },
     "metadata": {},
     "output_type": "display_data"
    },
    {
     "name": "stderr",
     "output_type": "stream",
     "text": [
      "[INFO 08-08 01:45:19] ax.service.managed_loop: Running optimization trial 49...\n"
     ]
    },
    {
     "name": "stdout",
     "output_type": "stream",
     "text": [
      "{'batch_size': 21, 'filter1': 103, 'filter2': 5, 'main_kernel': 30, 'receptive_layers': 1, 'lr': 2.6563210289166937e-06, 'dropout': 0.3515660655153946, 'fc_out': 9, 'weight_decay': 0.05782324668231581}\n",
      "----------------------------------------------------------------\n",
      "        Layer (type)               Output Shape         Param #\n",
      "================================================================\n",
      "            Conv2d-1          [-1, 103, 4, 128]          12,463\n",
      "              ReLU-2          [-1, 103, 4, 128]               0\n",
      "            Conv2d-3            [-1, 5, 4, 128]           1,550\n",
      "              ReLU-4            [-1, 5, 4, 128]               0\n",
      "            Conv2d-5            [-1, 5, 4, 128]              80\n",
      "              ReLU-6            [-1, 5, 4, 128]               0\n",
      "         MaxPool2d-7             [-1, 5, 4, 64]               0\n",
      "           Dropout-8                 [-1, 1280]               0\n",
      "            Linear-9                    [-1, 9]          11,529\n",
      "           Linear-10                    [-1, 6]              60\n",
      "          Softmax-11                    [-1, 6]               0\n",
      "================================================================\n",
      "Total params: 25,682\n",
      "Trainable params: 25,682\n",
      "Non-trainable params: 0\n",
      "----------------------------------------------------------------\n",
      "Input size (MB): 0.02\n",
      "Forward/backward pass size (MB): 0.90\n",
      "Params size (MB): 0.10\n",
      "Estimated Total Size (MB): 1.02\n",
      "----------------------------------------------------------------\n"
     ]
    },
    {
     "data": {
      "application/vnd.jupyter.widget-view+json": {
       "model_id": "",
       "version_major": 2,
       "version_minor": 0
      },
      "text/plain": [
       "HBox(children=(IntProgress(value=0, max=30), HTML(value='')))"
      ]
     },
     "metadata": {},
     "output_type": "display_data"
    },
    {
     "name": "stderr",
     "output_type": "stream",
     "text": [
      "[INFO 08-08 01:48:22] ax.service.managed_loop: Running optimization trial 50...\n"
     ]
    },
    {
     "name": "stdout",
     "output_type": "stream",
     "text": [
      "{'batch_size': 27, 'filter1': 72, 'filter2': 9, 'main_kernel': 29, 'receptive_layers': 1, 'lr': 1.2189007851692028e-06, 'dropout': 0.3439520071281972, 'fc_out': 8, 'weight_decay': 0.1}\n",
      "----------------------------------------------------------------\n",
      "        Layer (type)               Output Shape         Param #\n",
      "================================================================\n",
      "            Conv2d-1           [-1, 72, 4, 128]           8,424\n",
      "              ReLU-2           [-1, 72, 4, 128]               0\n",
      "            Conv2d-3            [-1, 9, 4, 128]           1,953\n",
      "              ReLU-4            [-1, 9, 4, 128]               0\n",
      "            Conv2d-5            [-1, 9, 4, 128]             252\n",
      "              ReLU-6            [-1, 9, 4, 128]               0\n",
      "         MaxPool2d-7             [-1, 9, 4, 64]               0\n",
      "           Dropout-8                 [-1, 2304]               0\n",
      "            Linear-9                    [-1, 8]          18,440\n",
      "           Linear-10                    [-1, 6]              54\n",
      "          Softmax-11                    [-1, 6]               0\n",
      "================================================================\n",
      "Total params: 29,123\n",
      "Trainable params: 29,123\n",
      "Non-trainable params: 0\n",
      "----------------------------------------------------------------\n",
      "Input size (MB): 0.02\n",
      "Forward/backward pass size (MB): 0.74\n",
      "Params size (MB): 0.11\n",
      "Estimated Total Size (MB): 0.87\n",
      "----------------------------------------------------------------\n"
     ]
    },
    {
     "data": {
      "application/vnd.jupyter.widget-view+json": {
       "model_id": "",
       "version_major": 2,
       "version_minor": 0
      },
      "text/plain": [
       "HBox(children=(IntProgress(value=0, max=30), HTML(value='')))"
      ]
     },
     "metadata": {},
     "output_type": "display_data"
    },
    {
     "name": "stderr",
     "output_type": "stream",
     "text": [
      "[INFO 08-08 01:51:11] ax.service.managed_loop: Running optimization trial 51...\n"
     ]
    },
    {
     "name": "stdout",
     "output_type": "stream",
     "text": [
      "{'batch_size': 32, 'filter1': 72, 'filter2': 17, 'main_kernel': 31, 'receptive_layers': 1, 'lr': 2.029570741655167e-06, 'dropout': 0.34280841478186364, 'fc_out': 9, 'weight_decay': 0.0810835621223675}\n",
      "----------------------------------------------------------------\n",
      "        Layer (type)               Output Shape         Param #\n",
      "================================================================\n",
      "            Conv2d-1           [-1, 72, 4, 128]           9,000\n",
      "              ReLU-2           [-1, 72, 4, 128]               0\n",
      "            Conv2d-3           [-1, 17, 4, 128]           3,689\n",
      "              ReLU-4           [-1, 17, 4, 128]               0\n",
      "            Conv2d-5           [-1, 17, 4, 128]             884\n",
      "              ReLU-6           [-1, 17, 4, 128]               0\n",
      "         MaxPool2d-7            [-1, 17, 4, 64]               0\n",
      "           Dropout-8                 [-1, 4352]               0\n",
      "            Linear-9                    [-1, 9]          39,177\n",
      "           Linear-10                    [-1, 6]              60\n",
      "          Softmax-11                    [-1, 6]               0\n",
      "================================================================\n",
      "Total params: 52,810\n",
      "Trainable params: 52,810\n",
      "Non-trainable params: 0\n",
      "----------------------------------------------------------------\n",
      "Input size (MB): 0.02\n",
      "Forward/backward pass size (MB): 0.89\n",
      "Params size (MB): 0.20\n",
      "Estimated Total Size (MB): 1.12\n",
      "----------------------------------------------------------------\n"
     ]
    },
    {
     "data": {
      "application/vnd.jupyter.widget-view+json": {
       "model_id": "",
       "version_major": 2,
       "version_minor": 0
      },
      "text/plain": [
       "HBox(children=(IntProgress(value=0, max=30), HTML(value='')))"
      ]
     },
     "metadata": {},
     "output_type": "display_data"
    },
    {
     "name": "stderr",
     "output_type": "stream",
     "text": [
      "[INFO 08-08 01:53:57] ax.service.managed_loop: Running optimization trial 52...\n"
     ]
    },
    {
     "name": "stdout",
     "output_type": "stream",
     "text": [
      "{'batch_size': 26, 'filter1': 72, 'filter2': 20, 'main_kernel': 30, 'receptive_layers': 1, 'lr': 1.944162495207036e-06, 'dropout': 0.34141939432919144, 'fc_out': 8, 'weight_decay': 0.09741916719231528}\n",
      "----------------------------------------------------------------\n",
      "        Layer (type)               Output Shape         Param #\n",
      "================================================================\n",
      "            Conv2d-1           [-1, 72, 4, 128]           8,712\n",
      "              ReLU-2           [-1, 72, 4, 128]               0\n",
      "            Conv2d-3           [-1, 20, 4, 128]           4,340\n",
      "              ReLU-4           [-1, 20, 4, 128]               0\n",
      "            Conv2d-5           [-1, 20, 4, 128]           1,220\n",
      "              ReLU-6           [-1, 20, 4, 128]               0\n",
      "         MaxPool2d-7            [-1, 20, 4, 64]               0\n",
      "           Dropout-8                 [-1, 5120]               0\n",
      "            Linear-9                    [-1, 8]          40,968\n",
      "           Linear-10                    [-1, 6]              54\n",
      "          Softmax-11                    [-1, 6]               0\n",
      "================================================================\n",
      "Total params: 55,294\n",
      "Trainable params: 55,294\n",
      "Non-trainable params: 0\n",
      "----------------------------------------------------------------\n",
      "Input size (MB): 0.02\n",
      "Forward/backward pass size (MB): 0.95\n",
      "Params size (MB): 0.21\n",
      "Estimated Total Size (MB): 1.19\n",
      "----------------------------------------------------------------\n"
     ]
    },
    {
     "data": {
      "application/vnd.jupyter.widget-view+json": {
       "model_id": "",
       "version_major": 2,
       "version_minor": 0
      },
      "text/plain": [
       "HBox(children=(IntProgress(value=0, max=30), HTML(value='')))"
      ]
     },
     "metadata": {},
     "output_type": "display_data"
    },
    {
     "name": "stderr",
     "output_type": "stream",
     "text": [
      "[INFO 08-08 01:56:50] ax.service.managed_loop: Running optimization trial 53...\n"
     ]
    },
    {
     "name": "stdout",
     "output_type": "stream",
     "text": [
      "{'batch_size': 36, 'filter1': 73, 'filter2': 12, 'main_kernel': 31, 'receptive_layers': 1, 'lr': 1.7244173670402349e-06, 'dropout': 0.3439592614402407, 'fc_out': 10, 'weight_decay': 0.07581725753190714}\n",
      "----------------------------------------------------------------\n",
      "        Layer (type)               Output Shape         Param #\n",
      "================================================================\n",
      "            Conv2d-1           [-1, 73, 4, 128]           9,125\n",
      "              ReLU-2           [-1, 73, 4, 128]               0\n",
      "            Conv2d-3           [-1, 12, 4, 128]           2,640\n",
      "              ReLU-4           [-1, 12, 4, 128]               0\n",
      "            Conv2d-5           [-1, 12, 4, 128]             444\n",
      "              ReLU-6           [-1, 12, 4, 128]               0\n",
      "         MaxPool2d-7            [-1, 12, 4, 64]               0\n",
      "           Dropout-8                 [-1, 3072]               0\n",
      "            Linear-9                   [-1, 10]          30,730\n",
      "           Linear-10                    [-1, 6]              66\n",
      "          Softmax-11                    [-1, 6]               0\n",
      "================================================================\n",
      "Total params: 43,005\n",
      "Trainable params: 43,005\n",
      "Non-trainable params: 0\n",
      "----------------------------------------------------------------\n",
      "Input size (MB): 0.02\n",
      "Forward/backward pass size (MB): 0.80\n",
      "Params size (MB): 0.16\n",
      "Estimated Total Size (MB): 0.99\n",
      "----------------------------------------------------------------\n"
     ]
    },
    {
     "data": {
      "application/vnd.jupyter.widget-view+json": {
       "model_id": "",
       "version_major": 2,
       "version_minor": 0
      },
      "text/plain": [
       "HBox(children=(IntProgress(value=0, max=30), HTML(value='')))"
      ]
     },
     "metadata": {},
     "output_type": "display_data"
    },
    {
     "name": "stderr",
     "output_type": "stream",
     "text": [
      "[INFO 08-08 01:59:35] ax.service.managed_loop: Running optimization trial 54...\n"
     ]
    },
    {
     "name": "stdout",
     "output_type": "stream",
     "text": [
      "{'batch_size': 35, 'filter1': 71, 'filter2': 16, 'main_kernel': 32, 'receptive_layers': 1, 'lr': 2.1192222177842547e-06, 'dropout': 0.3437973456545478, 'fc_out': 9, 'weight_decay': 0.0731076522933587}\n",
      "----------------------------------------------------------------\n",
      "        Layer (type)               Output Shape         Param #\n",
      "================================================================\n",
      "            Conv2d-1           [-1, 71, 4, 128]           9,159\n",
      "              ReLU-2           [-1, 71, 4, 128]               0\n",
      "            Conv2d-3           [-1, 16, 4, 128]           3,424\n",
      "              ReLU-4           [-1, 16, 4, 128]               0\n",
      "            Conv2d-5           [-1, 16, 4, 128]             784\n",
      "              ReLU-6           [-1, 16, 4, 128]               0\n",
      "         MaxPool2d-7            [-1, 16, 4, 64]               0\n",
      "           Dropout-8                 [-1, 4096]               0\n",
      "            Linear-9                    [-1, 9]          36,873\n",
      "           Linear-10                    [-1, 6]              60\n",
      "          Softmax-11                    [-1, 6]               0\n",
      "================================================================\n",
      "Total params: 50,300\n",
      "Trainable params: 50,300\n",
      "Non-trainable params: 0\n",
      "----------------------------------------------------------------\n",
      "Input size (MB): 0.02\n",
      "Forward/backward pass size (MB): 0.87\n",
      "Params size (MB): 0.19\n",
      "Estimated Total Size (MB): 1.08\n",
      "----------------------------------------------------------------\n"
     ]
    },
    {
     "data": {
      "application/vnd.jupyter.widget-view+json": {
       "model_id": "",
       "version_major": 2,
       "version_minor": 0
      },
      "text/plain": [
       "HBox(children=(IntProgress(value=0, max=30), HTML(value='')))"
      ]
     },
     "metadata": {},
     "output_type": "display_data"
    },
    {
     "name": "stderr",
     "output_type": "stream",
     "text": [
      "[INFO 08-08 02:02:22] ax.service.managed_loop: Running optimization trial 55...\n"
     ]
    },
    {
     "name": "stdout",
     "output_type": "stream",
     "text": [
      "{'batch_size': 33, 'filter1': 108, 'filter2': 6, 'main_kernel': 31, 'receptive_layers': 1, 'lr': 1.4970890845538986e-06, 'dropout': 0.3607378254660647, 'fc_out': 7, 'weight_decay': 0.08393958651880638}\n",
      "----------------------------------------------------------------\n",
      "        Layer (type)               Output Shape         Param #\n",
      "================================================================\n",
      "            Conv2d-1          [-1, 108, 4, 128]          13,500\n",
      "              ReLU-2          [-1, 108, 4, 128]               0\n",
      "            Conv2d-3            [-1, 6, 4, 128]           1,950\n",
      "              ReLU-4            [-1, 6, 4, 128]               0\n",
      "            Conv2d-5            [-1, 6, 4, 128]             114\n",
      "              ReLU-6            [-1, 6, 4, 128]               0\n",
      "         MaxPool2d-7             [-1, 6, 4, 64]               0\n",
      "           Dropout-8                 [-1, 1536]               0\n",
      "            Linear-9                    [-1, 7]          10,759\n",
      "           Linear-10                    [-1, 6]              48\n",
      "          Softmax-11                    [-1, 6]               0\n",
      "================================================================\n",
      "Total params: 26,371\n",
      "Trainable params: 26,371\n",
      "Non-trainable params: 0\n",
      "----------------------------------------------------------------\n",
      "Input size (MB): 0.02\n",
      "Forward/backward pass size (MB): 0.96\n",
      "Params size (MB): 0.10\n",
      "Estimated Total Size (MB): 1.09\n",
      "----------------------------------------------------------------\n"
     ]
    },
    {
     "data": {
      "application/vnd.jupyter.widget-view+json": {
       "model_id": "",
       "version_major": 2,
       "version_minor": 0
      },
      "text/plain": [
       "HBox(children=(IntProgress(value=0, max=30), HTML(value='')))"
      ]
     },
     "metadata": {},
     "output_type": "display_data"
    },
    {
     "name": "stderr",
     "output_type": "stream",
     "text": [
      "[INFO 08-08 02:05:19] ax.service.managed_loop: Running optimization trial 56...\n"
     ]
    },
    {
     "name": "stdout",
     "output_type": "stream",
     "text": [
      "{'batch_size': 21, 'filter1': 51, 'filter2': 8, 'main_kernel': 30, 'receptive_layers': 1, 'lr': 1.0000000051958402e-06, 'dropout': 0.3440565056741902, 'fc_out': 8, 'weight_decay': 0.1}\n",
      "----------------------------------------------------------------\n",
      "        Layer (type)               Output Shape         Param #\n",
      "================================================================\n",
      "            Conv2d-1           [-1, 51, 4, 128]           6,171\n",
      "              ReLU-2           [-1, 51, 4, 128]               0\n",
      "            Conv2d-3            [-1, 8, 4, 128]           1,232\n",
      "              ReLU-4            [-1, 8, 4, 128]               0\n",
      "            Conv2d-5            [-1, 8, 4, 128]             200\n",
      "              ReLU-6            [-1, 8, 4, 128]               0\n",
      "         MaxPool2d-7             [-1, 8, 4, 64]               0\n",
      "           Dropout-8                 [-1, 2048]               0\n",
      "            Linear-9                    [-1, 8]          16,392\n",
      "           Linear-10                    [-1, 6]              54\n",
      "          Softmax-11                    [-1, 6]               0\n",
      "================================================================\n",
      "Total params: 24,049\n",
      "Trainable params: 24,049\n",
      "Non-trainable params: 0\n",
      "----------------------------------------------------------------\n",
      "Input size (MB): 0.02\n",
      "Forward/backward pass size (MB): 0.55\n",
      "Params size (MB): 0.09\n",
      "Estimated Total Size (MB): 0.67\n",
      "----------------------------------------------------------------\n"
     ]
    },
    {
     "data": {
      "application/vnd.jupyter.widget-view+json": {
       "model_id": "",
       "version_major": 2,
       "version_minor": 0
      },
      "text/plain": [
       "HBox(children=(IntProgress(value=0, max=30), HTML(value='')))"
      ]
     },
     "metadata": {},
     "output_type": "display_data"
    },
    {
     "name": "stderr",
     "output_type": "stream",
     "text": [
      "[INFO 08-08 02:08:15] ax.service.managed_loop: Running optimization trial 57...\n"
     ]
    },
    {
     "name": "stdout",
     "output_type": "stream",
     "text": [
      "{'batch_size': 138, 'filter1': 215, 'filter2': 16, 'main_kernel': 32, 'receptive_layers': 1, 'lr': 2.0066359918292594e-06, 'dropout': 0.32358811643840363, 'fc_out': 19, 'weight_decay': 0.013571124400712361}\n",
      "----------------------------------------------------------------\n",
      "        Layer (type)               Output Shape         Param #\n",
      "================================================================\n",
      "            Conv2d-1          [-1, 215, 4, 128]          27,735\n",
      "              ReLU-2          [-1, 215, 4, 128]               0\n",
      "            Conv2d-3           [-1, 16, 4, 128]          10,336\n",
      "              ReLU-4           [-1, 16, 4, 128]               0\n",
      "            Conv2d-5           [-1, 16, 4, 128]             784\n",
      "              ReLU-6           [-1, 16, 4, 128]               0\n",
      "         MaxPool2d-7            [-1, 16, 4, 64]               0\n",
      "           Dropout-8                 [-1, 4096]               0\n",
      "            Linear-9                   [-1, 19]          77,843\n",
      "           Linear-10                    [-1, 6]             120\n",
      "          Softmax-11                    [-1, 6]               0\n",
      "================================================================\n",
      "Total params: 116,818\n",
      "Trainable params: 116,818\n",
      "Non-trainable params: 0\n",
      "----------------------------------------------------------------\n",
      "Input size (MB): 0.02\n",
      "Forward/backward pass size (MB): 1.99\n",
      "Params size (MB): 0.45\n",
      "Estimated Total Size (MB): 2.46\n",
      "----------------------------------------------------------------\n"
     ]
    },
    {
     "data": {
      "application/vnd.jupyter.widget-view+json": {
       "model_id": "",
       "version_major": 2,
       "version_minor": 0
      },
      "text/plain": [
       "HBox(children=(IntProgress(value=0, max=30), HTML(value='')))"
      ]
     },
     "metadata": {},
     "output_type": "display_data"
    },
    {
     "name": "stderr",
     "output_type": "stream",
     "text": [
      "[INFO 08-08 02:11:13] ax.service.managed_loop: Running optimization trial 58...\n"
     ]
    },
    {
     "name": "stdout",
     "output_type": "stream",
     "text": [
      "{'batch_size': 27, 'filter1': 110, 'filter2': 8, 'main_kernel': 28, 'receptive_layers': 1, 'lr': 1.1382877894126315e-06, 'dropout': 0.3597382792150262, 'fc_out': 8, 'weight_decay': 0.09817980216117478}\n",
      "----------------------------------------------------------------\n",
      "        Layer (type)               Output Shape         Param #\n",
      "================================================================\n",
      "            Conv2d-1          [-1, 110, 4, 128]          12,430\n",
      "              ReLU-2          [-1, 110, 4, 128]               0\n",
      "            Conv2d-3            [-1, 8, 4, 128]           2,648\n",
      "              ReLU-4            [-1, 8, 4, 128]               0\n",
      "            Conv2d-5            [-1, 8, 4, 128]             200\n",
      "              ReLU-6            [-1, 8, 4, 128]               0\n",
      "         MaxPool2d-7             [-1, 8, 4, 64]               0\n",
      "           Dropout-8                 [-1, 2048]               0\n",
      "            Linear-9                    [-1, 8]          16,392\n",
      "           Linear-10                    [-1, 6]              54\n",
      "          Softmax-11                    [-1, 6]               0\n",
      "================================================================\n",
      "Total params: 31,724\n",
      "Trainable params: 31,724\n",
      "Non-trainable params: 0\n",
      "----------------------------------------------------------------\n",
      "Input size (MB): 0.02\n",
      "Forward/backward pass size (MB): 1.02\n",
      "Params size (MB): 0.12\n",
      "Estimated Total Size (MB): 1.16\n",
      "----------------------------------------------------------------\n"
     ]
    },
    {
     "data": {
      "application/vnd.jupyter.widget-view+json": {
       "model_id": "",
       "version_major": 2,
       "version_minor": 0
      },
      "text/plain": [
       "HBox(children=(IntProgress(value=0, max=30), HTML(value='')))"
      ]
     },
     "metadata": {},
     "output_type": "display_data"
    },
    {
     "name": "stderr",
     "output_type": "stream",
     "text": [
      "[INFO 08-08 02:14:14] ax.service.managed_loop: Running optimization trial 59...\n"
     ]
    },
    {
     "name": "stdout",
     "output_type": "stream",
     "text": [
      "{'batch_size': 20, 'filter1': 49, 'filter2': 47, 'main_kernel': 23, 'receptive_layers': 0, 'lr': 0.00010817167810888903, 'dropout': 0.33586285518460557, 'fc_out': 27, 'weight_decay': 0.0003786583448341615}\n",
      "----------------------------------------------------------------\n",
      "        Layer (type)               Output Shape         Param #\n",
      "================================================================\n",
      "            Conv2d-1           [-1, 49, 4, 128]           4,557\n",
      "              ReLU-2           [-1, 49, 4, 128]               0\n",
      "            Conv2d-3           [-1, 47, 4, 128]           6,956\n",
      "              ReLU-4           [-1, 47, 4, 128]               0\n",
      "         MaxPool2d-5            [-1, 47, 4, 64]               0\n",
      "           Dropout-6                [-1, 12032]               0\n",
      "            Linear-7                   [-1, 27]         324,891\n",
      "            Linear-8                    [-1, 6]             168\n",
      "           Softmax-9                    [-1, 6]               0\n",
      "================================================================\n",
      "Total params: 336,572\n",
      "Trainable params: 336,572\n",
      "Non-trainable params: 0\n",
      "----------------------------------------------------------------\n",
      "Input size (MB): 0.02\n",
      "Forward/backward pass size (MB): 0.93\n",
      "Params size (MB): 1.28\n",
      "Estimated Total Size (MB): 2.24\n",
      "----------------------------------------------------------------\n"
     ]
    },
    {
     "data": {
      "application/vnd.jupyter.widget-view+json": {
       "model_id": "",
       "version_major": 2,
       "version_minor": 0
      },
      "text/plain": [
       "HBox(children=(IntProgress(value=0, max=30), HTML(value='')))"
      ]
     },
     "metadata": {},
     "output_type": "display_data"
    },
    {
     "name": "stderr",
     "output_type": "stream",
     "text": [
      "[INFO 08-08 02:17:08] ax.service.managed_loop: Running optimization trial 60...\n"
     ]
    },
    {
     "name": "stdout",
     "output_type": "stream",
     "text": [
      "{'batch_size': 69, 'filter1': 126, 'filter2': 6, 'main_kernel': 30, 'receptive_layers': 0, 'lr': 1.401077185767605e-06, 'dropout': 0.3558006492337431, 'fc_out': 20, 'weight_decay': 0.0002853040032910957}\n",
      "----------------------------------------------------------------\n",
      "        Layer (type)               Output Shape         Param #\n",
      "================================================================\n",
      "            Conv2d-1          [-1, 126, 4, 128]          15,246\n",
      "              ReLU-2          [-1, 126, 4, 128]               0\n",
      "            Conv2d-3            [-1, 6, 4, 128]           2,274\n",
      "              ReLU-4            [-1, 6, 4, 128]               0\n",
      "         MaxPool2d-5             [-1, 6, 4, 64]               0\n",
      "           Dropout-6                 [-1, 1536]               0\n",
      "            Linear-7                   [-1, 20]          30,740\n",
      "            Linear-8                    [-1, 6]             126\n",
      "           Softmax-9                    [-1, 6]               0\n",
      "================================================================\n",
      "Total params: 48,386\n",
      "Trainable params: 48,386\n",
      "Non-trainable params: 0\n",
      "----------------------------------------------------------------\n",
      "Input size (MB): 0.02\n",
      "Forward/backward pass size (MB): 1.05\n",
      "Params size (MB): 0.18\n",
      "Estimated Total Size (MB): 1.26\n",
      "----------------------------------------------------------------\n"
     ]
    },
    {
     "data": {
      "application/vnd.jupyter.widget-view+json": {
       "model_id": "",
       "version_major": 2,
       "version_minor": 0
      },
      "text/plain": [
       "HBox(children=(IntProgress(value=0, max=30), HTML(value='')))"
      ]
     },
     "metadata": {},
     "output_type": "display_data"
    },
    {
     "name": "stderr",
     "output_type": "stream",
     "text": [
      "[INFO 08-08 02:19:52] ax.service.managed_loop: Running optimization trial 61...\n"
     ]
    },
    {
     "name": "stdout",
     "output_type": "stream",
     "text": [
      "{'batch_size': 41, 'filter1': 44, 'filter2': 6, 'main_kernel': 35, 'receptive_layers': 0, 'lr': 1.3783338518013295e-06, 'dropout': 0.33840440575651154, 'fc_out': 25, 'weight_decay': 0.08260791405694377}\n",
      "----------------------------------------------------------------\n",
      "        Layer (type)               Output Shape         Param #\n",
      "================================================================\n",
      "            Conv2d-1           [-1, 44, 4, 128]           6,204\n",
      "              ReLU-2           [-1, 44, 4, 128]               0\n",
      "            Conv2d-3            [-1, 6, 4, 128]             798\n",
      "              ReLU-4            [-1, 6, 4, 128]               0\n",
      "         MaxPool2d-5             [-1, 6, 4, 64]               0\n",
      "           Dropout-6                 [-1, 1536]               0\n",
      "            Linear-7                   [-1, 25]          38,425\n",
      "            Linear-8                    [-1, 6]             156\n",
      "           Softmax-9                    [-1, 6]               0\n",
      "================================================================\n",
      "Total params: 45,583\n",
      "Trainable params: 45,583\n",
      "Non-trainable params: 0\n",
      "----------------------------------------------------------------\n",
      "Input size (MB): 0.02\n",
      "Forward/backward pass size (MB): 0.41\n",
      "Params size (MB): 0.17\n",
      "Estimated Total Size (MB): 0.61\n",
      "----------------------------------------------------------------\n"
     ]
    },
    {
     "data": {
      "application/vnd.jupyter.widget-view+json": {
       "model_id": "",
       "version_major": 2,
       "version_minor": 0
      },
      "text/plain": [
       "HBox(children=(IntProgress(value=0, max=30), HTML(value='')))"
      ]
     },
     "metadata": {},
     "output_type": "display_data"
    },
    {
     "name": "stderr",
     "output_type": "stream",
     "text": [
      "[INFO 08-08 02:22:26] ax.service.managed_loop: Running optimization trial 62...\n"
     ]
    },
    {
     "name": "stdout",
     "output_type": "stream",
     "text": [
      "{'batch_size': 26, 'filter1': 61, 'filter2': 7, 'main_kernel': 30, 'receptive_layers': 1, 'lr': 1e-06, 'dropout': 0.3460452138335851, 'fc_out': 8, 'weight_decay': 0.1}\n",
      "----------------------------------------------------------------\n",
      "        Layer (type)               Output Shape         Param #\n",
      "================================================================\n",
      "            Conv2d-1           [-1, 61, 4, 128]           7,381\n",
      "              ReLU-2           [-1, 61, 4, 128]               0\n",
      "            Conv2d-3            [-1, 7, 4, 128]           1,288\n",
      "              ReLU-4            [-1, 7, 4, 128]               0\n",
      "            Conv2d-5            [-1, 7, 4, 128]             154\n",
      "              ReLU-6            [-1, 7, 4, 128]               0\n",
      "         MaxPool2d-7             [-1, 7, 4, 64]               0\n",
      "           Dropout-8                 [-1, 1792]               0\n",
      "            Linear-9                    [-1, 8]          14,344\n",
      "           Linear-10                    [-1, 6]              54\n",
      "          Softmax-11                    [-1, 6]               0\n",
      "================================================================\n",
      "Total params: 23,221\n",
      "Trainable params: 23,221\n",
      "Non-trainable params: 0\n",
      "----------------------------------------------------------------\n",
      "Input size (MB): 0.02\n",
      "Forward/backward pass size (MB): 0.61\n",
      "Params size (MB): 0.09\n",
      "Estimated Total Size (MB): 0.73\n",
      "----------------------------------------------------------------\n"
     ]
    },
    {
     "data": {
      "application/vnd.jupyter.widget-view+json": {
       "model_id": "",
       "version_major": 2,
       "version_minor": 0
      },
      "text/plain": [
       "HBox(children=(IntProgress(value=0, max=30), HTML(value='')))"
      ]
     },
     "metadata": {},
     "output_type": "display_data"
    },
    {
     "name": "stderr",
     "output_type": "stream",
     "text": [
      "[INFO 08-08 02:25:15] ax.service.managed_loop: Running optimization trial 63...\n"
     ]
    },
    {
     "name": "stdout",
     "output_type": "stream",
     "text": [
      "{'batch_size': 169, 'filter1': 69, 'filter2': 17, 'main_kernel': 32, 'receptive_layers': 1, 'lr': 1.9997790880445e-06, 'dropout': 0.32393388055570704, 'fc_out': 19, 'weight_decay': 0.013953169981186002}\n",
      "----------------------------------------------------------------\n",
      "        Layer (type)               Output Shape         Param #\n",
      "================================================================\n",
      "            Conv2d-1           [-1, 69, 4, 128]           8,901\n",
      "              ReLU-2           [-1, 69, 4, 128]               0\n",
      "            Conv2d-3           [-1, 17, 4, 128]           3,536\n",
      "              ReLU-4           [-1, 17, 4, 128]               0\n",
      "            Conv2d-5           [-1, 17, 4, 128]             884\n",
      "              ReLU-6           [-1, 17, 4, 128]               0\n",
      "         MaxPool2d-7            [-1, 17, 4, 64]               0\n",
      "           Dropout-8                 [-1, 4352]               0\n",
      "            Linear-9                   [-1, 19]          82,707\n",
      "           Linear-10                    [-1, 6]             120\n",
      "          Softmax-11                    [-1, 6]               0\n",
      "================================================================\n",
      "Total params: 96,148\n",
      "Trainable params: 96,148\n",
      "Non-trainable params: 0\n",
      "----------------------------------------------------------------\n",
      "Input size (MB): 0.02\n",
      "Forward/backward pass size (MB): 0.87\n",
      "Params size (MB): 0.37\n",
      "Estimated Total Size (MB): 1.26\n",
      "----------------------------------------------------------------\n"
     ]
    },
    {
     "data": {
      "application/vnd.jupyter.widget-view+json": {
       "model_id": "",
       "version_major": 2,
       "version_minor": 0
      },
      "text/plain": [
       "HBox(children=(IntProgress(value=0, max=30), HTML(value='')))"
      ]
     },
     "metadata": {},
     "output_type": "display_data"
    },
    {
     "name": "stderr",
     "output_type": "stream",
     "text": [
      "[INFO 08-08 02:27:50] ax.service.managed_loop: Running optimization trial 64...\n"
     ]
    },
    {
     "name": "stdout",
     "output_type": "stream",
     "text": [
      "{'batch_size': 47, 'filter1': 94, 'filter2': 6, 'main_kernel': 31, 'receptive_layers': 1, 'lr': 1.3925546320234054e-06, 'dropout': 0.34909488036217795, 'fc_out': 9, 'weight_decay': 0.03957175620141483}\n",
      "----------------------------------------------------------------\n",
      "        Layer (type)               Output Shape         Param #\n",
      "================================================================\n",
      "            Conv2d-1           [-1, 94, 4, 128]          11,750\n",
      "              ReLU-2           [-1, 94, 4, 128]               0\n",
      "            Conv2d-3            [-1, 6, 4, 128]           1,698\n",
      "              ReLU-4            [-1, 6, 4, 128]               0\n",
      "            Conv2d-5            [-1, 6, 4, 128]             114\n",
      "              ReLU-6            [-1, 6, 4, 128]               0\n",
      "         MaxPool2d-7             [-1, 6, 4, 64]               0\n",
      "           Dropout-8                 [-1, 1536]               0\n",
      "            Linear-9                    [-1, 9]          13,833\n",
      "           Linear-10                    [-1, 6]              60\n",
      "          Softmax-11                    [-1, 6]               0\n",
      "================================================================\n",
      "Total params: 27,455\n",
      "Trainable params: 27,455\n",
      "Non-trainable params: 0\n",
      "----------------------------------------------------------------\n",
      "Input size (MB): 0.02\n",
      "Forward/backward pass size (MB): 0.85\n",
      "Params size (MB): 0.10\n",
      "Estimated Total Size (MB): 0.98\n",
      "----------------------------------------------------------------\n"
     ]
    },
    {
     "data": {
      "application/vnd.jupyter.widget-view+json": {
       "model_id": "",
       "version_major": 2,
       "version_minor": 0
      },
      "text/plain": [
       "HBox(children=(IntProgress(value=0, max=30), HTML(value='')))"
      ]
     },
     "metadata": {},
     "output_type": "display_data"
    },
    {
     "name": "stderr",
     "output_type": "stream",
     "text": [
      "[INFO 08-08 02:30:39] ax.service.managed_loop: Running optimization trial 65...\n"
     ]
    },
    {
     "name": "stdout",
     "output_type": "stream",
     "text": [
      "{'batch_size': 14, 'filter1': 35, 'filter2': 8, 'main_kernel': 13, 'receptive_layers': 1, 'lr': 1.8652510411725962e-06, 'dropout': 0.35065315461170066, 'fc_out': 31, 'weight_decay': 0.008847086192454456}\n",
      "----------------------------------------------------------------\n",
      "        Layer (type)               Output Shape         Param #\n",
      "================================================================\n",
      "            Conv2d-1           [-1, 35, 4, 128]           1,855\n",
      "              ReLU-2           [-1, 35, 4, 128]               0\n",
      "            Conv2d-3            [-1, 8, 4, 128]             848\n",
      "              ReLU-4            [-1, 8, 4, 128]               0\n",
      "            Conv2d-5            [-1, 8, 4, 128]             200\n",
      "              ReLU-6            [-1, 8, 4, 128]               0\n",
      "         MaxPool2d-7             [-1, 8, 4, 64]               0\n",
      "           Dropout-8                 [-1, 2048]               0\n",
      "            Linear-9                   [-1, 31]          63,519\n",
      "           Linear-10                    [-1, 6]             192\n",
      "          Softmax-11                    [-1, 6]               0\n",
      "================================================================\n",
      "Total params: 66,614\n",
      "Trainable params: 66,614\n",
      "Non-trainable params: 0\n",
      "----------------------------------------------------------------\n",
      "Input size (MB): 0.02\n",
      "Forward/backward pass size (MB): 0.43\n",
      "Params size (MB): 0.25\n",
      "Estimated Total Size (MB): 0.71\n",
      "----------------------------------------------------------------\n"
     ]
    },
    {
     "data": {
      "application/vnd.jupyter.widget-view+json": {
       "model_id": "2870bb485d5646b1b0eba35c020d3d0d",
       "version_major": 2,
       "version_minor": 0
      },
      "text/plain": [
       "HBox(children=(IntProgress(value=0, max=30), HTML(value='')))"
      ]
     },
     "metadata": {},
     "output_type": "display_data"
    }
   ],
   "source": [
    "best_params, values, experiment, model = optimize(\n",
    "    parameters=[\n",
    "        {\"name\": \"batch_size\", \"type\": \"range\", \"bounds\": [10, 1000], \"log_scale\": True},\n",
    "        {\"name\": \"filter1\", \"type\": \"range\", \"bounds\": [4, 256], \"log_scale\": True},\n",
    "        {\"name\": \"filter2\", \"type\": \"range\", \"bounds\": [4, 256], \"log_scale\": True},\n",
    "        {\"name\": \"main_kernel\", \"type\": \"range\", \"bounds\": [8, 40]},\n",
    "        {\"name\": \"receptive_layers\", \"type\": \"range\", \"bounds\": [0, 1]},\n",
    "        {\"name\": \"lr\", \"type\": \"range\", \"bounds\": [1e-6, 0.01], \"log_scale\": True},\n",
    "        {\"name\": \"dropout\", \"type\": \"range\", \"bounds\": [0.1, 0.5]},  \n",
    "        {\"name\": \"fc_out\", \"type\": \"range\", \"bounds\": [6, 32], \"log_scale\": True},\n",
    "        {\"name\": \"weight_decay\", \"type\": \"range\", \"bounds\": [1e-4, 0.1], \"log_scale\": True}\n",
    "    ],\n",
    "    evaluation_function=train_evaluate,\n",
    "    objective_name='accuracy',\n",
    "    total_trials=300)"
   ]
  },
  {
   "cell_type": "code",
   "execution_count": null,
   "metadata": {},
   "outputs": [],
   "source": [
    "best_params"
   ]
  },
  {
   "cell_type": "code",
   "execution_count": null,
   "metadata": {},
   "outputs": [],
   "source": [
    "means, covariances = values\n",
    "means, covariances"
   ]
  },
  {
   "cell_type": "code",
   "execution_count": null,
   "metadata": {},
   "outputs": [],
   "source": [
    "render(interact_contour(model=model, metric_name='accuracy'))"
   ]
  },
  {
   "cell_type": "markdown",
   "metadata": {},
   "source": [
    "## Check to see if model accuracy improves as we identify better hyperparameters"
   ]
  },
  {
   "cell_type": "code",
   "execution_count": null,
   "metadata": {},
   "outputs": [],
   "source": [
    "# `plot_single_method` expects a 2-d array of means, because it expects to average means from multiple \n",
    "# optimization runs, so we wrap out best objectives array in another array.\n",
    "best_objectives = np.array([[trial.objective_mean*100 for trial in experiment.trials.values()]])\n",
    "best_objective_plot = optimization_trace_single_method(\n",
    "    y=np.maximum.accumulate(best_objectives, axis=1),\n",
    "    title=\"Model performance vs. # of iterations\",\n",
    "    ylabel=\"Classification Accuracy, %\",\n",
    ")\n",
    "render(best_objective_plot)"
   ]
  },
  {
   "cell_type": "code",
   "execution_count": null,
   "metadata": {},
   "outputs": [],
   "source": []
  }
 ],
 "metadata": {
  "kernelspec": {
   "display_name": "Environment (conda_pytorch_p36)",
   "language": "python",
   "name": "conda_pytorch_p36"
  },
  "language_info": {
   "codemirror_mode": {
    "name": "ipython",
    "version": 3
   },
   "file_extension": ".py",
   "mimetype": "text/x-python",
   "name": "python",
   "nbconvert_exporter": "python",
   "pygments_lexer": "ipython3",
   "version": "3.6.5"
  }
 },
 "nbformat": 4,
 "nbformat_minor": 4
}
